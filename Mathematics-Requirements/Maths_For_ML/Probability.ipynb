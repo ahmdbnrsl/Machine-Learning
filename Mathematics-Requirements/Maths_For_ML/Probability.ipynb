{
  "nbformat": 4,
  "nbformat_minor": 0,
  "metadata": {
    "colab": {
      "provenance": [],
      "gpuType": "T4",
      "include_colab_link": true
    },
    "kernelspec": {
      "name": "python3",
      "display_name": "Python 3"
    },
    "language_info": {
      "name": "python"
    },
    "accelerator": "GPU"
  },
  "cells": [
    {
      "cell_type": "markdown",
      "metadata": {
        "id": "view-in-github",
        "colab_type": "text"
      },
      "source": [
        "<a href=\"https://colab.research.google.com/github/ahmdbnrsl/Machine-Learning/blob/main/Mathematics-Requirements/Maths_For_ML/Probability.ipynb\" target=\"_parent\"><img src=\"https://colab.research.google.com/assets/colab-badge.svg\" alt=\"Open In Colab\"/></a>"
      ]
    },
    {
      "cell_type": "markdown",
      "source": [
        "# $$\\sum\\\\[1cm]\n",
        "\\left\\{\\text{ SIG}\\Sigma\\text{MATHS }\\right\\}$$"
      ],
      "metadata": {
        "id": "fS-Yu-ArSypT"
      }
    },
    {
      "cell_type": "markdown",
      "source": [
        "**PROBABILITY**\n",
        "\n",
        "**1. Ruang Sampel dan Peristiwa**\n",
        "\n",
        "Inti dari setiap experimen acak adalah (seperti melempar dadu da koin) adalah **Ruang Sampel** (dinotasikan dengan $\\Omega$), Ruang Sampel adalah sebuah himpunan semua kemungkinan hasil yang bisa terjadi. contoh, Melempar koin yang mempunyai dua sisi, yang berarti kemungkinan himpunan hasil yang bisa terjadi adalah $\\left\\{\\text{Angka, Gambar}\\right\\}$, misal sebuah dadu $\\Rightarrow \\left\\{\\text{1, 2, 3, 4, 5, 6}\\right\\}$\\\n",
        "Dari ruang sampel ini, kita tertarik pada peristiwa (Events), yaitu himpunan bagian dari $\\Omega$ yang ingin kita ukur kemungkinannya. **Peristiwa(A)**: ini adalah hasil spesifik atau kumpulan hasil, contoh dadu: Jika peristiwa A adalah munculnya angka ganjil, maka $A = \\left\\{1, 3, 5\\right\\}$\n",
        "\n",
        "**2. Ukuran Probabilitas dan Aturan Mainnya**\n",
        "\n",
        "Untuk mengukur kemungkinan terjadinya sebuah peristiwa, kita menggunakan Ukuran Probabilitas (dinotasikan dengan $P$). Ini adalah sebuah fungsi yang memberikan nilai antara 0 (Tidak mungkin terjadi) dan 1 (Pasti terjadi) pada setiap peristiwa, Fungsi probabilitas ini harus memenuhi 2 aturan dasar aksioma:\n",
        "- $P(\\Omega) = 1$\\\n",
        "Ariy=nya, probabilitas bahwa salah satu dari semua kemungk9inan hasil akan terjadi adalah 1 (100%). Ini Logis, karena saat melempar dadu, hasilnya pasti salah satu dari angka 1 sampai 6.\n",
        "- **Aditivitas Terhitung (_Countable Additivity_)**\\\n",
        "Jika memiliki serangkaian peristiwa yang saling lepas (disjoint), artinya tidak ada hasil yang sama diantara mereka (tidak bisa terjadi bersamaan), maka probabilitas gabungan dari peistiwa-peristiwa tersebut adalah jumlah dari probabilitas masing-masing.\n",
        "  - contoh dadu: Peristiwa muncul angka 1 dan peristiwa muncul angka 3 adalah saling lepas. maka, probabilitas muncul angka 1 atau 3 adalah: $$P(\\{1\\} \\cup P(\\{3\\}) = P(\\{1\\}) + P(\\{3\\}) = \\frac{1}{6} + \\frac{1}{6} = \\frac{2}{6}$$\n",
        "\n",
        "**3. Ruang Probabilitas dan Isitilah Penting**\n",
        "\n",
        "- **Ruang Probabilitas**: Gabungan dari tiga komponen: Ruang Sampel $(Ω)$, himpunan semua peristiwa $(F)$, dan Ukuran Probabilitas (P), yang ditulis sebagai $(Ω,F,P)$. Ini adalah kerangka kerja lengkap untuk setiap masalah probabilitas.\n",
        "- **Almost Surely (Hampir Pasti)**: Jika probabilitas sebuah peristiwa adalah 1 $(P(A)=1)$, kita katakan peristiwa $A$ terjadi hampir pasti.\n",
        "- **Almost Never (Hampir Tidak Pernah)**: Sebaliknya, jika probabilitas sebuah peristiwa adalah 0 $(P(A)=0)$, kita katakan peristiwa $A$ hampir tidak pernah terjadi.\n",
        "\n",
        "**4. Rumus Umum Probabilitas**\n",
        "\n",
        "$$P(A) = \\frac{B}{n}$$\n",
        "- $A \\rightarrow$ Peristiwa\n",
        "- $B \\rightarrow$ Jumlah yang diinginkan\n",
        "- $n \\rightarrow$ Jumlah total semua hasil yang mungkin\n",
        "\n",
        "Misalkan ada berapa kemungkinan muncul angka ganjil pada sistem pengacak angka antara 1 sampai 10"
      ],
      "metadata": {
        "id": "FMhX2P2MU4ui"
      }
    },
    {
      "cell_type": "code",
      "source": [
        "odd = []\n",
        "for i in range(1, 11):\n",
        "  if i % 2 != 0: odd.append(i)\n",
        "print(odd, len(odd))"
      ],
      "metadata": {
        "colab": {
          "base_uri": "https://localhost:8080/"
        },
        "id": "KCyfC1dOfLNM",
        "outputId": "7971e932-58c5-4d7b-9f7b-3272395924b1"
      },
      "execution_count": null,
      "outputs": [
        {
          "output_type": "stream",
          "name": "stdout",
          "text": [
            "[1, 3, 5, 7, 9] 5\n"
          ]
        }
      ]
    },
    {
      "cell_type": "markdown",
      "source": [
        "Himpunan angka ganjilnya adalah , kita masukin ini sebagai **Event** $\\Rightarrow \\{1, 3, 5, 7, 9\\}$:\n",
        "- $A = \\{1, 3, 5, 7, 9\\}$\n",
        "- $B = 5$\n",
        "- $n = 10$\n",
        "\n",
        "Susun Rumusnya:\n",
        "\n",
        "$$P(A) = \\frac{B}{n} = P(\\{1, 3, 5, 7, 9\\}) = \\frac{5}{10} = \\frac{1}{2}$$"
      ],
      "metadata": {
        "id": "QU0EoTUWfemZ"
      }
    },
    {
      "cell_type": "code",
      "source": [
        "import numpy as np\n",
        "\n",
        "odd, even = [], []\n",
        "\n",
        "for i in range(1000):\n",
        "  number = np.random.randint(1, 10)\n",
        "  odd.append(number) if number % 2 != 0 else even.append(number)\n",
        "\n",
        "round(len(odd)/len(odd + even), 2) # angka kemungkinannya, ini sangat mendekati 1/2"
      ],
      "metadata": {
        "colab": {
          "base_uri": "https://localhost:8080/"
        },
        "id": "zKW-Mxfdg7a7",
        "outputId": "753b3dbb-f83b-4cb3-808c-12036169ece8"
      },
      "execution_count": null,
      "outputs": [
        {
          "output_type": "execute_result",
          "data": {
            "text/plain": [
              "0.55"
            ]
          },
          "metadata": {},
          "execution_count": 74
        }
      ]
    },
    {
      "cell_type": "markdown",
      "source": [
        "**Contoh Kasus**\n",
        "\n",
        "Sebuah kantong berisi 10 kelereng dengan warna yang berbeda:\n",
        "- 5 kelereng merah\n",
        "- 3 kelereng biru\n",
        "- 2 kelereng hijau\n",
        "\n",
        "1. Jika diambil 1 kelereng dari kantong tersebut, berapa probabilitas kelereng itu berwarna biru?\\\n",
        "Hasil yang diinginkan: Kelereng berwarna biru $\\Rightarrow 3$ butir.\\\n",
        "Total Kelereng $\\Rightarrow 10$\\\n",
        "Peristiwa: Kelereng berwarna biru\n",
        "\n",
        "$$P(A) = \\frac{3}{10} = 0.3$$\n",
        "\n",
        "2. Berapa Probabilitas terambil kelereng Merah atau Hijau?\n",
        "- Kelereng Merah $\\Rightarrow 5$\n",
        "- Kelereng Hijau $\\Rightarrow 2$\n",
        "- Total Kelereng $\\Rightarrow 10$\\\n",
        "$$P(5 \\cup 2) = P(5) + P(2) = \\frac{5 + 2}{10} = \\frac{7}{10} = 0.7$$\n",
        "3. Berapa Probabilitas terambil kelereng Bukan Hijau?\n",
        "- Kelereng Hijau $\\Rightarrow 2$\n",
        "- Total Kelereng $\\Rightarrow 10$\\\n",
        "$$P(\\bar{A}) = 1 - P(A) \\Rightarrow P(\\bar{A}) = 1 - \\frac{2}{10} = \\frac{8}{10} = 0.8$$"
      ],
      "metadata": {
        "id": "uMrvgyrowJro"
      }
    },
    {
      "cell_type": "markdown",
      "source": [
        "**Proposition**\n",
        "\n",
        "1. Probabilitas komplemen, atau probabilitas yang bukan peristiwa, dirumuskan sebagai $P(\\bar{A}) = 1 - P(A)$\n",
        "2. Jika suatu himpunan dari suatu peristiwa, merupakan bagian dari himpunan yang lebih besar dari suatu peristiwa, misal $A$ adalah peristiwa terambil dadu dengan angka genap, dan $B$ peristiwa kartu yaang terambil dengan angka genap dan habis dibagi $3$, dinotasikan sebagai $B \\subseteq A$, $P(A) = \\frac{3}{6} = \\frac{1}{2},\\ P(B) = \\frac{1}{6}$, maka dinyatakan probabiltas dari peristiwa $B$ pasti lebih kecil atau samadengan $A$\n",
        "3. Probabilitas dari peristiwa apapun selalu berada di antara 0 dan 1, $P(\\emptyset) \\le P(A) \\le P(\\Omega)$, mengapa demikian karena probabilitas umumnya dirumuskan sebagai $\\frac{\\text{hasil yang diinginkan}}{\\text{total sampel}}$, Jumlah dari hasil yang diinginkan tidak akan pernah negatif dan tidak akan pernah lebih dari total sampel, maka proposisi ini benar adanya."
      ],
      "metadata": {
        "id": "vSL7jSZj6o8w"
      }
    },
    {
      "cell_type": "markdown",
      "source": [
        "**Proposition**\n",
        "\n",
        "Probabilitas bahwa peristiwa A ATAU B terjadi adalah probabilitas A ditambah probabilitas B, dikurangi probabilitas keduanya terjadi bersamaan.\n",
        "\n",
        "contoh dalam satu kelas terdiri dari 30 siswa, 16 diantaranya suka jeruk, 12 diantaranya suka apel, 8 diantaranya suka keduanya, maka probabilitas siswa yang suka jeruk atau apel di rumuskan sebagai:\n",
        "\n",
        "$P(\\text{jeruk} \\cup \\text{apel}) = P(\\text{jeruk}) + P(\\text{apel}) - P(\\text{jeruk}\\cap\\text{apel})$\n",
        "\n",
        "- $P(\\text{jeruk}) = \\frac{16}{30}$\n",
        "- $P(\\text{apel}) = \\frac{12}{30}$\n",
        "- $P(\\text{jeruk}\\cap\\text{apel}) = \\frac{8}{30}$\n",
        "\n",
        "$\\Rightarrow \\frac{16}{30} + \\frac{12}{30} - \\frac{8}{30} = \\frac{2}{3}$\n",
        "\n",
        "Bedah rumus $P(A \\cup B) = P(A) + P(B) - P(A \\cap B)$\n",
        "\n",
        "Jika kita artikan \"Probabilitas dari peristiwa $A$ atau $B$ adalah probabilitas peristiwa $A$ ditambah probabilitas peristiwa $B$ dikurangi probabilitas peristiwa $A$ dan $B$ yang terjadi bersamaan\".\n",
        "\n",
        "Pembuktian rumus:\n",
        "\n",
        "- pecah $P(A \\cup B)$ menjadi 3 bagian\n",
        "1. bagian yang hanya ada di $A\\ (A \\text{\\\\} B)$\n",
        "\n",
        "2. bagian yang hanya ada di $B\\ (B \\text{\\\\} A)$\n",
        "\n",
        "3. bagian irisan arau yang ada di keduanya $(A \\cap B)$\n",
        "- nyatakan bahwa gabungan $A$ dan $B$ adalah gabungan dari ketiga pecahan tadi.\n",
        "\n",
        "$$P(A \\cup B) = (P(A \\cap B) \\cup P(A \\text{\\\\} B) \\cup P(B \\text{\\\\} A))$$\n",
        "\n",
        "Jika ketiga bagian itu saling lepas kita bisa menggunakan aditivitas atau penjumlahan ketigannya\n",
        "\n",
        "$$P(A \\cup B) = P(A \\cap B) + P(A \\text{\\\\} B) + P(B \\text{\\\\} A)$$\n",
        "\n",
        "- tulis ulang $P(A \\text{\\\\} B)$ dan $P(B \\text{\\\\} A)$ dengan trik cerdas:\n",
        "\n",
        "kita tahu bahwa $\\rightarrow$\n",
        "\n",
        "- $P(A) = P(A \\text{\\\\} B) + P(A \\cap B)$ maka kita bisa tuliskan $P(A \\text{\\\\} B) = P(A) - P(A \\cap B)$\n",
        "\n",
        "- $P(B) = P(B \\text{\\\\} A) + P(A \\cap B)$ maka kita bisa tuliskan $P(B \\text{\\\\} A) = P(B) - P(A \\cap B)$\n",
        "\n",
        "- subtitusikan hasil tulis ulang tadi ke persamaan awal:\n",
        "\n",
        "$$P(A \\cup B) = P(A \\cap B) + [P(A) - P(A \\cap B)] + [P(B) - P(A \\cap B)]$$\n",
        "\n",
        "dari hasil diatas $-P(A \\cap B)$ bisa saling menghilangkan, maka rumusnya menjadi $\\Rightarrow P(A \\cup B) = P(A) + P(B) - P(A \\cap B)$"
      ],
      "metadata": {
        "id": "9oHE5Z6qv4By"
      }
    },
    {
      "cell_type": "markdown",
      "source": [
        "**Boole Inequality**\n",
        "\n",
        "Pertidaksamaan boole di tuliskan sebagai $\\Rightarrow P(A \\cup B) \\le P(A) + P(B)$\n",
        "\n",
        "Contoh kasus:"
      ],
      "metadata": {
        "id": "NRplgLM2Ki4F"
      }
    },
    {
      "cell_type": "code",
      "source": [
        "type = [\n",
        "    \"AS\", \"2\", \"3\", \"4\", \"5\", \"6\", \"7\", \"8\", \"9\", \"10\", \"Jack\", \"Queen\", \"King\"\n",
        "]\n",
        "\n",
        "deck = []\n",
        "for i in [\"Waru\", \"Love\", \"Keriting\", \"Lapis\"]:\n",
        "    for j in type:\n",
        "        deck.append(f\"{i}_{j}\")\n",
        "\n",
        "'''\n",
        "Pembuktian bahwa P(A U B) ≤ P(A) + P(B)\n",
        "kali ini dalam kasus peluang terambilnya kartu love dan king\n",
        "'''\n",
        "\n",
        "# tentukan union bound\n",
        "# kita tentukan P(A) (Peluang terambilnya love) P(B) (Peluang terambilnya king)\n",
        "\n",
        "total_sample = len(deck)\n",
        "\n",
        "P_A = sum(1 if i.startswith('Love') else 0 for i in deck) / total_sample\n",
        "P_B = sum(1 if i.endswith('King') else 0 for i in deck) / total_sample\n",
        "\n",
        "union_bound = P_A + P_B\n",
        "\n",
        "# tentukan probabilitas sebenarnya dari peristiwa tadi\n",
        "# karena peristiwa kartu love dan king ada yang terjadi bersamaan, maka\n",
        "# rumusnya menjadi P(A) + P(B) - P(A n B)\n",
        "\n",
        "P_AB = sum(\n",
        "    1 if i.startswith('Love') and i.endswith('King') else 0 for i in deck\n",
        ") / total_sample\n",
        "\n",
        "probability = P_A + P_B - P_AB\n",
        "\n",
        "# Pembuktian Boole inequality P(A U B) ≤ P(A) + P(B)\n",
        "probability <= union_bound"
      ],
      "metadata": {
        "colab": {
          "base_uri": "https://localhost:8080/"
        },
        "id": "SwwH7_NBK8DX",
        "outputId": "45957a0d-47eb-47ee-831a-b4841144c47d"
      },
      "execution_count": null,
      "outputs": [
        {
          "output_type": "execute_result",
          "data": {
            "text/plain": [
              "True"
            ]
          },
          "metadata": {},
          "execution_count": 6
        }
      ]
    },
    {
      "cell_type": "markdown",
      "source": [
        "**5. Conditional Probability**\n",
        "\n",
        "Dirumuskan $\\Rightarrow P(A|B) = \\frac{P(A\\cap B)}{P(B)}$\n",
        "\n",
        "Contoh: Misalkan ada sebuah kotak yang berisi 72 bungkusan, yang masing-masing bungkusan berisi satu buah kelereng, masing-masing kelereng memiliki warna yang berbeda, diantaranya: merah, kuning, dan hijau. jumlah kelereng merah adalah 24, jumlah kelereng kuning adalah 36, dan jumlah kelereng hijau adalah 12.\n",
        "\n",
        "1. Temanmu mengambil satu buah kelereng dan meberikan informasi bahwa kelereng tersebut berwarna hijau atau merah, Hitung probabilitas terambilnya kelereng hijau yang ada di tangan temanmu\\\n",
        "Langkah-langkah:\n",
        "- cari probabilitas terambilnya kelereng hijau di ruang sampel awal kita (kotak) $\\Rightarrow P(A) = \\frac{12}{72} = \\frac{1}{6}$\n",
        "- cari probabilitas terambilnya kelereng merah atau hijau di ruang sampel awal kita (kotak) $\\Rightarrow P(B) = P(A) + \\frac{24}{72} = \\frac{1}{6} + \\frac{2}{6} = \\frac{1}{2}$\n",
        "- subtitusikan ke rumus $\\Rightarrow P(A|B) = \\frac{\\frac{1}{6}}{\\frac{1}{2}} = \\frac{1}{6}\\cdot 2 = \\frac{1}{3}$\\\n",
        "Jadi hasilnya adalah: $$\\boxed{\\frac{1}{3}}$$\n",
        "\n",
        "2. Bagaimana jika informasi dari temanmu menjadi berwarna merah atau kuning, berapa probabilitas terambilnya kelereng hijau yang ada di tangan temanmu?\\\n",
        "Jawabannya: adalah 0, karena kelereng hijau tidak ada dalam himpunan sampel yang ada di tangan temanmu maka probabilitasnya $\\frac{0}{\\Omega} = 0$\n",
        "3. Probabilitas terambilnya kelereng hijau di kotak saat sudah ada informasi di nomor 2, maka rumusnya menjadi $\\frac{12}{72 - 1} = \\frac{12}{71}$\n",
        "4.Probabilitas terambilnya kelereng hijau di kotak jika informasi di nomor 1 yang terjadi dapat dirumuskan dengan:\n",
        "- **Sekenario pertama:** Probabilitas temenmu mengambil kelereng hijau dalam himpunan hijau dan merah, di ketahui kelereng hijaunya 12, kelereng merahnya 24, maka total ruang sampelnya adalah 36, dan probabilitasnya adalah $\\frac{12}{36}$ atau $\\frac{1}{3}$\n",
        "- Probabilitasmu mengambil kelereng hijau ketika sekenario pertama terjadi, dapat dituliskan mirip seperti pada nomor 3 hanya saja jumlah kelereng hijaunya juga berkurang satu $\\frac{12 - 1}{72-1} = \\frac{11}{71}$\n",
        "- **Sekenario kedua:** Probabilitas temenmu mengambil kelereng merah dalam himpunan hijau dan merah, di ketahui kelereng 12, kelereng merahnya 24, maka total ruang sampelnya adalah 36, dan probabilitasnya adalah $\\frac{24}{36}$ atau $\\frac{2}{3}$\n",
        "- Probabilitasmu mengambil kelereng hijau ketika sekenario kedua terjadi, dapat dituliskan mirip seperti pada nomor 3 $\\frac{24}{72-1} = \\frac{24}{71}$\\\n",
        "Tuliskan rumusnya:\n",
        "$$(\\text{sekenario pertama}\\cdot \\text{peluang}) + (\\text{sekenario kedua}\\cdot \\text{peluang})\\\\\n",
        "\\left(\\frac{1}{3}\\cdot \\frac{11}{71}\\right) + \\left(\\frac{2}{3}\\cdot \\frac{12}{71}\\right) = \\frac{1}{3}\\left(2\\cdot \\frac{12}{71} + \\frac{11}{71}\\right) = \\frac{1}{3}\\left(\\frac{35}{71}\\right)\\\\\n",
        "\\Rightarrow \\boxed{\\frac{35}{213}}$$"
      ],
      "metadata": {
        "id": "MDcIk1P5DBYO"
      }
    },
    {
      "cell_type": "markdown",
      "source": [
        "**6. Chain Rule**\n",
        "\n",
        "Dirumuskan: $P(A \\cap B) = P(A|B)P(B)$\n",
        "- $P(A|B)\\Rightarrow$ Peristiwa setelah peristiwa $B$ terjadi"
      ],
      "metadata": {
        "id": "7ddDSSfMcFgM"
      }
    },
    {
      "cell_type": "code",
      "source": [
        "# contoh kasus\n",
        "type = [\n",
        "    \"AS\", \"2\", \"3\", \"4\", \"5\", \"6\", \"7\", \"8\", \"9\", \"10\", \"Jack\", \"Queen\", \"King\"\n",
        "]\n",
        "\n",
        "deck = []\n",
        "for i in [\"Waru\", \"Love\", \"Keriting\", \"Lapis\"]:\n",
        "    for j in type:\n",
        "        deck.append(f\"{i}_{j}\")\n",
        "\n",
        "'''\n",
        "Berapa peluang mendapatkan kartu dengan nomor 2 secara berturut-turut 2 kali?\n",
        "'''\n",
        "total_sample = len(deck)\n",
        "jumlah_2 = sum(1 if i.endswith('2') else 0 for i in deck)\n",
        "# hitung peluang pertama\n",
        "P_A = jumlah_2 / total_sample\n",
        "# hitung peluang kedua setelah terjadi A\n",
        "P_AB = (jumlah_2 - 1)/(total_sample - 1) * P_A\n",
        "P_AB, 4/52 * (3/51)"
      ],
      "metadata": {
        "colab": {
          "base_uri": "https://localhost:8080/"
        },
        "id": "KFkDlabGc7e-",
        "outputId": "072a337b-a633-4cbd-f757-6e94b3302da6"
      },
      "execution_count": null,
      "outputs": [
        {
          "output_type": "execute_result",
          "data": {
            "text/plain": [
              "(0.004524886877828055, 0.004524886877828055)"
            ]
          },
          "metadata": {},
          "execution_count": 3
        }
      ]
    },
    {
      "cell_type": "markdown",
      "source": [
        "**7. Bayes' Rule**\n",
        "\n",
        "Dirumuskan: $P(A|B) = \\frac{P(B|A)P(A)}{P(B)}$"
      ],
      "metadata": {
        "id": "tUzl8g1Cuwp8"
      }
    },
    {
      "cell_type": "code",
      "source": [
        "# Contoh kasus\n",
        "'''\n",
        "ada sebuah penyakit langka yang menyerang 1 dari 1000 orang\n",
        "di sebuah populasi. Ada sebuah tes untuk mendeteksi penyakit ini.\n",
        "Tes tersebut memiliki akurasi sebagai berikut :\n",
        "'''\n",
        "def percentage(number):\n",
        "    return number/100\n",
        "\n",
        "jumlah_populasi = 1000\n",
        "orang_sakit = 1\n",
        "\n",
        "# jika seseorang benar-benar sakit akurasi tes tersebut 99% positive\n",
        "true_positive = percentage(99)\n",
        "# jika seorang tersebut sehat maka akurasi tes tersebut 2% positive\n",
        "false_positive = percentage(2)\n",
        "\n",
        "# peluang benar2 sakit\n",
        "p_sakit = orang_sakit / jumlah_populasi\n",
        "# peluang benar2 sakit complement atau peluang sehat\n",
        "p_sehat = 1 - p_sakit\n",
        "\n",
        "# peluang total seorang mendapatkan tes positive baik sehat ataupun tidak\n",
        "# kita kalikan peluang sakit dengan akurasi tes nya posotive jika sakit\n",
        "p_s_positive = p_sakit * true_positive\n",
        "# kalikan peluang tidak sakit (sehat) dengan akurasi tes nya salah (positive)\n",
        "p_se_positive = p_sehat * false_positive\n",
        "# tambahkan keduanya untuk mendapatkan totalnya\n",
        "p_b = p_s_positive + p_se_positive\n",
        "\n",
        "'''\n",
        "Jika Anda mengambil tes ini dan hasilnya positif,\n",
        "berapa probabilitas Anda benar-benar sakit?\n",
        "'''\n",
        "# masukan semuanya ke rumus\n",
        "\"Peluang Anda benar-benar sakit saat hasil tes nya positive\", p_s_positive / p_b"
      ],
      "metadata": {
        "colab": {
          "base_uri": "https://localhost:8080/"
        },
        "id": "5EUG2o1Tv9YE",
        "outputId": "a10deef4-1322-4515-8ea5-14d10f7991c9"
      },
      "execution_count": null,
      "outputs": [
        {
          "output_type": "execute_result",
          "data": {
            "text/plain": [
              "('Peluang Anda benar-benar sakit saat hasil tes nya positive',\n",
              " 0.047210300429184546)"
            ]
          },
          "metadata": {},
          "execution_count": 4
        }
      ]
    },
    {
      "cell_type": "markdown",
      "source": [
        "**Contoh Kasus 2**\n",
        "\n",
        "Sebuah pabrik memiliki dua mesin, Mesin A dan Mesin B, yang memproduksi chip komputer.\n",
        "\n",
        "- Mesin A memproduksi 70% dari total chip.\n",
        "- Mesin B memproduksi 30% sisanya.\n",
        "- Tingkat kecacatan Mesin A adalah 1% (1% dari chip yang diproduksinya cacat).\n",
        "- Tingkat kecacatan Mesin B adalah 4% (4% dari chip yang diproduksinya cacat).\n",
        "\n",
        "Anda mengambil satu chip secara acak dari seluruh produksi dan menemukan bahwa chip tersebut cacat.\n",
        "\n",
        "Pertanyaannya: Berapa probabilitas bahwa chip cacat tersebut berasal dari Mesin A?"
      ],
      "metadata": {
        "id": "pmWQ65HG1ooM"
      }
    },
    {
      "cell_type": "code",
      "source": [
        "percentage = lambda number: number/100\n",
        "\n",
        "mesin_a = percentage(70)\n",
        "mesin_b = percentage(30)\n",
        "\n",
        "cacat_mesin_a = percentage(1)\n",
        "cacat_mesin_b = percentage(4)\n",
        "\n",
        "# total peluang chip cacat entah dari mesin b atau a\n",
        "total_chip_cacat = mesin_a * cacat_mesin_a + mesin_b * cacat_mesin_b\n",
        "\n",
        "# kemungkinan chip tersebut dari mesin a\n",
        "mesin_a * cacat_mesin_a / total_chip_cacat"
      ],
      "metadata": {
        "id": "24s8LPEd199d",
        "outputId": "193f89d2-84b5-4af7-c535-445cfadf7099",
        "colab": {
          "base_uri": "https://localhost:8080/"
        }
      },
      "execution_count": null,
      "outputs": [
        {
          "output_type": "execute_result",
          "data": {
            "text/plain": [
              "0.3684210526315789"
            ]
          },
          "metadata": {},
          "execution_count": 7
        }
      ]
    },
    {
      "cell_type": "markdown",
      "source": [
        "**7. Random Variable**\n",
        "\n",
        "Apa itu variable acak? Variable acak adalah sebuah variable untuk mengasumsikan sebuah intuisi yang rumit misal:\n",
        "\n",
        "Ada tiga buah dadu yang di lempar secara bersamaan, kita definisikan $X$ sebagai nilai minimum yang di dapat dalam sekali lempar 3 dadu\n",
        "\n",
        "pertanyaan: berapa probabilitas saat $X = 2$ atau $P(X = 2)$\n",
        "\n",
        "jawab:\n",
        "\n",
        "kita kembali ke ruang sampel kita untuk menghitung berapa total lemparan dadu yang menghasilkan nilai minimum 2"
      ],
      "metadata": {
        "id": "_-LZ0tJJ8rXV"
      }
    },
    {
      "cell_type": "code",
      "source": [
        "dadu = lambda: [i for i in range(1, 7)]\n",
        "\n",
        "def minimum(number):\n",
        "    if number > 6 or number < 1: return\n",
        "    calc = (len(dadu()) - number + 1) ** 3\n",
        "    if number == 6: return calc\n",
        "    return calc - minimum(number + 1)\n",
        "\n",
        "minimum(2)"
      ],
      "metadata": {
        "colab": {
          "base_uri": "https://localhost:8080/"
        },
        "id": "17dMqvq5_TKW",
        "outputId": "9a0319f1-3e8b-4204-a085-90d3f2c438f1"
      },
      "execution_count": null,
      "outputs": [
        {
          "output_type": "execute_result",
          "data": {
            "text/plain": [
              "81"
            ]
          },
          "metadata": {},
          "execution_count": 61
        }
      ]
    },
    {
      "cell_type": "markdown",
      "source": [
        "maka probabilitas nya adalah: $\\frac{81}{6^3} = \\frac{81}{216} = \\boxed{\\frac{3}{8}}$"
      ],
      "metadata": {
        "id": "6AAJMXqxP83M"
      }
    },
    {
      "cell_type": "markdown",
      "source": [
        "**8. Cumulative Distribution Function (CDF)**\n",
        "\n",
        "CDF adalah sebuah fungsi yang digunakan untuk menghitung probabilitas dari awal sampai ke akumulasi tertentu\n",
        "\n",
        "Definisi dasar: $F(x) = P(X ≤ x)$\n",
        "\n",
        "$X \\Rightarrow$ Random variable\n",
        "\n",
        "Contoh kasus:"
      ],
      "metadata": {
        "id": "l4n8SXqHl_O1"
      }
    },
    {
      "cell_type": "code",
      "source": [
        "type = [\n",
        "    \"AS\", \"2\", \"3\", \"4\", \"5\", \"6\", \"7\", \"8\", \"9\", \"10\", \"Jack\", \"Queen\", \"King\"\n",
        "]\n",
        "\n",
        "deck = []\n",
        "for i in [\"Waru\", \"Love\", \"Keriting\", \"Lapis\"]:\n",
        "    for j in type:\n",
        "        deck.append(f\"{i}_{j}\")\n",
        "\n",
        "'''\n",
        "Diberikan satu deck berisi 52 kartu lengkap tanpa joker (Ruang Sampel),\n",
        "diberi variabel X untuk mendefinisikan skor\n",
        "aturan skor:\n",
        "1. jika mengambil kartu as Love dan Lapis akan mendapatkan skor 16\n",
        "2. jika mengambil kartu dengan gambar king dan jenis keriting dan waru\n",
        "diberikan skor 8\n",
        "3. jika mengambil kartu dengan nomor genap akan mendapatkan skor 1\n",
        "tentukan P(1 < X ≤ 16)\n",
        "'''\n",
        "\n",
        "total = len(deck)\n",
        "# Langkah-langkah\n",
        "# tentukan probabilitas dari setiap X\n",
        "total_genap = sum(\n",
        "    1 if int(i[-1] if i[-1].isdigit() else 1) % 2 == 0 else 0 for i in deck\n",
        ")\n",
        "total_king_kw = sum(\n",
        "    1 if i.endswith('King') and i.startswith(('Keriting', 'Waru')) else 0 for i in deck\n",
        ")\n",
        "total_AS_ll = sum(\n",
        "    1 if i.endswith('AS') and i.startswith(('Love', 'Lapis')) else 0 for i in deck\n",
        ")\n",
        "\n",
        "# probabilitas X = 16\n",
        "p_x_16 = total_AS_ll / total\n",
        "# probabilitas X = 8\n",
        "p_x_8 = total_king_kw / total\n",
        "# probabilitas X = 1\n",
        "p_x_1 = total_genap / total\n",
        "\n",
        "# Definisikan CDF\n",
        "# P(X ≤ 1)\n",
        "p_x_le_1 = p_x_1\n",
        "# P(X ≤ 8)\n",
        "p_x_le_8 = p_x_8 + p_x_1\n",
        "# P(X ≤ 16)\n",
        "p_x_le_16 = p_x_16 + p_x_le_8\n",
        "\n",
        "# tentukan P(a < X ≤ b) = F(b) - F(a)\n",
        "F_b = p_x_le_16\n",
        "F_a = p_x_le_1\n",
        "\n",
        "result = F_b - F_a\n",
        "\n",
        "# Penggambaran\n",
        "(20 / 52 + 2/52 + 2/52) - (20 / 52), result"
      ],
      "metadata": {
        "colab": {
          "base_uri": "https://localhost:8080/"
        },
        "id": "JfhDP2xSB8X3",
        "outputId": "92c0f2e6-e525-498b-ff86-9e2c4da125ac"
      },
      "execution_count": null,
      "outputs": [
        {
          "output_type": "execute_result",
          "data": {
            "text/plain": [
              "(0.07692307692307693, 0.07692307692307693)"
            ]
          },
          "metadata": {},
          "execution_count": 1
        }
      ]
    },
    {
      "cell_type": "markdown",
      "source": [
        "$$\\text{Note: }P(a < X ≤ b) = F(b) - F(a)$$"
      ],
      "metadata": {
        "id": "ZNJnm9GaJUCC"
      }
    },
    {
      "cell_type": "markdown",
      "source": [
        "**9. Probability Mass Function (PMF)**\n",
        "\n",
        "Ini adalah variable acak diskrit, dimana variable ini adalah variable yang nilai nya memiliki celah, contoh: jumlah pelanggan, lemparan koin\n",
        "\n",
        "Contoh Kasus:"
      ],
      "metadata": {
        "id": "ofibmQf0V8GJ"
      }
    },
    {
      "cell_type": "code",
      "source": [
        "'''\n",
        "Anda melempar dua buah dadu bersisi enam yang seimbang.\n",
        "Kita definisikan Variabel Acak Diskrit X\n",
        "sebagai selisih absolut antara mata dadu pertama dan kedua.\n",
        "\n",
        "Misalnya, jika hasil lemparan adalah (2, 5),\n",
        "maka nilai X=∣2−5∣=3. Jika hasilnya (6, 1), maka nilai X=∣6−1∣=5.\n",
        "'''\n",
        "\n",
        "from collections import Counter as C\n",
        "dadu = 6 * 6\n",
        "\n",
        "# range dari semua kemungkinan X\n",
        "probability_count = []\n",
        "range_prob = set()\n",
        "for i in range(1, 7):\n",
        "    for j in range(1, 7):\n",
        "        range_prob.add(abs(i - j))\n",
        "        probability_count.append(abs(i - j))\n",
        "\n",
        "print(\"Range X: \", range_prob)\n",
        "probability_count.sort()\n",
        "print(\"Himpunan Semua Kemungkinan X: \\n\", probability_count)\n",
        "# Jumlahkan semua P(X = n)\n",
        "result = 0\n",
        "for i, e in C(probability_count).items():\n",
        "    print(f'P(X = {i}) = {e}/{dadu}')\n",
        "    result += e/dadu\n",
        "\n",
        "# hasil nya harus 1\n",
        "print(\"Hasilnya : \", result)"
      ],
      "metadata": {
        "colab": {
          "base_uri": "https://localhost:8080/"
        },
        "id": "akfegPRuWr-K",
        "outputId": "6dc62067-6b7b-4a47-cdbd-f9f41a703adc"
      },
      "execution_count": null,
      "outputs": [
        {
          "output_type": "stream",
          "name": "stdout",
          "text": [
            "Range X:  {0, 1, 2, 3, 4, 5}\n",
            "Himpunan Semua Kemungkinan X: \n",
            " [0, 0, 0, 0, 0, 0, 1, 1, 1, 1, 1, 1, 1, 1, 1, 1, 2, 2, 2, 2, 2, 2, 2, 2, 3, 3, 3, 3, 3, 3, 4, 4, 4, 4, 5, 5]\n",
            "P(X = 0) = 6/36\n",
            "P(X = 1) = 10/36\n",
            "P(X = 2) = 8/36\n",
            "P(X = 3) = 6/36\n",
            "P(X = 4) = 4/36\n",
            "P(X = 5) = 2/36\n",
            "Hasilnya :  1.0\n"
          ]
        }
      ]
    },
    {
      "cell_type": "markdown",
      "source": [
        "**10. Probability Density Function & Continues Random Variable**\n",
        "\n",
        "Variabel acak kontinu adalah variabel yang nilainya bisa berupa angka apa pun dalam suatu rentang. Karena ada tak terhingga banyaknya kemungkinan nilai, kita tidak bisa lagi mendaftarnya satu per satu.\n",
        "\n",
        "Contoh: Tinggi badan, berat badan, suhu, waktu.\n",
        "\n",
        "Ciri Utama: Di antara dua nilai yang mungkin, selalu ada kemungkinan nilai lain. Misalnya, antara tinggi 170 cm dan 171 cm, ada 170.5 cm, 170.51 cm, dan seterusnya.\n",
        "\n",
        "Karena ada tak terhingga banyaknya kemungkinan nilai, probabilitas untuk mendapatkan satu nilai yang persis sama (misalnya, tinggi badan tepat 170.0000... cm) secara teknis adalah nol.\n",
        "\n",
        "$$P(X=x)=0$$\n",
        "\n",
        "Oleh karena itu, kita tidak lagi menggunakan PMF yang memberikan \"massa\" probabilitas pada satu titik. Sebagai gantinya, kita menggunakan Probability Density Function (PDF), dinotasikan dengan $p(x)$.\n",
        "\n",
        "Poin paling penting untuk dipahami adalah:\n",
        "\n",
        "Nilai dari PDF, $p(x)$, BUKAN probabilitas. Nilainya bisa lebih dari 1.\n",
        "\n",
        "Jadi, Apa Gunanya PDF?\n",
        "PDF memberitahu kita kepadatan atau konsentrasi probabilitas di sekitar suatu titik.\n",
        "\n",
        "- Nilai $p(x)$ tinggi: Berarti nilai-nilai di sekitar x sangat mungkin terjadi.\n",
        "\n",
        "- Nilai $p(x)$ rendah: Berarti nilai-nilai di sekitar x jarang terjadi.\n",
        "\n",
        "**Contoh Kasus:**\n",
        "\n",
        "Sebuah variabel acak kontinu X memiliki rentang dari 0 hingga 3. Probability Density Function (PDF) untuk variabel ini didefinisikan sebagai:\n",
        "\n",
        "$p(x)=cx^2$ untuk $0≤x≤3$\n",
        "\n",
        "$p(x)=0$ untuk nilai x lainnya\n",
        "\n",
        "Di sini, c adalah sebuah konstanta.\n",
        "\n",
        "Langkah-langkah:\n",
        "\n",
        "a. Tentukan konstanta c\n",
        "\n",
        "buat persamaan integral\n",
        "\n",
        "$$\\int_0^3 cx^2\\ \\text{d}x = 1$$\n",
        "\n",
        "$$c\\int_0^3 x^2\\ \\text{d}x = 1$$\n",
        "\n",
        "$$c\\left[\\frac{x^3}{3}\\right]_0^3 = 1$$\n",
        "\n",
        "$$c\\left(\\frac{3^3}{3} - \\frac{0^3}{3}\\right) = 1$$\n",
        "\n",
        "$$c \\cdot 9 = 1$$\n",
        "\n",
        "$$c = \\frac{1}{9}$$\n",
        "\n",
        "b. tentukan $P(1 ≤ X ≤ 2)$\n",
        "\n",
        "$$\\int_1^2 \\frac{1}{9}x^2\\ \\text{d}x$$\n",
        "\n",
        "$$\\frac{1}{9} \\int_1^2 x^2\\ \\text{d}x$$\n",
        "\n",
        "$$\\frac{1}{9} \\left[\\frac{x^3}{3}\\right]_1^2$$\n",
        "\n",
        "$$\\frac{1}{9} \\left(\\frac{2^3}{3} - \\frac{1^3}{3}\\right)$$\n",
        "\n",
        "$$\\frac{7}{27}$$\n",
        "\n",
        "c. cari formula untuk Cumulative Distribution Function (CDF), F(x).\n",
        "\n",
        "$$F(x) = \\int_0^x p(z)\\ \\text{d}z = \\int_0^x \\frac{1}{9}z^2\\ \\text{d}z$$\n",
        "\n",
        "$$\\frac{1}{9} \\int_0^x z^2\\ \\text{d}z$$\n",
        "\n",
        "$$\\frac{1}{9} \\left[\\frac{z^3}{3}\\right]_0^x$$\n",
        "\n",
        "$$\\frac{1}{9} \\cdot \\frac{x^3}{3}$$\n",
        "\n",
        "$$\\frac{x^3}{27}$$\n",
        "\n",
        "d. Gunakan formula hasil integral c. untuk menghitung cdf\n",
        "\n",
        "$F(2) - F(1) = \\frac{2^3}{27} - \\frac{1^3}{27} = \\frac{7}{27}$"
      ],
      "metadata": {
        "id": "JKaV2hnvht6-"
      }
    },
    {
      "cell_type": "code",
      "source": [
        "# Contoh kasus 2 :\n",
        "'''\n",
        "Masa pakai (dalam tahun) dari sebuah komponen elektronik\n",
        "dimodelkan oleh Variabel Acak Kontinu X. Probability Density Function (PDF) untuk variabel ini didefinisikan sebagai:\n",
        "\n",
        "p(x)=ce^{−2x} untuk x≥0\n",
        "\n",
        "p(x)=0 untuk x<0\n",
        "Di sini, c adalah sebuah konstanta positif.\n",
        "'''\n",
        "\n",
        "import sympy as sp\n",
        "x, c, z = sp.symbols('x c z')\n",
        "\n",
        "# a. tentukan c dulu (karena x ≥ 0 maka batas atasnya infinity)\n",
        "I = sp.integrate(c*sp.exp(-2*x), (x, 0, float('inf')))\n",
        "equation = sp.Eq(I, 1)\n",
        "c_val = sp.solve(equation, c)[0]\n",
        "\n",
        "'''\n",
        "b. hitung probabilitas komponen tersebut rusak dalam tahun pertama,\n",
        "yaitu P(0≤X≤1)\n",
        "'''\n",
        "\n",
        "I_b = sp.integrate(c_val * sp.exp(-2*x), (x, 0, 1))\n",
        "\n",
        "# c. integralkan PDF untuk mendapatkan formula CDF\n",
        "CDF = sp.integrate(c_val * sp.exp(-2*z), (z, 0, x))\n",
        "\n",
        "# d. gunakan formula tadi untuk menghitung CDF dan pastikan hasilnya = b\n",
        "CDF.subs({x: 1}) - CDF.subs({x: 0}) == I_b"
      ],
      "metadata": {
        "colab": {
          "base_uri": "https://localhost:8080/"
        },
        "id": "uJ-CaEhb-9Kl",
        "outputId": "3bd25267-8216-4ead-8e40-b18632667db4"
      },
      "execution_count": null,
      "outputs": [
        {
          "output_type": "execute_result",
          "data": {
            "text/plain": [
              "True"
            ]
          },
          "metadata": {},
          "execution_count": 15
        }
      ]
    },
    {
      "cell_type": "markdown",
      "source": [
        "**11. Other kinds of random variables**\n",
        "\n",
        "**Variabel acak hibrida (diskrit dan continue)**, contoh seorang melempar koin yang memiliki dua sisi (Angka dan Gambar), kemudian didefinisikan variable $X$ dimana variable tersebut merepresentasikan \"Jika muncul gambar maka mendapatkan poin 10, tetapi jika angka mendapatkan poin di rentang 12 dan 20\", nah variable $X$ disini merupakan variable acak hibrida, karena $P(X = 10) = 1/2$ ini bagian diskritnya, dan misal $P(X = 13) = 0$ mengapa demikian karena nilai ini mengalir, dalam aturan probabilitas continue probabilitas tepat pada angka tertentu adalah $0$.\n",
        "\n",
        "**contoh kasus:** seorang melempar dadu isi 6, di definisikan variable acak $X$: Jika angka dadu habis dibagi 3 maka mendapatkan 8 poin, jika angka dadu dikali 2 tidak lebih dari 8 maka mendapatkan poin di rentang 4 dan 7\n",
        "- tentukan $P(X = 8)$\n",
        "- tentukan $P(5 ≤ X ≤ 6)$"
      ],
      "metadata": {
        "id": "zy_pIfYObvkp"
      }
    },
    {
      "cell_type": "code",
      "source": [
        "\n",
        "dadu = range(1, 7)\n",
        "# P(X = 8)\n",
        "p_x8 = sum(1 if i % 3 == 0 else 0 for i in dadu) / 6\n",
        "\n",
        "# P(5 ≤ X 6)\n",
        "range_of = sum(1 if i * 2 <= 8 else 0 for i in dadu) / 6\n",
        "prob = (6 - 5) / (7 - 4)\n",
        "\n",
        "range_of * prob"
      ],
      "metadata": {
        "colab": {
          "base_uri": "https://localhost:8080/"
        },
        "id": "oz0ZNUDBhT1F",
        "outputId": "e09f80e8-d5b3-4c54-f286-cd97a06248c7"
      },
      "execution_count": null,
      "outputs": [
        {
          "output_type": "execute_result",
          "data": {
            "text/plain": [
              "0.2222222222222222"
            ]
          },
          "metadata": {},
          "execution_count": 7
        }
      ]
    },
    {
      "cell_type": "markdown",
      "source": [
        "**12. Joint random variable**\n",
        "\n",
        "Ini adalah gabungan dari banyak variable acak\n",
        "\n",
        "contoh:"
      ],
      "metadata": {
        "id": "WR5FLoT9qU60"
      }
    },
    {
      "cell_type": "code",
      "source": [
        "import pandas as pd\n",
        "\n",
        "data = {\n",
        "    '': ['Y = Matematika', 'Y = Fisika'],\n",
        "    'X = 1 Jam': [0.20, 0.15],\n",
        "    'X = 2 Jam': [0.30, 0.20],\n",
        "    'X = 3 Jam': [0.10, 0.05]\n",
        "}\n",
        "\n",
        "df = pd.DataFrame(data)\n",
        "df"
      ],
      "metadata": {
        "colab": {
          "base_uri": "https://localhost:8080/",
          "height": 125
        },
        "id": "v9r1WYhjqkT0",
        "outputId": "15da195e-8aea-4a92-d9ae-834de25766ac"
      },
      "execution_count": null,
      "outputs": [
        {
          "output_type": "execute_result",
          "data": {
            "text/plain": [
              "                   X = 1 Jam  X = 2 Jam  X = 3 Jam\n",
              "0  Y = Matematika       0.20        0.3       0.10\n",
              "1      Y = Fisika       0.15        0.2       0.05"
            ],
            "text/html": [
              "\n",
              "  <div id=\"df-2d7270dd-c631-40a8-85e5-7b929b97f179\" class=\"colab-df-container\">\n",
              "    <div>\n",
              "<style scoped>\n",
              "    .dataframe tbody tr th:only-of-type {\n",
              "        vertical-align: middle;\n",
              "    }\n",
              "\n",
              "    .dataframe tbody tr th {\n",
              "        vertical-align: top;\n",
              "    }\n",
              "\n",
              "    .dataframe thead th {\n",
              "        text-align: right;\n",
              "    }\n",
              "</style>\n",
              "<table border=\"1\" class=\"dataframe\">\n",
              "  <thead>\n",
              "    <tr style=\"text-align: right;\">\n",
              "      <th></th>\n",
              "      <th></th>\n",
              "      <th>X = 1 Jam</th>\n",
              "      <th>X = 2 Jam</th>\n",
              "      <th>X = 3 Jam</th>\n",
              "    </tr>\n",
              "  </thead>\n",
              "  <tbody>\n",
              "    <tr>\n",
              "      <th>0</th>\n",
              "      <td>Y = Matematika</td>\n",
              "      <td>0.20</td>\n",
              "      <td>0.3</td>\n",
              "      <td>0.10</td>\n",
              "    </tr>\n",
              "    <tr>\n",
              "      <th>1</th>\n",
              "      <td>Y = Fisika</td>\n",
              "      <td>0.15</td>\n",
              "      <td>0.2</td>\n",
              "      <td>0.05</td>\n",
              "    </tr>\n",
              "  </tbody>\n",
              "</table>\n",
              "</div>\n",
              "    <div class=\"colab-df-buttons\">\n",
              "\n",
              "  <div class=\"colab-df-container\">\n",
              "    <button class=\"colab-df-convert\" onclick=\"convertToInteractive('df-2d7270dd-c631-40a8-85e5-7b929b97f179')\"\n",
              "            title=\"Convert this dataframe to an interactive table.\"\n",
              "            style=\"display:none;\">\n",
              "\n",
              "  <svg xmlns=\"http://www.w3.org/2000/svg\" height=\"24px\" viewBox=\"0 -960 960 960\">\n",
              "    <path d=\"M120-120v-720h720v720H120Zm60-500h600v-160H180v160Zm220 220h160v-160H400v160Zm0 220h160v-160H400v160ZM180-400h160v-160H180v160Zm440 0h160v-160H620v160ZM180-180h160v-160H180v160Zm440 0h160v-160H620v160Z\"/>\n",
              "  </svg>\n",
              "    </button>\n",
              "\n",
              "  <style>\n",
              "    .colab-df-container {\n",
              "      display:flex;\n",
              "      gap: 12px;\n",
              "    }\n",
              "\n",
              "    .colab-df-convert {\n",
              "      background-color: #E8F0FE;\n",
              "      border: none;\n",
              "      border-radius: 50%;\n",
              "      cursor: pointer;\n",
              "      display: none;\n",
              "      fill: #1967D2;\n",
              "      height: 32px;\n",
              "      padding: 0 0 0 0;\n",
              "      width: 32px;\n",
              "    }\n",
              "\n",
              "    .colab-df-convert:hover {\n",
              "      background-color: #E2EBFA;\n",
              "      box-shadow: 0px 1px 2px rgba(60, 64, 67, 0.3), 0px 1px 3px 1px rgba(60, 64, 67, 0.15);\n",
              "      fill: #174EA6;\n",
              "    }\n",
              "\n",
              "    .colab-df-buttons div {\n",
              "      margin-bottom: 4px;\n",
              "    }\n",
              "\n",
              "    [theme=dark] .colab-df-convert {\n",
              "      background-color: #3B4455;\n",
              "      fill: #D2E3FC;\n",
              "    }\n",
              "\n",
              "    [theme=dark] .colab-df-convert:hover {\n",
              "      background-color: #434B5C;\n",
              "      box-shadow: 0px 1px 3px 1px rgba(0, 0, 0, 0.15);\n",
              "      filter: drop-shadow(0px 1px 2px rgba(0, 0, 0, 0.3));\n",
              "      fill: #FFFFFF;\n",
              "    }\n",
              "  </style>\n",
              "\n",
              "    <script>\n",
              "      const buttonEl =\n",
              "        document.querySelector('#df-2d7270dd-c631-40a8-85e5-7b929b97f179 button.colab-df-convert');\n",
              "      buttonEl.style.display =\n",
              "        google.colab.kernel.accessAllowed ? 'block' : 'none';\n",
              "\n",
              "      async function convertToInteractive(key) {\n",
              "        const element = document.querySelector('#df-2d7270dd-c631-40a8-85e5-7b929b97f179');\n",
              "        const dataTable =\n",
              "          await google.colab.kernel.invokeFunction('convertToInteractive',\n",
              "                                                    [key], {});\n",
              "        if (!dataTable) return;\n",
              "\n",
              "        const docLinkHtml = 'Like what you see? Visit the ' +\n",
              "          '<a target=\"_blank\" href=https://colab.research.google.com/notebooks/data_table.ipynb>data table notebook</a>'\n",
              "          + ' to learn more about interactive tables.';\n",
              "        element.innerHTML = '';\n",
              "        dataTable['output_type'] = 'display_data';\n",
              "        await google.colab.output.renderOutput(dataTable, element);\n",
              "        const docLink = document.createElement('div');\n",
              "        docLink.innerHTML = docLinkHtml;\n",
              "        element.appendChild(docLink);\n",
              "      }\n",
              "    </script>\n",
              "  </div>\n",
              "\n",
              "\n",
              "    <div id=\"df-e5117730-c5ae-4ac5-9c84-a37fd8077d9c\">\n",
              "      <button class=\"colab-df-quickchart\" onclick=\"quickchart('df-e5117730-c5ae-4ac5-9c84-a37fd8077d9c')\"\n",
              "                title=\"Suggest charts\"\n",
              "                style=\"display:none;\">\n",
              "\n",
              "<svg xmlns=\"http://www.w3.org/2000/svg\" height=\"24px\"viewBox=\"0 0 24 24\"\n",
              "     width=\"24px\">\n",
              "    <g>\n",
              "        <path d=\"M19 3H5c-1.1 0-2 .9-2 2v14c0 1.1.9 2 2 2h14c1.1 0 2-.9 2-2V5c0-1.1-.9-2-2-2zM9 17H7v-7h2v7zm4 0h-2V7h2v10zm4 0h-2v-4h2v4z\"/>\n",
              "    </g>\n",
              "</svg>\n",
              "      </button>\n",
              "\n",
              "<style>\n",
              "  .colab-df-quickchart {\n",
              "      --bg-color: #E8F0FE;\n",
              "      --fill-color: #1967D2;\n",
              "      --hover-bg-color: #E2EBFA;\n",
              "      --hover-fill-color: #174EA6;\n",
              "      --disabled-fill-color: #AAA;\n",
              "      --disabled-bg-color: #DDD;\n",
              "  }\n",
              "\n",
              "  [theme=dark] .colab-df-quickchart {\n",
              "      --bg-color: #3B4455;\n",
              "      --fill-color: #D2E3FC;\n",
              "      --hover-bg-color: #434B5C;\n",
              "      --hover-fill-color: #FFFFFF;\n",
              "      --disabled-bg-color: #3B4455;\n",
              "      --disabled-fill-color: #666;\n",
              "  }\n",
              "\n",
              "  .colab-df-quickchart {\n",
              "    background-color: var(--bg-color);\n",
              "    border: none;\n",
              "    border-radius: 50%;\n",
              "    cursor: pointer;\n",
              "    display: none;\n",
              "    fill: var(--fill-color);\n",
              "    height: 32px;\n",
              "    padding: 0;\n",
              "    width: 32px;\n",
              "  }\n",
              "\n",
              "  .colab-df-quickchart:hover {\n",
              "    background-color: var(--hover-bg-color);\n",
              "    box-shadow: 0 1px 2px rgba(60, 64, 67, 0.3), 0 1px 3px 1px rgba(60, 64, 67, 0.15);\n",
              "    fill: var(--button-hover-fill-color);\n",
              "  }\n",
              "\n",
              "  .colab-df-quickchart-complete:disabled,\n",
              "  .colab-df-quickchart-complete:disabled:hover {\n",
              "    background-color: var(--disabled-bg-color);\n",
              "    fill: var(--disabled-fill-color);\n",
              "    box-shadow: none;\n",
              "  }\n",
              "\n",
              "  .colab-df-spinner {\n",
              "    border: 2px solid var(--fill-color);\n",
              "    border-color: transparent;\n",
              "    border-bottom-color: var(--fill-color);\n",
              "    animation:\n",
              "      spin 1s steps(1) infinite;\n",
              "  }\n",
              "\n",
              "  @keyframes spin {\n",
              "    0% {\n",
              "      border-color: transparent;\n",
              "      border-bottom-color: var(--fill-color);\n",
              "      border-left-color: var(--fill-color);\n",
              "    }\n",
              "    20% {\n",
              "      border-color: transparent;\n",
              "      border-left-color: var(--fill-color);\n",
              "      border-top-color: var(--fill-color);\n",
              "    }\n",
              "    30% {\n",
              "      border-color: transparent;\n",
              "      border-left-color: var(--fill-color);\n",
              "      border-top-color: var(--fill-color);\n",
              "      border-right-color: var(--fill-color);\n",
              "    }\n",
              "    40% {\n",
              "      border-color: transparent;\n",
              "      border-right-color: var(--fill-color);\n",
              "      border-top-color: var(--fill-color);\n",
              "    }\n",
              "    60% {\n",
              "      border-color: transparent;\n",
              "      border-right-color: var(--fill-color);\n",
              "    }\n",
              "    80% {\n",
              "      border-color: transparent;\n",
              "      border-right-color: var(--fill-color);\n",
              "      border-bottom-color: var(--fill-color);\n",
              "    }\n",
              "    90% {\n",
              "      border-color: transparent;\n",
              "      border-bottom-color: var(--fill-color);\n",
              "    }\n",
              "  }\n",
              "</style>\n",
              "\n",
              "      <script>\n",
              "        async function quickchart(key) {\n",
              "          const quickchartButtonEl =\n",
              "            document.querySelector('#' + key + ' button');\n",
              "          quickchartButtonEl.disabled = true;  // To prevent multiple clicks.\n",
              "          quickchartButtonEl.classList.add('colab-df-spinner');\n",
              "          try {\n",
              "            const charts = await google.colab.kernel.invokeFunction(\n",
              "                'suggestCharts', [key], {});\n",
              "          } catch (error) {\n",
              "            console.error('Error during call to suggestCharts:', error);\n",
              "          }\n",
              "          quickchartButtonEl.classList.remove('colab-df-spinner');\n",
              "          quickchartButtonEl.classList.add('colab-df-quickchart-complete');\n",
              "        }\n",
              "        (() => {\n",
              "          let quickchartButtonEl =\n",
              "            document.querySelector('#df-e5117730-c5ae-4ac5-9c84-a37fd8077d9c button');\n",
              "          quickchartButtonEl.style.display =\n",
              "            google.colab.kernel.accessAllowed ? 'block' : 'none';\n",
              "        })();\n",
              "      </script>\n",
              "    </div>\n",
              "\n",
              "  <div id=\"id_033b0ddd-1fce-4a6e-833a-980ec4b11061\">\n",
              "    <style>\n",
              "      .colab-df-generate {\n",
              "        background-color: #E8F0FE;\n",
              "        border: none;\n",
              "        border-radius: 50%;\n",
              "        cursor: pointer;\n",
              "        display: none;\n",
              "        fill: #1967D2;\n",
              "        height: 32px;\n",
              "        padding: 0 0 0 0;\n",
              "        width: 32px;\n",
              "      }\n",
              "\n",
              "      .colab-df-generate:hover {\n",
              "        background-color: #E2EBFA;\n",
              "        box-shadow: 0px 1px 2px rgba(60, 64, 67, 0.3), 0px 1px 3px 1px rgba(60, 64, 67, 0.15);\n",
              "        fill: #174EA6;\n",
              "      }\n",
              "\n",
              "      [theme=dark] .colab-df-generate {\n",
              "        background-color: #3B4455;\n",
              "        fill: #D2E3FC;\n",
              "      }\n",
              "\n",
              "      [theme=dark] .colab-df-generate:hover {\n",
              "        background-color: #434B5C;\n",
              "        box-shadow: 0px 1px 3px 1px rgba(0, 0, 0, 0.15);\n",
              "        filter: drop-shadow(0px 1px 2px rgba(0, 0, 0, 0.3));\n",
              "        fill: #FFFFFF;\n",
              "      }\n",
              "    </style>\n",
              "    <button class=\"colab-df-generate\" onclick=\"generateWithVariable('df')\"\n",
              "            title=\"Generate code using this dataframe.\"\n",
              "            style=\"display:none;\">\n",
              "\n",
              "  <svg xmlns=\"http://www.w3.org/2000/svg\" height=\"24px\"viewBox=\"0 0 24 24\"\n",
              "       width=\"24px\">\n",
              "    <path d=\"M7,19H8.4L18.45,9,17,7.55,7,17.6ZM5,21V16.75L18.45,3.32a2,2,0,0,1,2.83,0l1.4,1.43a1.91,1.91,0,0,1,.58,1.4,1.91,1.91,0,0,1-.58,1.4L9.25,21ZM18.45,9,17,7.55Zm-12,3A5.31,5.31,0,0,0,4.9,8.1,5.31,5.31,0,0,0,1,6.5,5.31,5.31,0,0,0,4.9,4.9,5.31,5.31,0,0,0,6.5,1,5.31,5.31,0,0,0,8.1,4.9,5.31,5.31,0,0,0,12,6.5,5.46,5.46,0,0,0,6.5,12Z\"/>\n",
              "  </svg>\n",
              "    </button>\n",
              "    <script>\n",
              "      (() => {\n",
              "      const buttonEl =\n",
              "        document.querySelector('#id_033b0ddd-1fce-4a6e-833a-980ec4b11061 button.colab-df-generate');\n",
              "      buttonEl.style.display =\n",
              "        google.colab.kernel.accessAllowed ? 'block' : 'none';\n",
              "\n",
              "      buttonEl.onclick = () => {\n",
              "        google.colab.notebook.generateWithVariable('df');\n",
              "      }\n",
              "      })();\n",
              "    </script>\n",
              "  </div>\n",
              "\n",
              "    </div>\n",
              "  </div>\n"
            ],
            "application/vnd.google.colaboratory.intrinsic+json": {
              "type": "dataframe",
              "variable_name": "df",
              "summary": "{\n  \"name\": \"df\",\n  \"rows\": 2,\n  \"fields\": [\n    {\n      \"column\": \"\",\n      \"properties\": {\n        \"dtype\": \"string\",\n        \"num_unique_values\": 2,\n        \"samples\": [\n          \"Y = Fisika\",\n          \"Y = Matematika\"\n        ],\n        \"semantic_type\": \"\",\n        \"description\": \"\"\n      }\n    },\n    {\n      \"column\": \"X = 1 Jam\",\n      \"properties\": {\n        \"dtype\": \"number\",\n        \"std\": 0.03535533905932738,\n        \"min\": 0.15,\n        \"max\": 0.2,\n        \"num_unique_values\": 2,\n        \"samples\": [\n          0.15,\n          0.2\n        ],\n        \"semantic_type\": \"\",\n        \"description\": \"\"\n      }\n    },\n    {\n      \"column\": \"X = 2 Jam\",\n      \"properties\": {\n        \"dtype\": \"number\",\n        \"std\": 0.07071067811865474,\n        \"min\": 0.2,\n        \"max\": 0.3,\n        \"num_unique_values\": 2,\n        \"samples\": [\n          0.2,\n          0.3\n        ],\n        \"semantic_type\": \"\",\n        \"description\": \"\"\n      }\n    },\n    {\n      \"column\": \"X = 3 Jam\",\n      \"properties\": {\n        \"dtype\": \"number\",\n        \"std\": 0.03535533905932738,\n        \"min\": 0.05,\n        \"max\": 0.1,\n        \"num_unique_values\": 2,\n        \"samples\": [\n          0.05,\n          0.1\n        ],\n        \"semantic_type\": \"\",\n        \"description\": \"\"\n      }\n    }\n  ]\n}"
            }
          },
          "metadata": {},
          "execution_count": 5
        }
      ]
    },
    {
      "cell_type": "markdown",
      "source": [
        "Jika seorang belajar 1 Jam, berapa probabilitas Y = Fisika\n",
        "\n",
        "$P(A|B) = \\frac{P(A \\cap B)}{P(B)}$\n",
        "\n",
        "- $P(A \\cap B) = 0.15$\n",
        "- $P(B) = 0.15 + 0.20 = 0.35$\n",
        "- $P(A|B) = \\frac{0.15}{0.35} = \\frac{3}{7}$"
      ],
      "metadata": {
        "id": "mUkdHaEsru2h"
      }
    },
    {
      "cell_type": "markdown",
      "source": [
        "**13. Independence of random variable**\n",
        "\n",
        "Dirumuskan $p(X, Y) = p(X)p(Y)$, variabel acak yang tidak terpengaruh dan tidak mempengaruhi variabel acak lainnya.\n",
        "\n",
        "Contoh:\n",
        "\n",
        "Dalam sebuah peternakan kambing ada sebuah penyakit yang menyerang kambing, penyakit tersebut di tuangkan dalam distribusi probabilitas dimana variabel $X:$ Waktu kambing tersebut mengalami sakit, dan $Y:$ Kondisi kambing Hidup dan Mati"
      ],
      "metadata": {
        "id": "-KIvKMtwFYS7"
      }
    },
    {
      "cell_type": "code",
      "source": [
        "import pandas as pd\n",
        "\n",
        "data = {\n",
        "    '': ['Y = Hidup', 'Y = Mati'],\n",
        "    'X = 1 Jam': [0.10, 0.05],\n",
        "    'X = 2 Jam': [0.20, 0.15],\n",
        "    'X = 3 Jam': [0.30, 0.20]\n",
        "}\n",
        "\n",
        "df = pd.DataFrame(data)\n",
        "df"
      ],
      "metadata": {
        "colab": {
          "base_uri": "https://localhost:8080/",
          "height": 125
        },
        "id": "D_nhowlOGHdq",
        "outputId": "79a8080b-e363-4750-94b8-8a34cadbef55"
      },
      "execution_count": null,
      "outputs": [
        {
          "output_type": "execute_result",
          "data": {
            "text/plain": [
              "              X = 1 Jam  X = 2 Jam  X = 3 Jam\n",
              "0  Y = Hidup       0.10       0.20        0.3\n",
              "1   Y = Mati       0.05       0.15        0.2"
            ],
            "text/html": [
              "\n",
              "  <div id=\"df-9be1cad6-880c-4256-810b-b8c2675875d3\" class=\"colab-df-container\">\n",
              "    <div>\n",
              "<style scoped>\n",
              "    .dataframe tbody tr th:only-of-type {\n",
              "        vertical-align: middle;\n",
              "    }\n",
              "\n",
              "    .dataframe tbody tr th {\n",
              "        vertical-align: top;\n",
              "    }\n",
              "\n",
              "    .dataframe thead th {\n",
              "        text-align: right;\n",
              "    }\n",
              "</style>\n",
              "<table border=\"1\" class=\"dataframe\">\n",
              "  <thead>\n",
              "    <tr style=\"text-align: right;\">\n",
              "      <th></th>\n",
              "      <th></th>\n",
              "      <th>X = 1 Jam</th>\n",
              "      <th>X = 2 Jam</th>\n",
              "      <th>X = 3 Jam</th>\n",
              "    </tr>\n",
              "  </thead>\n",
              "  <tbody>\n",
              "    <tr>\n",
              "      <th>0</th>\n",
              "      <td>Y = Hidup</td>\n",
              "      <td>0.10</td>\n",
              "      <td>0.20</td>\n",
              "      <td>0.3</td>\n",
              "    </tr>\n",
              "    <tr>\n",
              "      <th>1</th>\n",
              "      <td>Y = Mati</td>\n",
              "      <td>0.05</td>\n",
              "      <td>0.15</td>\n",
              "      <td>0.2</td>\n",
              "    </tr>\n",
              "  </tbody>\n",
              "</table>\n",
              "</div>\n",
              "    <div class=\"colab-df-buttons\">\n",
              "\n",
              "  <div class=\"colab-df-container\">\n",
              "    <button class=\"colab-df-convert\" onclick=\"convertToInteractive('df-9be1cad6-880c-4256-810b-b8c2675875d3')\"\n",
              "            title=\"Convert this dataframe to an interactive table.\"\n",
              "            style=\"display:none;\">\n",
              "\n",
              "  <svg xmlns=\"http://www.w3.org/2000/svg\" height=\"24px\" viewBox=\"0 -960 960 960\">\n",
              "    <path d=\"M120-120v-720h720v720H120Zm60-500h600v-160H180v160Zm220 220h160v-160H400v160Zm0 220h160v-160H400v160ZM180-400h160v-160H180v160Zm440 0h160v-160H620v160ZM180-180h160v-160H180v160Zm440 0h160v-160H620v160Z\"/>\n",
              "  </svg>\n",
              "    </button>\n",
              "\n",
              "  <style>\n",
              "    .colab-df-container {\n",
              "      display:flex;\n",
              "      gap: 12px;\n",
              "    }\n",
              "\n",
              "    .colab-df-convert {\n",
              "      background-color: #E8F0FE;\n",
              "      border: none;\n",
              "      border-radius: 50%;\n",
              "      cursor: pointer;\n",
              "      display: none;\n",
              "      fill: #1967D2;\n",
              "      height: 32px;\n",
              "      padding: 0 0 0 0;\n",
              "      width: 32px;\n",
              "    }\n",
              "\n",
              "    .colab-df-convert:hover {\n",
              "      background-color: #E2EBFA;\n",
              "      box-shadow: 0px 1px 2px rgba(60, 64, 67, 0.3), 0px 1px 3px 1px rgba(60, 64, 67, 0.15);\n",
              "      fill: #174EA6;\n",
              "    }\n",
              "\n",
              "    .colab-df-buttons div {\n",
              "      margin-bottom: 4px;\n",
              "    }\n",
              "\n",
              "    [theme=dark] .colab-df-convert {\n",
              "      background-color: #3B4455;\n",
              "      fill: #D2E3FC;\n",
              "    }\n",
              "\n",
              "    [theme=dark] .colab-df-convert:hover {\n",
              "      background-color: #434B5C;\n",
              "      box-shadow: 0px 1px 3px 1px rgba(0, 0, 0, 0.15);\n",
              "      filter: drop-shadow(0px 1px 2px rgba(0, 0, 0, 0.3));\n",
              "      fill: #FFFFFF;\n",
              "    }\n",
              "  </style>\n",
              "\n",
              "    <script>\n",
              "      const buttonEl =\n",
              "        document.querySelector('#df-9be1cad6-880c-4256-810b-b8c2675875d3 button.colab-df-convert');\n",
              "      buttonEl.style.display =\n",
              "        google.colab.kernel.accessAllowed ? 'block' : 'none';\n",
              "\n",
              "      async function convertToInteractive(key) {\n",
              "        const element = document.querySelector('#df-9be1cad6-880c-4256-810b-b8c2675875d3');\n",
              "        const dataTable =\n",
              "          await google.colab.kernel.invokeFunction('convertToInteractive',\n",
              "                                                    [key], {});\n",
              "        if (!dataTable) return;\n",
              "\n",
              "        const docLinkHtml = 'Like what you see? Visit the ' +\n",
              "          '<a target=\"_blank\" href=https://colab.research.google.com/notebooks/data_table.ipynb>data table notebook</a>'\n",
              "          + ' to learn more about interactive tables.';\n",
              "        element.innerHTML = '';\n",
              "        dataTable['output_type'] = 'display_data';\n",
              "        await google.colab.output.renderOutput(dataTable, element);\n",
              "        const docLink = document.createElement('div');\n",
              "        docLink.innerHTML = docLinkHtml;\n",
              "        element.appendChild(docLink);\n",
              "      }\n",
              "    </script>\n",
              "  </div>\n",
              "\n",
              "\n",
              "    <div id=\"df-1dcbb60d-ce75-4752-8614-dbe444b73060\">\n",
              "      <button class=\"colab-df-quickchart\" onclick=\"quickchart('df-1dcbb60d-ce75-4752-8614-dbe444b73060')\"\n",
              "                title=\"Suggest charts\"\n",
              "                style=\"display:none;\">\n",
              "\n",
              "<svg xmlns=\"http://www.w3.org/2000/svg\" height=\"24px\"viewBox=\"0 0 24 24\"\n",
              "     width=\"24px\">\n",
              "    <g>\n",
              "        <path d=\"M19 3H5c-1.1 0-2 .9-2 2v14c0 1.1.9 2 2 2h14c1.1 0 2-.9 2-2V5c0-1.1-.9-2-2-2zM9 17H7v-7h2v7zm4 0h-2V7h2v10zm4 0h-2v-4h2v4z\"/>\n",
              "    </g>\n",
              "</svg>\n",
              "      </button>\n",
              "\n",
              "<style>\n",
              "  .colab-df-quickchart {\n",
              "      --bg-color: #E8F0FE;\n",
              "      --fill-color: #1967D2;\n",
              "      --hover-bg-color: #E2EBFA;\n",
              "      --hover-fill-color: #174EA6;\n",
              "      --disabled-fill-color: #AAA;\n",
              "      --disabled-bg-color: #DDD;\n",
              "  }\n",
              "\n",
              "  [theme=dark] .colab-df-quickchart {\n",
              "      --bg-color: #3B4455;\n",
              "      --fill-color: #D2E3FC;\n",
              "      --hover-bg-color: #434B5C;\n",
              "      --hover-fill-color: #FFFFFF;\n",
              "      --disabled-bg-color: #3B4455;\n",
              "      --disabled-fill-color: #666;\n",
              "  }\n",
              "\n",
              "  .colab-df-quickchart {\n",
              "    background-color: var(--bg-color);\n",
              "    border: none;\n",
              "    border-radius: 50%;\n",
              "    cursor: pointer;\n",
              "    display: none;\n",
              "    fill: var(--fill-color);\n",
              "    height: 32px;\n",
              "    padding: 0;\n",
              "    width: 32px;\n",
              "  }\n",
              "\n",
              "  .colab-df-quickchart:hover {\n",
              "    background-color: var(--hover-bg-color);\n",
              "    box-shadow: 0 1px 2px rgba(60, 64, 67, 0.3), 0 1px 3px 1px rgba(60, 64, 67, 0.15);\n",
              "    fill: var(--button-hover-fill-color);\n",
              "  }\n",
              "\n",
              "  .colab-df-quickchart-complete:disabled,\n",
              "  .colab-df-quickchart-complete:disabled:hover {\n",
              "    background-color: var(--disabled-bg-color);\n",
              "    fill: var(--disabled-fill-color);\n",
              "    box-shadow: none;\n",
              "  }\n",
              "\n",
              "  .colab-df-spinner {\n",
              "    border: 2px solid var(--fill-color);\n",
              "    border-color: transparent;\n",
              "    border-bottom-color: var(--fill-color);\n",
              "    animation:\n",
              "      spin 1s steps(1) infinite;\n",
              "  }\n",
              "\n",
              "  @keyframes spin {\n",
              "    0% {\n",
              "      border-color: transparent;\n",
              "      border-bottom-color: var(--fill-color);\n",
              "      border-left-color: var(--fill-color);\n",
              "    }\n",
              "    20% {\n",
              "      border-color: transparent;\n",
              "      border-left-color: var(--fill-color);\n",
              "      border-top-color: var(--fill-color);\n",
              "    }\n",
              "    30% {\n",
              "      border-color: transparent;\n",
              "      border-left-color: var(--fill-color);\n",
              "      border-top-color: var(--fill-color);\n",
              "      border-right-color: var(--fill-color);\n",
              "    }\n",
              "    40% {\n",
              "      border-color: transparent;\n",
              "      border-right-color: var(--fill-color);\n",
              "      border-top-color: var(--fill-color);\n",
              "    }\n",
              "    60% {\n",
              "      border-color: transparent;\n",
              "      border-right-color: var(--fill-color);\n",
              "    }\n",
              "    80% {\n",
              "      border-color: transparent;\n",
              "      border-right-color: var(--fill-color);\n",
              "      border-bottom-color: var(--fill-color);\n",
              "    }\n",
              "    90% {\n",
              "      border-color: transparent;\n",
              "      border-bottom-color: var(--fill-color);\n",
              "    }\n",
              "  }\n",
              "</style>\n",
              "\n",
              "      <script>\n",
              "        async function quickchart(key) {\n",
              "          const quickchartButtonEl =\n",
              "            document.querySelector('#' + key + ' button');\n",
              "          quickchartButtonEl.disabled = true;  // To prevent multiple clicks.\n",
              "          quickchartButtonEl.classList.add('colab-df-spinner');\n",
              "          try {\n",
              "            const charts = await google.colab.kernel.invokeFunction(\n",
              "                'suggestCharts', [key], {});\n",
              "          } catch (error) {\n",
              "            console.error('Error during call to suggestCharts:', error);\n",
              "          }\n",
              "          quickchartButtonEl.classList.remove('colab-df-spinner');\n",
              "          quickchartButtonEl.classList.add('colab-df-quickchart-complete');\n",
              "        }\n",
              "        (() => {\n",
              "          let quickchartButtonEl =\n",
              "            document.querySelector('#df-1dcbb60d-ce75-4752-8614-dbe444b73060 button');\n",
              "          quickchartButtonEl.style.display =\n",
              "            google.colab.kernel.accessAllowed ? 'block' : 'none';\n",
              "        })();\n",
              "      </script>\n",
              "    </div>\n",
              "\n",
              "  <div id=\"id_660250d2-e759-4f62-97d0-74c12509a406\">\n",
              "    <style>\n",
              "      .colab-df-generate {\n",
              "        background-color: #E8F0FE;\n",
              "        border: none;\n",
              "        border-radius: 50%;\n",
              "        cursor: pointer;\n",
              "        display: none;\n",
              "        fill: #1967D2;\n",
              "        height: 32px;\n",
              "        padding: 0 0 0 0;\n",
              "        width: 32px;\n",
              "      }\n",
              "\n",
              "      .colab-df-generate:hover {\n",
              "        background-color: #E2EBFA;\n",
              "        box-shadow: 0px 1px 2px rgba(60, 64, 67, 0.3), 0px 1px 3px 1px rgba(60, 64, 67, 0.15);\n",
              "        fill: #174EA6;\n",
              "      }\n",
              "\n",
              "      [theme=dark] .colab-df-generate {\n",
              "        background-color: #3B4455;\n",
              "        fill: #D2E3FC;\n",
              "      }\n",
              "\n",
              "      [theme=dark] .colab-df-generate:hover {\n",
              "        background-color: #434B5C;\n",
              "        box-shadow: 0px 1px 3px 1px rgba(0, 0, 0, 0.15);\n",
              "        filter: drop-shadow(0px 1px 2px rgba(0, 0, 0, 0.3));\n",
              "        fill: #FFFFFF;\n",
              "      }\n",
              "    </style>\n",
              "    <button class=\"colab-df-generate\" onclick=\"generateWithVariable('df')\"\n",
              "            title=\"Generate code using this dataframe.\"\n",
              "            style=\"display:none;\">\n",
              "\n",
              "  <svg xmlns=\"http://www.w3.org/2000/svg\" height=\"24px\"viewBox=\"0 0 24 24\"\n",
              "       width=\"24px\">\n",
              "    <path d=\"M7,19H8.4L18.45,9,17,7.55,7,17.6ZM5,21V16.75L18.45,3.32a2,2,0,0,1,2.83,0l1.4,1.43a1.91,1.91,0,0,1,.58,1.4,1.91,1.91,0,0,1-.58,1.4L9.25,21ZM18.45,9,17,7.55Zm-12,3A5.31,5.31,0,0,0,4.9,8.1,5.31,5.31,0,0,0,1,6.5,5.31,5.31,0,0,0,4.9,4.9,5.31,5.31,0,0,0,6.5,1,5.31,5.31,0,0,0,8.1,4.9,5.31,5.31,0,0,0,12,6.5,5.46,5.46,0,0,0,6.5,12Z\"/>\n",
              "  </svg>\n",
              "    </button>\n",
              "    <script>\n",
              "      (() => {\n",
              "      const buttonEl =\n",
              "        document.querySelector('#id_660250d2-e759-4f62-97d0-74c12509a406 button.colab-df-generate');\n",
              "      buttonEl.style.display =\n",
              "        google.colab.kernel.accessAllowed ? 'block' : 'none';\n",
              "\n",
              "      buttonEl.onclick = () => {\n",
              "        google.colab.notebook.generateWithVariable('df');\n",
              "      }\n",
              "      })();\n",
              "    </script>\n",
              "  </div>\n",
              "\n",
              "    </div>\n",
              "  </div>\n"
            ],
            "application/vnd.google.colaboratory.intrinsic+json": {
              "type": "dataframe",
              "variable_name": "df",
              "summary": "{\n  \"name\": \"df\",\n  \"rows\": 2,\n  \"fields\": [\n    {\n      \"column\": \"\",\n      \"properties\": {\n        \"dtype\": \"string\",\n        \"num_unique_values\": 2,\n        \"samples\": [\n          \"Y = Mati\",\n          \"Y = Hidup\"\n        ],\n        \"semantic_type\": \"\",\n        \"description\": \"\"\n      }\n    },\n    {\n      \"column\": \"X = 1 Jam\",\n      \"properties\": {\n        \"dtype\": \"number\",\n        \"std\": 0.03535533905932738,\n        \"min\": 0.05,\n        \"max\": 0.1,\n        \"num_unique_values\": 2,\n        \"samples\": [\n          0.05,\n          0.1\n        ],\n        \"semantic_type\": \"\",\n        \"description\": \"\"\n      }\n    },\n    {\n      \"column\": \"X = 2 Jam\",\n      \"properties\": {\n        \"dtype\": \"number\",\n        \"std\": 0.03535533905932738,\n        \"min\": 0.15,\n        \"max\": 0.2,\n        \"num_unique_values\": 2,\n        \"samples\": [\n          0.15,\n          0.2\n        ],\n        \"semantic_type\": \"\",\n        \"description\": \"\"\n      }\n    },\n    {\n      \"column\": \"X = 3 Jam\",\n      \"properties\": {\n        \"dtype\": \"number\",\n        \"std\": 0.07071067811865474,\n        \"min\": 0.2,\n        \"max\": 0.3,\n        \"num_unique_values\": 2,\n        \"samples\": [\n          0.2,\n          0.3\n        ],\n        \"semantic_type\": \"\",\n        \"description\": \"\"\n      }\n    }\n  ]\n}"
            }
          },
          "metadata": {},
          "execution_count": 3
        }
      ]
    },
    {
      "cell_type": "markdown",
      "source": [
        "Pertanyaan: apakah $p(X = 2)$ dan $p(Y = \\text{hidup})$ Independen?\n",
        "- $p(X = 2) = 0.35$\n",
        "- $p(Y = \\text{hidup}) = 0.6$\n",
        "- $p(X, Y) = 0.2$\n",
        "$$\\boxed{0.2 ≠ 0.6 \\cdot 0.35, \\text{so, } p(X= 2) \\& p(Y= \\text{hidup})\\text{ not independent}}$$"
      ],
      "metadata": {
        "id": "UOmFsuHIIVF2"
      }
    },
    {
      "cell_type": "markdown",
      "source": [
        "**14. Marginal Distribution**\n",
        "\n",
        "Distribusi marginal adalah distribusi dari satu variable acak saja\n",
        "\n",
        "untuk variable acak diskrit dirumuskan: $p(X) = \\sum_y p(X, y)$\n",
        "\n",
        "Artinya: Untuk mendapatkan probabilitas marginal dari $X$ pada suatu nilai tertentu (misalnya, $X=\\text{Matematika}$), kita jumlahkan semua probabilitas gabungan $p(X,Y)$ di sepanjang semua kemungkinan nilai $Y$.\n",
        "\n",
        "Contoh dari Tabel:\n",
        "Untuk mencari $p(X=\\text{Matematika})$:\n",
        "\n",
        "$$p(X=\\text{Matematika})=\\frac{p(\\text{Mat}, 1)+p(\\text{Mat}, 2)+p(\\text{Mat}, 3)\n",
        "}{0.20+0.30+0.10}=0.60$$"
      ],
      "metadata": {
        "id": "ha1X8bmU4f-i"
      }
    },
    {
      "cell_type": "markdown",
      "source": [
        "Untuk variable acak kontinu kita menggunakan integral\n",
        "\n",
        "contoh kasus:\n",
        "\n",
        "Soal: Distribusi Gabungan Lain\n",
        "Dua variabel acak kontinu $X$ dan $Y$ memiliki distribusi gabungan (joint PDF) yang didefinisikan sebagai:\n",
        "\n",
        "$p(x,y)=c(x+y)$, pada daerah persegi di mana $0≤x≤1$ dan $0≤y≤1$.\n",
        "\n",
        "$p(x,y)=0$, di tempat lain.\n",
        "\n",
        "Di sini, c adalah sebuah konstanta.\n",
        "\n",
        "Pertanyaan:\n",
        "\n",
        "a. Tentukan nilai konstanta $c$.\n",
        "\n",
        "b. Tentukan distribusi marginal untuk $X$, yaitu $p(x)$.\n",
        "\n",
        "c. Tentukan distribusi marginal untuk $Y$, yaitu $p(y)$.\n",
        "\n",
        "**a. Menentukan nilai konstanta c**\n",
        "\n",
        "buat persamaan $\\int_0^1\\int_0^1 c(x + y)\\ \\text{d}y\\ \\text{d}x = 1$\n",
        "\n",
        "$$\\int_0^1 \\int_0^1 c(x + y)\\ \\text{d}y\\ \\text{d}x = 1\\\\\n",
        "\\int_0^1 \\left(c\\int_0^1 x + y\\ \\text{d}y\\right)\\ \\text{d}x = 1\\\\\n",
        "\\int_0^1 \\left(c\\left[xy + \\frac{y^2}{2}\\ \\right]_0^1\\right)\\ \\text{d}x = 1\\\\\n",
        "\\int_0^1 \\frac{1}{2}c + cx\\ \\text{d}x = 1\\\\\n",
        "\\int_0^1 c\\left(\\frac{1}{2} + x\\right)\\ \\text{d}x = 1\\\\\n",
        "c\\int_0^1 \\frac{1}{2} + x\\ \\text{d}x = 1\\\\\n",
        "c\\left[\\frac{1}{2}x + \\frac{x^2}{2}\\right]_0^1 = 1\\\\\n",
        "c(1) = 1\\\\\n",
        "\\boxed{c = 1}$$\n",
        "\n",
        "**b. Distribusi marginal untuk $X$**\n",
        "\n",
        "hitung integral terhadap $y$ untuk $(x + y)$\n",
        "\n",
        "$$\\int_0^1 x + y\\ \\text{d}y\\\\\n",
        "= \\left[xy + \\frac{y^2}{2}\\right]_0^1\\\\\n",
        "= x + \\frac{1}{2}$$\n",
        "\n",
        "**c. Distribusi marginal untuk $Y$**\n",
        "\n",
        "hitung integral terhadap $x$ untuk $(x + y)$\n",
        "\n",
        "$$\\int_0^1 x + y\\ \\text{d}x\\\\\n",
        "= \\left[\\frac{1}{2} + yx\\right]_0^1\\\\\n",
        "= \\frac{1}{2} + y$$"
      ],
      "metadata": {
        "id": "QzDyHPgH6FDC"
      }
    },
    {
      "cell_type": "markdown",
      "source": [
        "**15. Expected Value**\n",
        "\n",
        "Secara sederhana, nilai harapan, yang dinotasikan sebagai $E[X]$, adalah nilai rata-rata yang kita harapkan dari sebuah variabel acak jika kita mengulangi eksperimennya berkali-kali.\n",
        "\n",
        "- variable acak diskrit dirumuskan $E[X] = \\sum x\\cdot p(x)$\n",
        "- variable acak kontinu dirumuskan $E[x] = \\int x\\cdot p(x)\\ \\text{d}x$\n",
        "\n",
        "**Contoh kasus 1 (diskrit):**\n",
        "\n",
        "sebuah permainan di mana Anda melempar koin yang tidak seimbang sebanyak dua kali.\n",
        "\n",
        "Probabilitas muncul Angka (A) adalah $0.7$.\n",
        "\n",
        "Probabilitas muncul Gambar (G) adalah $0.3$.\n",
        "\n",
        "Variabel Acak $X$ adalah jumlah total \"Gambar\" yang muncul.\n",
        "\n",
        "Tugas:\n",
        "\n",
        "- Tentukan dulu Probability Mass Function (PMF) untuk X, yaitu $p(0)$, $p(1)$, dan $p(2)$.\n",
        "\n",
        "- Setelah itu, hitung Nilai Harapan, $E[X]$."
      ],
      "metadata": {
        "id": "qGC4q2YftDLc"
      }
    },
    {
      "cell_type": "code",
      "source": [
        "# p(0), p(1), p(2)\n",
        "# Probabilitas muncul Gambar diketahui 0.3\n",
        "# jika (Gambar = 0) = [Angka, Angka], p(Angka) = 0.7\n",
        "# maka dirumuskan 0.7 × 0.7\n",
        "p_0 = 0.7 * 0.7\n",
        "# jika (Gambar = 1) = [Angka, Gambar][Gambar, Angka], p(Angka) = 0.7\n",
        "# maka dirumuskan 0.7 × 0.3 + 0.3 × 0.7\n",
        "p_1 = 0.7 * 0.3 + 0.3 * 0.7\n",
        "# jika (Gambar = 2) = [Gambar, Gambar]\n",
        "# maka dirumuskan 0.3 × 0.3\n",
        "p_2 = 0.3 * 0.3\n",
        "\n",
        "PMF = p_0 + p_1 + p_2\n",
        "\n",
        "# Hitung E[x]\n",
        "\n",
        "E_x = sum(j * i for i, j in zip([p_0, p_1, p_2], [0, 1, 2]))\n",
        "PMF, E_x"
      ],
      "metadata": {
        "colab": {
          "base_uri": "https://localhost:8080/"
        },
        "id": "r5z7q0zg5alX",
        "outputId": "1ebf420f-7f48-40af-c120-d566c9771eea"
      },
      "execution_count": null,
      "outputs": [
        {
          "output_type": "execute_result",
          "data": {
            "text/plain": [
              "(0.9999999999999999, 0.6)"
            ]
          },
          "metadata": {},
          "execution_count": 2
        }
      ]
    },
    {
      "cell_type": "markdown",
      "source": [
        "**Contoh Kasus 2 (Continue)**\n",
        "\n",
        "Waktu reaksi seorang atlet (dalam detik), dimodelkan oleh Variabel Acak $X$ pada rentang $[0, 4]$. PDF-nya didefinisikan sebagai:\n",
        "\n",
        "$p(x)= \\frac{1}{8}(4−x)$ untuk $0≤x≤4$\n",
        "\n",
        "$p(x)=0$ untuk nilai $x$ lainnya.\n",
        "\n",
        "Tugas:\n",
        "Hitung Nilai Harapan, $E[X]$, dari waktu reaksi atlet tersebut.\n",
        "\n",
        "- susun integral dari PDF, subtitusikan ke rumus $E[X] = \\int x \\cdot p(x)\\ \\text{d}x$ dan berikan batas $0$ dan $4$\n",
        "\n",
        "$$\\boxed{\\int_0^4 x \\cdot \\frac{1}{8}(4 -x)\\ \\text{d}x}$$"
      ],
      "metadata": {
        "id": "Fn-UZ-278EAg"
      }
    },
    {
      "cell_type": "code",
      "source": [
        "import sympy as sp\n",
        "x = sp.symbols('x')\n",
        "sp.integrate(x * (1/8) * (4 - x), (x, 0, 4))"
      ],
      "metadata": {
        "colab": {
          "base_uri": "https://localhost:8080/",
          "height": 37
        },
        "id": "FEidSeBc83uD",
        "outputId": "49c6f067-7751-43f0-ffac-723019f22819"
      },
      "execution_count": null,
      "outputs": [
        {
          "output_type": "execute_result",
          "data": {
            "text/plain": [
              "1.33333333333333"
            ],
            "text/latex": "$\\displaystyle 1.33333333333333$"
          },
          "metadata": {},
          "execution_count": 3
        }
      ]
    },
    {
      "cell_type": "markdown",
      "source": [
        "**16. Properties Of Expected Value**\n",
        "\n",
        "Properti dari expected value ini ada dua\n",
        "\n",
        "- Linearitas $E[X + Y] = E[X] + E[Y]$\n",
        "- Product Rule (untuk variable acak independen) $E[XY] = E[X]E[Y]$\n",
        "\n",
        "**Contoh Kasus 1 (Diskrit):**\n",
        "\n",
        "Anda mengambil dua kartu secara berurutan dari setumpuk kartu remi standar (52 kartu) tanpa pengembalian. Anggap nilai kartu adalah sebagai berikut: As=1, 2=2, ..., Jack=11, Queen=12, King=13.\n",
        "\n",
        "$X$ adalah nilai kartu pertama.\n",
        "\n",
        "$Y$ adalah nilai kartu kedua.\n",
        "\n",
        "Pertanyaannya: Berapa nilai harapan dari jumlah kedua kartu tersebut, $E[X + Y]$?"
      ],
      "metadata": {
        "id": "VJuif1en57LC"
      }
    },
    {
      "cell_type": "code",
      "source": [
        "type = [\n",
        "    \"AS\", \"2\", \"3\", \"4\", \"5\", \"6\", \"7\", \"8\", \"9\", \"10\", \"Jack\", \"Queen\", \"King\"\n",
        "]\n",
        "\n",
        "deck = []\n",
        "for i in [\"Waru\", \"Love\", \"Keriting\", \"Lapis\"]:\n",
        "    for j in type:\n",
        "        deck.append(f\"{i}_{j}\")\n",
        "\n",
        "from collections import Counter as c\n",
        "dtc = c([i.split('_')[1] for i in deck])\n",
        "dt = [i for i in dtc.keys()]\n",
        "ld = len(deck)\n",
        "\n",
        "E_X = sum((i+1) * (dtc[j] / ld) for i, j in enumerate(dt))\n",
        "E_Y = E_X\n",
        "E_XY = sum(2 * (i+1) * (dtc[j] / ld) for i, j in enumerate(dt))\n",
        "E_Y + E_X, E_XY"
      ],
      "metadata": {
        "colab": {
          "base_uri": "https://localhost:8080/"
        },
        "id": "d4ytqkPw7jic",
        "outputId": "8aab884f-c814-4a9e-fb3c-07cf0c91b309"
      },
      "execution_count": null,
      "outputs": [
        {
          "output_type": "execute_result",
          "data": {
            "text/plain": [
              "(14.0, 14.0)"
            ]
          },
          "metadata": {},
          "execution_count": 17
        }
      ]
    },
    {
      "cell_type": "markdown",
      "source": [
        "**Contoh Kasus 2 (Continue)**\n",
        "\n",
        "Anda memesan makanan melalui aplikasi. Ada dua komponen waktu tunggu yang bersifat acak dan independen:\n",
        "\n",
        "Waktu Tiba Ojek (Variabel $X$): Waktu yang dibutuhkan ojek untuk sampai ke restoran. Waktu ini terdistribusi pada rentang $[0, 10]$ menit dengan PDF berbentuk segitiga:\n",
        "\n",
        "$p(x)=cx$ untuk $0≤x≤10$\n",
        "\n",
        "Waktu Siap Makanan (Variabel $Y$): Waktu yang dibutuhkan restoran untuk menyiapkan pesanan Anda. Waktu ini terdistribusi secara uniform pada rentang $[5, 15]$ menit.\n",
        "\n",
        "Pertanyaannya:\n",
        "\n",
        "- Berapa total waktu tunggu rata-rata Anda, $E[X + Y]$?\n",
        "\n",
        "- Berapa nilai harapan dari perkalian kedua waktu tersebut, $E[XY]$?"
      ],
      "metadata": {
        "id": "OHbJj_54F4-M"
      }
    },
    {
      "cell_type": "code",
      "source": [
        "import sympy as sp\n",
        "c, x, y = sp.symbols('c x y')\n",
        "\n",
        "I_x = sp.integrate(c*x, (x, 0, 10))\n",
        "equation_x = sp.Eq(I_x, 1)\n",
        "c_solve_x = sp.solve(equation_x, c)\n",
        "P_x = c_solve_x[0] * x\n",
        "\n",
        "equation_y = sp.Eq(c * (15 - 5), 1)\n",
        "c_solve_y = sp.solve(equation_y, c)\n",
        "P_y = c_solve_y[0]\n",
        "\n",
        "E_x = sp.integrate(x * P_x, (x, 0, 10))\n",
        "E_y = sp.integrate(x * P_y, (x, 5, 15))\n",
        "\n",
        "E_x + E_y, E_x * E_y"
      ],
      "metadata": {
        "colab": {
          "base_uri": "https://localhost:8080/"
        },
        "id": "h04Fr20gHFQQ",
        "outputId": "9259a0eb-b393-4566-d598-8bb8f4e5b204"
      },
      "execution_count": 17,
      "outputs": [
        {
          "output_type": "execute_result",
          "data": {
            "text/plain": [
              "(50/3, 200/3)"
            ]
          },
          "metadata": {},
          "execution_count": 17
        }
      ]
    },
    {
      "cell_type": "markdown",
      "source": [
        "$$\\int_0^{10}\\int_5^{15} (x + y)\\cdot p(x, y)\\ \\text{d}y\\ \\text{d}x$$"
      ],
      "metadata": {
        "id": "usDQV9u8MaQb"
      }
    },
    {
      "cell_type": "code",
      "source": [
        "import sympy as sp\n",
        "c, x, y = sp.symbols('c x y')\n",
        "\n",
        "sp.integrate(sp.integrate((x + y) * P_x * P_y, (y, 5, 15)), (x, 0, 10))"
      ],
      "metadata": {
        "colab": {
          "base_uri": "https://localhost:8080/",
          "height": 51
        },
        "id": "9vNjvCxvL2yv",
        "outputId": "feca0ae1-0b81-487b-8eb0-007e28d7ed7d"
      },
      "execution_count": 19,
      "outputs": [
        {
          "output_type": "execute_result",
          "data": {
            "text/plain": [
              "50/3"
            ],
            "text/latex": "$\\displaystyle \\frac{50}{3}$"
          },
          "metadata": {},
          "execution_count": 19
        }
      ]
    },
    {
      "cell_type": "markdown",
      "source": [
        "$$\\int_0^{10}\\int_5^{15} xy\\cdot p(x, y)\\ \\text{d}y\\ \\text{d}x$$"
      ],
      "metadata": {
        "id": "UnkihTCqMvPZ"
      }
    },
    {
      "cell_type": "code",
      "source": [
        "import sympy as sp\n",
        "c, x, y = sp.symbols('c x y')\n",
        "\n",
        "sp.integrate(sp.integrate((x * y) * P_x * P_y, (y, 5, 15)), (x, 0, 10))"
      ],
      "metadata": {
        "colab": {
          "base_uri": "https://localhost:8080/",
          "height": 51
        },
        "id": "J8lBG-owMUXH",
        "outputId": "4fa5312b-c97b-4b9c-a077-7ab78fb46399"
      },
      "execution_count": 20,
      "outputs": [
        {
          "output_type": "execute_result",
          "data": {
            "text/plain": [
              "200/3"
            ],
            "text/latex": "$\\displaystyle \\frac{200}{3}$"
          },
          "metadata": {},
          "execution_count": 20
        }
      ]
    }
  ]
}