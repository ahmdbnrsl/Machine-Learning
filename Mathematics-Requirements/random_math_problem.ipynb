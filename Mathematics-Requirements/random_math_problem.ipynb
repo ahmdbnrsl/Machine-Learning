{
  "nbformat": 4,
  "nbformat_minor": 0,
  "metadata": {
    "colab": {
      "provenance": [],
      "gpuType": "V28",
      "authorship_tag": "ABX9TyMOgHv6elFqcBwxbpXDEIUP",
      "include_colab_link": true
    },
    "kernelspec": {
      "name": "python3",
      "display_name": "Python 3"
    },
    "language_info": {
      "name": "python"
    },
    "accelerator": "TPU"
  },
  "cells": [
    {
      "cell_type": "markdown",
      "metadata": {
        "id": "view-in-github",
        "colab_type": "text"
      },
      "source": [
        "<a href=\"https://colab.research.google.com/github/ahmdbnrsl/Machine-Learning/blob/main/Mathematics-Requirements/random_math_problem.ipynb\" target=\"_parent\"><img src=\"https://colab.research.google.com/assets/colab-badge.svg\" alt=\"Open In Colab\"/></a>"
      ]
    },
    {
      "cell_type": "markdown",
      "source": [
        "$$\\sum\\\\[0.5cm]\n",
        "\\left\\{\\text{ SIG}\\Sigma\\text{ATHS }\\right\\}$$\n",
        "---"
      ],
      "metadata": {
        "id": "-xzJHBsKjC1U"
      }
    },
    {
      "cell_type": "markdown",
      "source": [
        "$$\\sqrt{\\frac{6^3 + 12^3}{6^3}}\\\\\n",
        "\\sqrt{\\frac{6^3+2^3\\cdot6^3}{6^3}}\\\\\n",
        "\\sqrt{\\frac{6^3(8+1)}{6^3}}\\\\\n",
        "\\sqrt{9} = 3$$"
      ],
      "metadata": {
        "id": "ZQlhX0TTjpv9"
      }
    },
    {
      "cell_type": "code",
      "source": [
        "((6**3 + 12**3)/6**3)**(1/2)"
      ],
      "metadata": {
        "colab": {
          "base_uri": "https://localhost:8080/"
        },
        "id": "wZeGJjMmoDtW",
        "outputId": "c1bfefe5-5703-43c3-ab0b-ac9685cbc25d"
      },
      "execution_count": null,
      "outputs": [
        {
          "output_type": "execute_result",
          "data": {
            "text/plain": [
              "3.0"
            ]
          },
          "metadata": {},
          "execution_count": 1
        }
      ]
    },
    {
      "cell_type": "markdown",
      "source": [
        "$$\\int_0^\\infty \\frac{10\\sin(x)}{2x}\\ dx\\\\\n",
        "5 \\int_0^\\infty \\frac{\\sin(x)}{x}\\ dx\\\\\n",
        "5 \\left[\\text{Si}(x)\\right]_0^\\infty\\\\\n",
        "5 \\left(\\frac{\\pi}{2} - 0\\right)\\\\\n",
        "\\frac{5\\pi}{2}$$"
      ],
      "metadata": {
        "id": "OgckYC-KoQwi"
      }
    },
    {
      "cell_type": "code",
      "source": [
        "import sympy as sp\n",
        "x = sp.symbols('x')\n",
        "sp.integrate((10*sp.sin(x))/(2*x), (x, 0, float('inf')))"
      ],
      "metadata": {
        "colab": {
          "base_uri": "https://localhost:8080/",
          "height": 51
        },
        "id": "dIhE4NUIiXHu",
        "outputId": "05f58c37-5d7d-4e01-c079-984f5f048f3f"
      },
      "execution_count": 4,
      "outputs": [
        {
          "output_type": "execute_result",
          "data": {
            "text/plain": [
              "5*pi/2"
            ],
            "text/latex": "$\\displaystyle \\frac{5 \\pi}{2}$"
          },
          "metadata": {},
          "execution_count": 4
        }
      ]
    }
  ]
}