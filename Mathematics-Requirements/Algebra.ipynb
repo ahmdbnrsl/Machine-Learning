{
  "nbformat": 4,
  "nbformat_minor": 0,
  "metadata": {
    "colab": {
      "provenance": [],
      "authorship_tag": "ABX9TyOUENbPSpL/ny62UXwxWkGR",
      "include_colab_link": true
    },
    "kernelspec": {
      "name": "python3",
      "display_name": "Python 3"
    },
    "language_info": {
      "name": "python"
    }
  },
  "cells": [
    {
      "cell_type": "markdown",
      "metadata": {
        "id": "view-in-github",
        "colab_type": "text"
      },
      "source": [
        "<a href=\"https://colab.research.google.com/github/ahmdbnrsl/Machine-Learning/blob/main/Mathematics-Requirements/Algebra.ipynb\" target=\"_parent\"><img src=\"https://colab.research.google.com/assets/colab-badge.svg\" alt=\"Open In Colab\"/></a>"
      ]
    },
    {
      "cell_type": "markdown",
      "source": [
        "**ALGEBRA**"
      ],
      "metadata": {
        "id": "KXhR_n-70vla"
      }
    },
    {
      "cell_type": "markdown",
      "source": [
        "**1. Division And Euclidian Algorithm**\n",
        "\n",
        "a. Division Algorithma (Algortihma Pembagian)\n",
        "\n",
        "Untuk setiap bilangan bulat a dan bilangan bulat positif b, akan selalu ada bilangan bulat q (quotient/pembilang) dan r (remainder/sisa) sedemikian hingga:\n",
        "\n",
        "$a = bq + r$\n",
        "\n",
        "dengan $0 <= r < b$\n",
        "\n",
        "contoh: $a = 30, => a = 9.3 + 3 => a = 3(3/9)$\n",
        "\n",
        "note : pembulatan hasil bagi selalu kebawah\n",
        "\n",
        "contoh 1. :\n",
        "\n",
        "$a = 31, b = 3$\n",
        "\n",
        "$q = 31/3$ => cari angka terdekat dibawah 31 yang dibagi dengan b hasil nya bilangan bulat (bukan desimal) => $30 / 3 = 10$\n",
        "\n",
        "untuk mencari $r$ => $r = a - b.q$ => $a = 31 - 3.10 = 1$\n",
        "\n",
        "tinggal subtitusi ke rumus $a = b.q + r$ => $31 = 3.10 + 1$\n",
        "\n",
        "contoh 2. :\n",
        "\n",
        "$a = -200, b = 30$\n",
        "\n",
        "$q = -200/30$ => $-210/30$ => $-7$\n",
        "\n",
        "$r = a - b.q$ => $-200 - 30.(-7) = -200 + 210 = 10$\n",
        "\n",
        "=> $a = b.q + r$ => $-200 = 30.(-7) + 10$"
      ],
      "metadata": {
        "id": "FbAUYjkY3BCf"
      }
    },
    {
      "cell_type": "code",
      "source": [
        "def division_algorithm(a, b):\n",
        "    q = (a - (a % b)) / b\n",
        "    r = a - b*q\n",
        "\n",
        "    return {'q': q, 'r': r, a: f\"{b} * {q} + {r}\"}\n",
        "\n",
        "a, b = -200, 30\n",
        "division_algorithm(a, b)\n",
        "\n",
        "a, b = 40, 9\n",
        "division_algorithm(a, b)"
      ],
      "metadata": {
        "colab": {
          "base_uri": "https://localhost:8080/"
        },
        "id": "NQsJWBLQ9S0Z",
        "outputId": "084ce785-a46c-40e8-ca59-d8e51a1ff221"
      },
      "execution_count": null,
      "outputs": [
        {
          "output_type": "execute_result",
          "data": {
            "text/plain": [
              "{'q': 4.0, 'r': 4.0, 40: '9 * 4.0 + 4.0'}"
            ]
          },
          "metadata": {},
          "execution_count": 2
        }
      ]
    },
    {
      "cell_type": "markdown",
      "source": [
        "b. Euclidian Algorithm (Algoritma Euclidian)\n",
        "\n",
        "Euclidean Algorithm adalah algoritma sistematis untuk mencari FPB (Faktor Persekutuan Terbesar / GCD - Greatest Common Divisor) dari dua bilangan bulat a dan b, dengan:\n",
        "\n",
        "$gcd(a, b)$\n",
        "\n",
        "jadii simplenya tuh Euclidian Algorithma  adalah algoritma untuk menentukan FPB (faktor persekutuan terbesar) / GCD (Greatest Common Divisor)  (bilangan bulat terbesar yang bisa membagi kedua bilangan (a, b) tanpa sisa alias menghasilkan bilangan bulat juga bukan desimal)\n",
        "\n",
        "note : $a >= b > 0$\n",
        "\n",
        "jika a < b maka tukar nilainya\n",
        "\n",
        "contoh:\n",
        "\n",
        "$gcd(36, 28)$\n",
        "\n",
        "$36 = 28 . 1 + 8$ => $r1 = 8$\n",
        "\n",
        "$28 = 8 . 3 + 4$ => $r2 = 4$\n",
        "\n",
        "$8 = 4 . 2 + 0$ => $r3 = 0$\n",
        "\n",
        "maka $r = 4$ karena hasil dari gcd adalah r terkecil sebelum 0\n",
        "\n",
        "dan jika $r1 = 0$ maka hasilnya b\n",
        "\n",
        "contoh lain :\n",
        "\n",
        "$1. gcd(84, 30)$\n",
        "\n",
        "\n",
        "\n",
        "$84 = 30 . 2 + 24$ => $24$\n",
        "\n",
        "$30 = 24 . 1 + 6$ => $6$\n",
        "\n",
        "$24 = 6 . 4 + 0$ => $0$\n",
        "\n",
        "jadi $gcd = 6$\n",
        "\n",
        "$2. gcd(128, 36)$\n",
        "\n",
        "\n",
        "\n",
        "$128 = 36 . 3 + 20$ => $20$\n",
        "\n",
        "$36 = 20 . 1 + 16$ => $16$\n",
        "\n",
        "$20 = 16 . 1 + 4$ => $4$\n",
        "\n",
        "$16 = 4 . 4 + 0$ => $0$\n",
        "\n",
        "jadi $gcd = 4$\n",
        "\n",
        "3. $gcd(119, 34)$\n",
        "\n",
        "\n",
        "\n",
        "$119 = 34 . 3 + 17$ => $17$\n",
        "\n",
        "$34 = 17 . 2 + 0$ => $0$\n",
        "\n",
        "jadi $gcd = 17$\n",
        "\n",
        "4. $gcd(144, 60)$\n",
        "\n",
        "\n",
        "\n",
        "$144 = 60 . 2 + 24$ => $24$\n",
        "\n",
        "$60 = 24 . 2 + 12$ => $12$\n",
        "\n",
        "$24 = 12 . 2 + 0$ => $0$\n",
        "\n",
        "jadi $gcd = 12$\n",
        "\n",
        "5. $gcd(270, 192)$\n",
        "\n",
        "\n",
        "\n",
        "$270 = 192 . 1 + 78$ => $78$\n",
        "\n",
        "$192 = 78 . 2 + 36$ => $36$\n",
        "\n",
        "$78 = 36 . 2 + 6$ => $6$\n",
        "\n",
        "$36 = 6 . 6 + 0$ => $0$\n",
        "\n",
        "jadi $gcd = 6$"
      ],
      "metadata": {
        "id": "ZWaUuu0QCl0i"
      }
    },
    {
      "cell_type": "code",
      "source": [
        "def gcd(a, b):\n",
        "    if a < b: a, b = b, a\n",
        "    q  = (a - (a % b)) / b\n",
        "    r = a - b*q\n",
        "    if r == 0: return b\n",
        "    return gcd(b, r)\n",
        "\n",
        "gcd(144, 60)"
      ],
      "metadata": {
        "colab": {
          "base_uri": "https://localhost:8080/"
        },
        "id": "D_A1kF3hEuV5",
        "outputId": "0943dc58-f7e2-4b1f-9a65-b7c21583450b"
      },
      "execution_count": null,
      "outputs": [
        {
          "output_type": "execute_result",
          "data": {
            "text/plain": [
              "12.0"
            ]
          },
          "metadata": {},
          "execution_count": 3
        }
      ]
    },
    {
      "cell_type": "markdown",
      "source": [
        "b.1 Bezout's identity\n",
        "\n",
        "apa itu Bezout's identity? jadii Bezout's identity adalah nilai x dan y yang jika dikalikan dengan a dan b lalu dijumlahkan (ax + by) hasilnya gcd(a, b)\n",
        "\n",
        "\n",
        "gimana cara mencarinya?\n",
        "\n",
        "misal soal => carilah Bezout's identity dari a = 290 dan b = 63\n",
        "\n",
        "langkah pertama, cari dulu gcd nya dengan methode Euclidian Algorithm\n",
        "\n",
        "$290 = 63 . 4 + 38$ => $r1 = 38$\n",
        "\n",
        "$63 = 38 . 1 + 25$ => $r2 = 25$\n",
        "\n",
        "$38 = 25 . 1 + 13$ => $r3 = 13$\n",
        "\n",
        "$25 = 13 . 1 + 12$ => $r4 = 12$\n",
        "\n",
        "$13 = 12 . 1 + 1$ => $r5 = 1$\n",
        "\n",
        "$12 = 1 . 12 + 0$ => $r6 = 0$\n",
        "\n",
        "maka $gcd(290, 63)$ => $1$\n",
        "\n",
        "lalu kita lakukan back-subtitution\n",
        "\n",
        "$1 = 13 - 12 . 1$\n",
        "\n",
        "$12 = 25 - 13 . 1$\n",
        "\n",
        "=> $1 = 13 - (25 - 13)$\n",
        "\n",
        "=> $1 = 13 - 25 + 13$\n",
        "\n",
        "$13 = 38 - 25 . 1$\n",
        "\n",
        "=> $1 = (38 - 25) - 25 + (38 - 25)$\n",
        "\n",
        "=> $1 = 2 . 38 -3 . 25$\n",
        "\n",
        "$25 = 63 - 38 . 1$\n",
        "\n",
        "=> $1 = 2 . 38 - 3 (63 - 38)$\n",
        "\n",
        "=> $1 = 2 . 38 - 3 . 63 + 3 . 38$\n",
        "\n",
        "=> $1 = 5 . 38 - 3 . 63$\n",
        "\n",
        "$38 = 290 - 63 . 4$\n",
        "\n",
        "=> $1 = 5 . (290 - 63 . 4) - 3 . 63$\n",
        "\n",
        "=> $1 = 5 . (290 - 4 . 63) - 3 .63$\n",
        "\n",
        "=> $1 = 5 . 290 - 20 . 63 - 3 . 63$\n",
        "\n",
        "=> $1 = 5 . 290 - 23 . 63$"
      ],
      "metadata": {
        "id": "MXvP0cqygOmK"
      }
    },
    {
      "cell_type": "markdown",
      "source": [
        "**2. Unique Factorization of Integers**\n",
        "\n",
        "Apa itu? jadi Unique Factorization of Integers adalah faktorisasi bilangan integer yang hanya berisi bilangan prima, dengan kata lain pecah sebuah bilangan menjadi hasil perkalian yang isinya hanya bilangan prima.\n",
        "\n",
        "note : jika semua perkalian sudah berisi semua bilangan prima maka hanya itulah solusi satu satunya dari faktorisasi prima tersebut (urutan perkalian boleh berbeda tetapi isi angka pasti akan tetap sama).\n",
        "\n",
        "\n",
        "contoh : Faktorisasikan 1562 menjadi UFoI\n",
        "\n",
        "langkah pertama bagi angka tersebut mulai dari bilangan prima terkecil jika, hasil nya adalah desimal maka lanjut bagi ke bilangan prima yang lebih besar\n",
        "\n",
        "=> $1562 / 2 = 781$ => hasil nya masih bilangan bulat, maka 2 masuk ke list\n",
        "\n",
        "lanjut bagi dengan 2 jika masih memungkin kan\n",
        "\n",
        "=> $781 / 2 = 390.5$ => hasilnya desimal maka kita naikan ke bilangan prima selanjutnya\n",
        "\n",
        "=> $781 / 3 = 260,3333$ => masih desimal maka kita naikan ke bilangan selanjutnya\n",
        "\n",
        "=> $781 / 5$ = udah jelas ini desimal, lanjut\n",
        "\n",
        "=> $781 / 7$ = desimal, lanjut\n",
        "\n",
        "=> $781 / 11 = 71$ => oke karena bilangan bulat, maka masuk list\n",
        "\n",
        "lanjut\n",
        "\n",
        "=> $71$, karena $71$ adalah bilangan prima maka hasil akhirnya $71$\n",
        "\n",
        "sooo list perkaliannya adalah => $2 . 11 . 71 = 1562$"
      ],
      "metadata": {
        "id": "nahnEk6qL6Aq"
      }
    },
    {
      "cell_type": "code",
      "source": [
        "\n",
        "def is_prime(num):\n",
        "    for i in range(2, int(num / 2) + 1):\n",
        "        if i != num and num % i == 0: return False\n",
        "    return True\n",
        "\n",
        "def generate_prime_after(num):\n",
        "    result = num + 1\n",
        "    while not is_prime(result):\n",
        "        result += 1\n",
        "    return result\n",
        "\n",
        "def unique_factorization(number):\n",
        "    prime = 2\n",
        "    factors = []\n",
        "    temp = number\n",
        "\n",
        "    while not is_prime(temp):\n",
        "        if temp % prime == 0:\n",
        "            temp = temp / prime\n",
        "            factors.append(prime)\n",
        "        else:\n",
        "            prime = generate_prime_after(prime)\n",
        "    factors.append(temp)\n",
        "    return factors\n",
        "\n",
        "unique_factorization(36)"
      ],
      "metadata": {
        "colab": {
          "base_uri": "https://localhost:8080/"
        },
        "id": "KDAjI7IzLL1K",
        "outputId": "2da6d9bd-51f4-419c-9e50-73399fe77732"
      },
      "execution_count": null,
      "outputs": [
        {
          "output_type": "execute_result",
          "data": {
            "text/plain": [
              "[2, 2, 3, 3.0]"
            ]
          },
          "metadata": {},
          "execution_count": 4
        }
      ]
    },
    {
      "cell_type": "markdown",
      "source": [
        "**2.1 Positive Divisor from Prime Factorization**\n",
        "\n",
        "apa artinya? jadi positive divisor tuh artinya berapa jumlah pembagi postive n hasil dari faktorisasi prima\n",
        "\n",
        "contoh berapa pembagi positive dari $420$\n",
        "\n",
        "langkahnya adalah\n",
        "\n",
        "1. cari dulu faktorisasi primanya\n",
        "\n",
        "$420 / 2 = 210$ => $2$\n",
        "\n",
        "$210 / 2 = 105$ => $2$\n",
        "\n",
        "$105 / 3 = 35$ => $3$\n",
        "\n",
        "$35 / 5 = 7$ => $5$\n",
        "\n",
        "$7 / 7 = 1$ => $7$\n",
        "\n",
        "Jadii faktorisasi primanya adalah $2 . 2 . 3 . 5 . 7$ atau bisa ditulis dengan $2^2 . 3 . 5 .7$\n",
        "\n",
        "jika sudah ketemu faktor primanya maka kita gunakan rumus $(ki + 1)$ dimana $k$ adalah pangkat dari masing-masing faktor prima.\n",
        "\n",
        "jadi kalau kita tulis ulang faktorisasi prima nya maka akan jadi seperti ini => $2^2 . 3^1 . 5^1 . 7^1$ => lalu semua pangkatnya kita subtitusikan ke rumus menjadi :\n",
        "\n",
        "$(2 + 1) . (1 + 1) . (1 + 1) . (1 + 1) = 3 . 2^3 = 24$\n",
        "\n",
        "jadi ada $24$ pembagi positive untuk $420$ yang hasil nya bilangan bulat."
      ],
      "metadata": {
        "id": "HdJ1-RGFZJy-"
      }
    },
    {
      "cell_type": "code",
      "source": [
        "# Positive Divisor from prime Factorization.\n",
        "\n",
        "from collections import Counter as c\n",
        "\n",
        "def positive_divisor(number):\n",
        "    prime_factor = unique_factorization(number)\n",
        "    power = [value for value in c(prime_factor).values()]\n",
        "\n",
        "    result = 1\n",
        "    for i in power:\n",
        "        result *= i + 1\n",
        "    return result\n",
        "\n",
        "positive_divisor(420)"
      ],
      "metadata": {
        "colab": {
          "base_uri": "https://localhost:8080/"
        },
        "id": "s6qsdF1pb5ob",
        "outputId": "adfbbd00-88a1-439b-bb06-bfd52f0ece88"
      },
      "execution_count": null,
      "outputs": [
        {
          "output_type": "execute_result",
          "data": {
            "text/plain": [
              "24"
            ]
          },
          "metadata": {},
          "execution_count": 5
        }
      ]
    },
    {
      "cell_type": "markdown",
      "source": [
        "**2.2 GCD atau FPB dan LCM atau KPK dari Faktorisasi Prima**\n",
        "\n",
        "jadii ini adalah jalan menemukan FPB dan KPK dari faktorisasi prima\n",
        "\n",
        "contoh soal :\n",
        "\n",
        "temukan FPB dan KPK dari $256$ dan $128$\n",
        "\n",
        "1. Temukan faktorisasi prima dari keduanya\n",
        "\n",
        "$256 / 2 = 128$\n",
        "\n",
        "$128 / 2 = 64$\n",
        "\n",
        "$64 / 2 = 32$\n",
        "\n",
        "$32 / 2 = 16$\n",
        "\n",
        "$16 / 2 = 8$\n",
        "\n",
        "$8 / 2 = 4$\n",
        "\n",
        "$4 / 2 = 2$\n",
        "\n",
        "$2 / 2 = 1$\n",
        "\n",
        "hasil nya => $2^8$ lalu dari $128 = 2^7$\n",
        "\n",
        "jika sudah untuk mencari FPB adalah dengan mengggabungkan hasil faktorisasi, untuk angka yang sama, ambil pangkat terkecil, misal hasil faktorisasi adalah:\n",
        "\n",
        "$a = 2^2 . 3^1 . 5^3 . 7$\n",
        "\n",
        "$b = 2^1 . 3^2 . 5^4$\n",
        "\n",
        "maka FPB nya adalah => $2^1 . 3^1 . 5^3$\n",
        "\n",
        "jika diambil dari soal\n",
        "\n",
        "$256 = 2^8$\n",
        "\n",
        "$128 = 2^7$\n",
        "\n",
        "maka hasilnya: $2^7 = 128$\n",
        "\n",
        "nahh untuk mencari KPK adalah dengan menggabungkan semua faktorisasi tetapi jika ada angka yang sama kita ambil pangkat terbesarnya, misal :\n",
        "\n",
        "$a = 2^2 . 3^1 . 5^3 . 7$\n",
        "\n",
        "$b = 2^1 . 3^2 . 5^4$\n",
        "\n",
        "maka KPK nya adalah => $2^2 . 3^2 . 5^4 . 7$\n",
        "\n",
        "jika diambil dari soal\n",
        "\n",
        "$256 = 2^8$\n",
        "\n",
        "$128 = 2^7$\n",
        "\n",
        "maka hasilnya: $2^8 = 256$"
      ],
      "metadata": {
        "id": "F-GqGkUYdWv2"
      }
    },
    {
      "cell_type": "code",
      "source": [
        "# GCD and LCM from Prime Factorization\n",
        "from collections import Counter as c\n",
        "\n",
        "def gcd_lcm_from_prime(a, b):\n",
        "    prime_fac_a = unique_factorization(a)\n",
        "    prime_fac_b = unique_factorization(b)\n",
        "\n",
        "    pfa = c(prime_fac_a)\n",
        "    pfb = c(prime_fac_b)\n",
        "\n",
        "    gcd = 1\n",
        "    for key, val in pfa.items():\n",
        "        if key in pfb:\n",
        "            gcd *= int(key) ** min(val, pfb[key])\n",
        "\n",
        "    lcm = 1\n",
        "    for i in set(prime_fac_a + prime_fac_b):\n",
        "        if i in pfa and i in pfb:\n",
        "            power = max(pfa[i], pfb[i])\n",
        "        else:\n",
        "            power = pfa[i] if i in pfa else pfb[i]\n",
        "\n",
        "        lcm *= i ** power\n",
        "\n",
        "    return gcd, lcm\n",
        "\n",
        "\n",
        "gcd_lcm_from_prime(315, 168)"
      ],
      "metadata": {
        "colab": {
          "base_uri": "https://localhost:8080/"
        },
        "id": "Y0ArT-qsgUB5",
        "outputId": "f3d3e1bb-9e03-4d19-f1ee-fcc853e37284"
      },
      "execution_count": null,
      "outputs": [
        {
          "output_type": "execute_result",
          "data": {
            "text/plain": [
              "(21, 2520.0)"
            ]
          },
          "metadata": {},
          "execution_count": 6
        }
      ]
    },
    {
      "cell_type": "markdown",
      "source": [
        "**2.3 Chinese Remainder Theorem**\n",
        "\n",
        "Apa sih itu? jadi CRT ini adalah mencari solusi untuk $x$, jika diberi soal berikut :\n",
        "\n",
        "$x ≈ 1 mod 4$ (artinya $x$ berapa yang di modulo $4$ hasilnya $1$)\n",
        "\n",
        "$x ≈ 3 mod 5$\n",
        "\n",
        "langkah langkahnya :\n",
        "\n",
        "cari $m^-1 mod n$ => $m = 4$, $n = 5$\n",
        "\n",
        "artinya $4$ kali berapa yang di modulo $5$ hasilnya $1$\n",
        "\n",
        "langsung kita cari :\n",
        "\n",
        "$4×1 = 4 mod 5 ≠ 1$\n",
        "\n",
        "$4×2 = 8 mod 5 ≠ 1$\n",
        "\n",
        "$4×3 = 12 mod 5 ≠ 1$\n",
        "\n",
        "$4×4 = 16 mod 5 = 1$\n",
        "\n",
        "jadi solusi untuk $4.x mod 5 = 1$ adalah $4$ maka, $m^-1 = 4$\n",
        "\n",
        "kita subtitusikan ke rumus $a + m . [(b - a) . m^-1 mod n]$\n",
        "\n",
        "$1 + 4 . [(3 - 1) . 4 mod 5]$\n",
        "\n",
        "$1 + 4 . [8 mod 5]$\n",
        "\n",
        "$1 + 4 . 3 = 13$\n",
        "\n",
        "jadi hasilnya adalah $13$\n",
        "\n",
        "kita buktikan ke soal\n",
        "\n",
        "$13 mod 4 = 1$ ✓\n",
        "\n",
        "$13 mod 5 = 3$ ✓"
      ],
      "metadata": {
        "id": "xq8KuvZyrwko"
      }
    },
    {
      "cell_type": "code",
      "source": [
        "def crt(a, b, m, n):\n",
        "    m_invers = 0\n",
        "    multi = 1\n",
        "    while m_invers == 0:\n",
        "        if (m * multi) % n == 1: m_invers = multi\n",
        "        multi += 1\n",
        "    return a + m * (((b - a) * m_invers) % n)\n",
        "\n",
        "crt(1, 3, 4, 5)"
      ],
      "metadata": {
        "colab": {
          "base_uri": "https://localhost:8080/"
        },
        "id": "ltBRHo0Vvmhn",
        "outputId": "332247d9-a235-4095-f747-0857d83c776b"
      },
      "execution_count": null,
      "outputs": [
        {
          "output_type": "execute_result",
          "data": {
            "text/plain": [
              "13"
            ]
          },
          "metadata": {},
          "execution_count": 7
        }
      ]
    },
    {
      "cell_type": "markdown",
      "source": [
        "**2.4 Phi Function**\n",
        "\n",
        "Tujuan dari $phi(n)$ function adalah mencari bilangan dari $1 - n$ yang relative terhadap prima, artinya cari bilangan dari $1 - n$ dimana $gcd(n, i) = 1$\n",
        "\n",
        "kita bisa menggunakan rumus ini :\n",
        "\n",
        "$phi(n) = n . (1 - 1/p_1) . (1 - 1/p_2) .... (1 - 1/p_i)$\n",
        "\n",
        "contoh soal:\n",
        "\n",
        "tentukan $phi(30)$\n",
        "\n",
        "langkahnya:\n",
        "\n",
        "cari faktorisasi prima nya\n",
        "\n",
        "$30/2 = 15$\n",
        "\n",
        "$15/3 = 5$\n",
        "\n",
        "$5/5 = 1$\n",
        "\n",
        "$30 = 2 . 3 . 5$\n",
        "\n",
        "subtitusikan ke rumus\n",
        "\n",
        "$30 . (1 - 1/2) . (1 - 1/3) . (1 - 1/5)$\n",
        "\n",
        "$30 . 1/2 . 2/3 . 4/5$\n",
        "\n",
        "$15 . 2/3 . 4/5$\n",
        "\n",
        "$10 . 4/5$\n",
        "\n",
        "$40 / 5 = 8$\n",
        "\n",
        "jadi hasil dari $phi(30) = 8$"
      ],
      "metadata": {
        "id": "4v4RgGsWxAGl"
      }
    },
    {
      "cell_type": "code",
      "source": [
        "# tanpa rumus\n",
        "def phi(number):\n",
        "    count = 0\n",
        "    for i in range(1, number + 1):\n",
        "        if gcd(number, i) == 1: count += 1\n",
        "    return count\n",
        "\n",
        "phi(100)"
      ],
      "metadata": {
        "colab": {
          "base_uri": "https://localhost:8080/"
        },
        "id": "PDXfOYi1R5x3",
        "outputId": "442e367d-2a47-4bb9-f823-ed006b472602"
      },
      "execution_count": null,
      "outputs": [
        {
          "output_type": "execute_result",
          "data": {
            "text/plain": [
              "40"
            ]
          },
          "metadata": {},
          "execution_count": 8
        }
      ]
    },
    {
      "cell_type": "code",
      "source": [
        "# menggunakan rumus\n",
        "def phi(number):\n",
        "    prime_factor = set(unique_factorization(number))\n",
        "    result = number\n",
        "    for p in prime_factor:\n",
        "        result *= 1 - 1/p\n",
        "    return result\n",
        "\n",
        "phi(100)"
      ],
      "metadata": {
        "colab": {
          "base_uri": "https://localhost:8080/"
        },
        "id": "PwhptCKsz8_Y",
        "outputId": "a17ce447-21d1-4ba2-f9f7-dbd94bf30720"
      },
      "execution_count": null,
      "outputs": [
        {
          "output_type": "execute_result",
          "data": {
            "text/plain": [
              "40.0"
            ]
          },
          "metadata": {},
          "execution_count": 12
        }
      ]
    },
    {
      "cell_type": "markdown",
      "source": [
        "Proof $phi(ab) = phi(a)phi(b)$ if $GCD(a, b) = 1$"
      ],
      "metadata": {
        "id": "gELQZZrVsf4b"
      }
    },
    {
      "cell_type": "code",
      "source": [
        "# Pembuktian\n",
        "\n",
        "phi(23*20), phi(23) * phi(20)"
      ],
      "metadata": {
        "colab": {
          "base_uri": "https://localhost:8080/"
        },
        "id": "k4CQe__Usq6U",
        "outputId": "cf675d6a-d85c-4f66-bd4b-937359d2a0a7"
      },
      "execution_count": null,
      "outputs": [
        {
          "output_type": "execute_result",
          "data": {
            "text/plain": [
              "(176.0, 176.0)"
            ]
          },
          "metadata": {},
          "execution_count": 15
        }
      ]
    },
    {
      "cell_type": "markdown",
      "source": [
        "**2.5 GCD untuk multi bilangan**\n",
        "\n",
        "Gimana langkahnya? ini dia langkahnya :\n",
        "\n",
        "jadi untuk mencari gcd dari multi bilangan ada dua cara\n",
        "\n",
        "*a. dari faktor prima*\n",
        "\n",
        "gimana langkahnya?, jadi kita cari masing masing faktor prima dari masing-masing input misal $84, 120, 132$ nahh kita cari faktor prima dari ketiga input tersebut\n",
        "\n",
        "=> $84 = 2^2 . 3 . 7$\n",
        "\n",
        "=> $120 = 2^3 . 3 . 5$\n",
        "\n",
        "=> $132 = 2^2 . 3 . 11$\n",
        "\n",
        "nahh jika sudah ketemu, kita cari basis bilangan prima yang muncul di setiap input, jika dari soal maka bisa kita dapatkan => $2$ dan $3$ lalu, kita terapkan pangkat terkecil dari bilangan tersebut dari keseluruhan input, maka ketemulah $2^2 . 3^1$, jadi hasilnya adalah => $2^2 . 3 = 12$"
      ],
      "metadata": {
        "id": "NCxmyFP46oWM"
      }
    },
    {
      "cell_type": "code",
      "source": [
        "\n",
        "from collections import Counter as c\n",
        "\n",
        "def gcd_multiple(*inputs):\n",
        "    length = len(inputs)\n",
        "    pf = unique_factorization\n",
        "    primes = [pf(i) for i in inputs]\n",
        "\n",
        "    sets = []\n",
        "    for i in primes:\n",
        "        sets = [*sets, *set(i)]\n",
        "\n",
        "    counter = c(sets)\n",
        "    all = [key for key, val in counter.items() if val == length]\n",
        "\n",
        "    results = {}\n",
        "    for i in primes:\n",
        "        ci = c(i)\n",
        "        for j in all:\n",
        "            if len(results) < len(all):\n",
        "                results[j] = j**ci[j]\n",
        "                continue\n",
        "            if results[j] > j**ci[j]: results[j] = j**ci[j]\n",
        "\n",
        "    result = 1\n",
        "    for i in results.values():\n",
        "        result *= i\n",
        "    return result\n",
        "\n",
        "gcd_multiple(84, 120, 132, 90, 96)"
      ],
      "metadata": {
        "colab": {
          "base_uri": "https://localhost:8080/"
        },
        "id": "CUBS_wd98MwP",
        "outputId": "71d6cafb-fa95-4014-b914-4ae585d977cc"
      },
      "execution_count": null,
      "outputs": [
        {
          "output_type": "execute_result",
          "data": {
            "text/plain": [
              "6"
            ]
          },
          "metadata": {},
          "execution_count": 27
        }
      ]
    },
    {
      "cell_type": "markdown",
      "source": [
        "*b. menggunakan rekursi $GCD(a, b)$*\n",
        "\n",
        "langkahnya => jika input a, b, c, d maka rumusnya adalah $GCD(GCD(GCD(a, b), c), d)$"
      ],
      "metadata": {
        "id": "Gc6WZZceFQ4u"
      }
    },
    {
      "cell_type": "code",
      "source": [
        "def gcd_mr(*inputs):\n",
        "    a = inputs[:len(inputs) - 1]\n",
        "    b = inputs[len(inputs) - 1]\n",
        "\n",
        "    if len(inputs) > 3:\n",
        "        return gcd(gcd_mr(*a), b)\n",
        "    return gcd(gcd(*a), b)\n",
        "\n",
        "\n",
        "gcd_mr(84, 120, 132, 90, 96)"
      ],
      "metadata": {
        "colab": {
          "base_uri": "https://localhost:8080/"
        },
        "id": "hnluZrILF4vt",
        "outputId": "d7ae3dd6-ace8-4a95-a1b3-ecf7ac5dcb51"
      },
      "execution_count": null,
      "outputs": [
        {
          "output_type": "execute_result",
          "data": {
            "text/plain": [
              "6.0"
            ]
          },
          "metadata": {},
          "execution_count": 78
        }
      ]
    },
    {
      "cell_type": "markdown",
      "source": [
        "**2.6 Bzout's Identity dari GCD multi bilangan**\n",
        "\n",
        "rumusnya hampir sama dengan Bzout's Identity dua bilangan, langkahnya adalah, back subtition rekursi, maksudnya kita lakukan back subtitution pada setiap hasil rekursi lalu subtitusikan\n",
        "\n",
        "contoh :\n",
        "\n",
        "84, 120, 132\n",
        "\n",
        "cari $GCD(GCD(a, b), c)$\n",
        "\n",
        "1. $GCD(a, b)$ => $GCD(120, 84)$\n",
        "\n",
        "Setelah melakukan back subtitution maka ketemu $x_1 = -2, x_2 = 3$\n",
        "\n",
        "2. $GCD(GCD(a, b), c)$ => kita tau bahwa hasil $GCD(a, b) = 12$ maka  $GCD(GCD(a, b), c) = GCD(132, 12)$\n",
        "\n",
        "Setelah ketemu hasilnya adalah 12, lalu subtitusikan hasil back-subtitution di langkah sebelumnya ke back-subtitution sekarang\n",
        "\n",
        "$(120 . (-2) + 84 . 3) . 132y = 12$\n",
        "\n",
        "maka $y = 0$"
      ],
      "metadata": {
        "id": "UXcGeEwwPWmq"
      }
    },
    {
      "cell_type": "markdown",
      "source": [
        "**3. Unique Factorization of Polynomials (UFP)**\n",
        "\n",
        "menyatakan bahwa:\n",
        "\n",
        "Setiap polinomial non-nol dalam suatu domain dapat difaktorkan menjadi perkalian dari polinomial irreduksibel, dan faktor-faktor ini unik hingga urutan dan konstanta pengali.\n",
        "\n",
        "contoh soal :\n",
        "\n",
        "Tentukan UFP dari : $f(x) = x^3 + x^2 - 4x - 4$\n",
        "\n",
        "langkah-langkah :\n",
        "\n",
        "cari faktor dari konstanta atau Rational Root Theorem\n",
        "\n",
        "dalam soal ini berarti $-4$, $-4$ meliputi faktor : $±1, ±2, ±4$\n",
        "\n",
        "$f(-1) = (-1)^3 + (-1)^2 - 4(-1) - 4 = 0$ karena ini sudah $0$ maka kita pakai $-1$, atau $(x + 1)$\n",
        "\n",
        "kita gunakan long division\n",
        "\n",
        "- ambil $x^3 / x = x^2$\n",
        "\n",
        "kalikan, $x^2(x + 1) = x^3 + x^2$\n",
        "\n",
        "kurangkan, $(x^3 + x^2) - (x^3 + x^2) = 0$\n",
        "\n",
        "- turunkan $-4x$ jadi expresi : $0 - 4x$\n",
        "\n",
        "- ambil $0 / x = 0$\n",
        "\n",
        "kalikan, $0(x + 1) = 0$\n",
        "\n",
        "kurangkan, $0 - 0 - 4x = -4x$\n",
        "\n",
        "- turunkan $-4$ jadi expresi $-4x - 4$\n",
        "\n",
        "- ambil $-4x / x = -4$\n",
        "\n",
        "kalikan, $-4(x + 1) = -4x - 4$\n",
        "\n",
        "kurangkan, $(-4x - 4) - (-4x - 4) = 0$\n",
        "\n",
        "hasil akhirnya $0$ berarti kita bisa pakai$(x + 1)(x^2 - 0 -4)$ => Jadi hasilnya adalah : $(x + 1)(x + 2)(x - 2)$"
      ],
      "metadata": {
        "id": "TJ4Oz5ofxEPD"
      }
    },
    {
      "cell_type": "code",
      "source": [
        "# Pakai Sympy Factor\n",
        "import sympy as sp\n",
        "\n",
        "x = sp.Symbol('x')\n",
        "\n",
        "sp.factor(sum((x**3, -4*(x**2), -7*x, 10)))"
      ],
      "metadata": {
        "colab": {
          "base_uri": "https://localhost:8080/",
          "height": 38
        },
        "id": "NMgaW54ydZJF",
        "outputId": "34444ede-118c-4d1c-dfda-875333c585e9"
      },
      "execution_count": 89,
      "outputs": [
        {
          "output_type": "execute_result",
          "data": {
            "text/plain": [
              "(x - 5)*(x - 1)*(x + 2)"
            ],
            "text/latex": "$\\displaystyle \\left(x - 5\\right) \\left(x - 1\\right) \\left(x + 2\\right)$"
          },
          "metadata": {},
          "execution_count": 89
        }
      ]
    },
    {
      "cell_type": "code",
      "source": [
        "\n",
        "# Jurus Ribet\n",
        "import sympy as sp\n",
        "\n",
        "x = sp.Symbol('x')\n",
        "\n",
        "def UFP(*f):\n",
        "    constant = f[len(f) - 1]\n",
        "    const_factor = []\n",
        "\n",
        "    for i in range(1, int(abs(constant / 2)) + 1):\n",
        "        if constant % i == 0:\n",
        "            const_factor = [*const_factor, i - i * 2, i]\n",
        "\n",
        "    func = sum(i for i in f)\n",
        "    a = None\n",
        "\n",
        "    for i in const_factor:\n",
        "        if func.subs({x : i}) == 0:\n",
        "            a = i\n",
        "            break\n",
        "\n",
        "    if not a: return func\n",
        "\n",
        "    ld = [f[0]]\n",
        "    division = []\n",
        "\n",
        "    for i in range(1, len(f)):\n",
        "        latest = ld[len(ld) - 1]\n",
        "        expresion =  latest + f[i]\n",
        "        division = [*division, latest / x]\n",
        "        ld = [*ld, (expresion) - (latest / x) * (x - a)]\n",
        "\n",
        "    return (x - a) * sp.factor(sum(i for i in division))\n",
        "\n",
        "UFP(x**3, -4*(x**2), -7*x, 10)"
      ],
      "metadata": {
        "colab": {
          "base_uri": "https://localhost:8080/",
          "height": 38
        },
        "id": "NBbVYhDXKKtz",
        "outputId": "d827cbb6-0394-4bfe-c97c-b314e062f6fe"
      },
      "execution_count": 90,
      "outputs": [
        {
          "output_type": "execute_result",
          "data": {
            "text/plain": [
              "(x - 5)*(x - 1)*(x + 2)"
            ],
            "text/latex": "$\\displaystyle \\left(x - 5\\right) \\left(x - 1\\right) \\left(x + 2\\right)$"
          },
          "metadata": {},
          "execution_count": 90
        }
      ]
    }
  ]
}