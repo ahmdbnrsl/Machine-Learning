{
  "nbformat": 4,
  "nbformat_minor": 0,
  "metadata": {
    "colab": {
      "provenance": [],
      "gpuType": "V28",
      "authorship_tag": "ABX9TyND3PhIYVc86NjyaAhuy57J",
      "include_colab_link": true
    },
    "kernelspec": {
      "name": "python3",
      "display_name": "Python 3"
    },
    "language_info": {
      "name": "python"
    },
    "accelerator": "TPU"
  },
  "cells": [
    {
      "cell_type": "markdown",
      "metadata": {
        "id": "view-in-github",
        "colab_type": "text"
      },
      "source": [
        "<a href=\"https://colab.research.google.com/github/ahmdbnrsl/Machine-Learning/blob/main/Mathematics-Requirements/Maulid1447.ipynb\" target=\"_parent\"><img src=\"https://colab.research.google.com/assets/colab-badge.svg\" alt=\"Open In Colab\"/></a>"
      ]
    },
    {
      "cell_type": "markdown",
      "source": [
        "$$\\sum\\\\\n",
        "\\left\\{\\ \\text{SIG}\\Sigma \\text{ATHS}\\ \\right\\}\\\\\n",
        "\\text{Saya Ahmad Beni Rusli Mengucapkan Selamat:}$$"
      ],
      "metadata": {
        "id": "b7jfJiAecA4q"
      }
    },
    {
      "cell_type": "code",
      "source": [
        "from sympy import integrate, symbols, limit, Symbol, sin, cos, log, E, Matrix, pi, diff\n",
        "from IPython.display import display, Math\n",
        "from numpy import array, linalg, float64\n",
        "from math import prod\n",
        "\n",
        "chars = []; t, x, y, z = symbols('t x y z')\n",
        "\n",
        "def gamma(number):\n",
        "    return integrate(t**(number - 1) * E**(-t), (t, 0, float('inf')))"
      ],
      "metadata": {
        "id": "onbzeY6UlXY1"
      },
      "execution_count": 59,
      "outputs": []
    },
    {
      "cell_type": "markdown",
      "source": [
        "$$\\left(\\int_5^{10} 2x\\ \\text{dx}\\right) + \\left(\\lim_{x \\to 0} \\frac{\\sin(2x)}{x}\\right)$$"
      ],
      "metadata": {
        "id": "BEnfaK0HhhZw"
      }
    },
    {
      "cell_type": "code",
      "source": [
        "formula_1 = integrate(2*x, (x, 5, 10)) + limit(sin(2*x)/x, x, 0)\n",
        "chars.append(formula_1)"
      ],
      "metadata": {
        "id": "paxux5YrmOJP"
      },
      "execution_count": 60,
      "outputs": []
    },
    {
      "cell_type": "markdown",
      "source": [
        "$$A = \\left(\\begin{matrix} \\frac{e^0}{4}\\cdot {}^{3}2 & 2 & 3 \\\\ \\ln(e) + e^0 & \\cos(2\\pi) & 3\\ \\cdot 2^{-1}\\\\ 8 & 4 & \\log_264\\end{matrix}\\right),\\ f(x, y) = x^3\\left(\\frac{6}{8} + 2y^2\\right) + \\ln(x)\\\\[1.5cm] \\Rightarrow f'_x\\left(\\left\\{\\int_0^{\\pi \\cdot \\text{rank}(A)} \\cos\\left(-x-\\frac{\\pi}{2}\\right)\\ \\text{dx}\\right\\},\\ \\sin^2\\pi + \\cos^2\\pi\\right)\\cdot \\sqrt{\\log_{3}81}$$"
      ],
      "metadata": {
        "id": "K1nxIA9JsJZ7"
      }
    },
    {
      "cell_type": "code",
      "source": [
        "def tetration(number, power):\n",
        "    result = number\n",
        "    for i in range(power - 1):\n",
        "        result = number ** result\n",
        "    return result\n",
        "\n",
        "A = Matrix([\n",
        "    [E**0/4 * tetration(2, 3), 2, 3],\n",
        "    [log(E) + E**0, cos(2 * pi), 3 * 2**(-1)],\n",
        "    [8, 4, log(64, 2)]\n",
        "])\n",
        "\n",
        "integration = integrate(cos(-x - pi/2), (x, 0, pi * A.rank()))\n",
        "\n",
        "def f(x, y):\n",
        "    return x**3 * (6/8 + 2*y**2) + log(x)\n",
        "\n",
        "diff_f_x = f(x, y).diff(x)\n",
        "\n",
        "formula_2 = diff_f_x.subs({x: integration, y: sin(pi)**2 + cos(pi)**2}) * log(81, 3)**(1/2)\n",
        "chars.append(formula_2)"
      ],
      "metadata": {
        "id": "aSZRq2vvsQT7"
      },
      "execution_count": 61,
      "outputs": []
    },
    {
      "cell_type": "markdown",
      "source": [
        "$$\\text{U} = \\left(\\begin{matrix}3-2i^2 & i\\\\\\sin(\\pi) & 2i^4\\end{matrix}\\right)\\\\[1cm]\n",
        "\\Rightarrow \\det(\\text{U} - \\lambda I) = 0\\Rightarrow \\left(\\sum_{\\text{i} = 1}^{8} \\text{i}\\cdot\\min(\\lambda) - \\cos{\\pi}\\right) + \\max(\\lambda)$$"
      ],
      "metadata": {
        "id": "bDAbKM7f7b8r"
      }
    },
    {
      "cell_type": "code",
      "source": [
        "U = Matrix([\n",
        "    [3 - 2*(1j**2), 1j],\n",
        "    [sin(pi), 2*1j**4]\n",
        "])\n",
        "\n",
        "eigenvalue = U.eigenvals().keys()\n",
        "formula_3 = sum(i * min(*eigenvalue) - cos(pi) for i in range(1, 9)) + max(*eigenvalue)\n",
        "chars.append(formula_3)"
      ],
      "metadata": {
        "id": "mBJBzPE092qo"
      },
      "execution_count": 62,
      "outputs": []
    },
    {
      "cell_type": "markdown",
      "source": [
        "$$\\int_0^{\\sqrt{25}} \\left\\{\\Gamma(4)\\right\\}x\\ \\text{dx}  + \\int_0^1\\Gamma(2)\\ \\text{dx}$$"
      ],
      "metadata": {
        "id": "I72L2Zpb1rRj"
      }
    },
    {
      "cell_type": "code",
      "source": [
        "formula_4 = integrate(gamma(4)*x, (x, 0, 25**(1/2))) + integrate(gamma(2), (x, 0, 1))\n",
        "chars.append(formula_4)"
      ],
      "metadata": {
        "id": "7gyFZz013vx5"
      },
      "execution_count": 63,
      "outputs": []
    },
    {
      "cell_type": "markdown",
      "source": [
        "$$3\\left(\\int_0^\\infty t^{4}e^{-t}\\ \\text{dt}\\right) - \\cos\\left(\\left(\\Gamma\\left(\\frac{1}{2}\\right)\\right)^2\\right)$$"
      ],
      "metadata": {
        "id": "9-ewCzPWqTlt"
      }
    },
    {
      "cell_type": "code",
      "source": [
        "integration_1 = integrate(t**4 * E**(-t), (t, 0, float('inf')))\n",
        "integration_2 = gamma(1/2)**2\n",
        "\n",
        "formula_5 = 3 * integration_1 - cos(integration_2)\n",
        "chars.append(formula_5)"
      ],
      "metadata": {
        "id": "MHO08RtpqV1y"
      },
      "execution_count": 64,
      "outputs": []
    },
    {
      "cell_type": "markdown",
      "source": [
        "$$\\text{Y} = \\left(\\begin{matrix}2 & 3 & 6 & 7\\\\4 & 8 & 2 & 3\\\\1 & 1.5 & 6 & 8\\\\6 & 9 & 18 & 26\\end{matrix}\\right) \\Rightarrow \\det(\\text{Y} - \\lambda I) = 0 \\Rightarrow y = \\prod_{\\text{i} = 1}^4 \\lambda_{\\text{i}}\\\\[1cm]\n",
        "\\text{Z} = \\left(\\begin{matrix}2 & 4 & 2\\\\1 & 4 & 6\\\\6 & 12 & 8\\end{matrix}\\right) \\Rightarrow \\det(\\text{Z} - \\lambda I) = 0 \\Rightarrow z = \\prod_{\\text{i} = 1}^3 \\lambda_{\\text{i}}\\\\[1cm]\n",
        "\\Longrightarrow y + z$$"
      ],
      "metadata": {
        "id": "nO-ImV6xQj9P"
      }
    },
    {
      "cell_type": "code",
      "source": [
        "Y = Matrix([\n",
        "    [2, 3, 6, 7],\n",
        "    [4, 8, 2, 3],\n",
        "    [1, 1.5, 6, 8],\n",
        "    [6, 9, 18, 26]\n",
        "])\n",
        "\n",
        "Z = Matrix([\n",
        "    [2, 4, 2],\n",
        "    [1, 4, 6],\n",
        "    [6, 12, 8]\n",
        "])\n",
        "\n",
        "lambda_y, lambda_z = Y.eigenvals().keys(), Z.eigenvals().keys()\n",
        "\n",
        "prod_y = prod(lambda_y)\n",
        "prod_z = prod(lambda_z)\n",
        "\n",
        "formula_6 = prod_y + prod_z\n",
        "chars.append(formula_6)"
      ],
      "metadata": {
        "id": "wZGuI4CIQmkv"
      },
      "execution_count": 65,
      "outputs": []
    },
    {
      "cell_type": "markdown",
      "source": [
        "$$g(x, y, z) = x^2+4y^2+3z^2+6xy+5xz+7yz\\\\[1cm]\\Rightarrow \\text{X} = \\nabla^2g\\Rightarrow \\left(\\sqrt{\\sum_{\\text{i} = 1}^3\\sum_{\\text{j} = 1}^3 x_{ij}^2}\\right)\\cdot \\sum_{\\text{i} = 1}^3 \\lambda_{\\text{i}}$$"
      ],
      "metadata": {
        "id": "FC9HYTBWxpO3"
      }
    },
    {
      "cell_type": "code",
      "source": [
        "g = x**2 + 4*y**2 + 3*z**2 + 6*x*y + 5*x*z + 7*y*z\n",
        "\n",
        "X = []\n",
        "for var in [x, y, z]:\n",
        "    grad = []\n",
        "    for v in [x, y, z]:\n",
        "        grad.append(g.diff(var).diff(v))\n",
        "    X.append(grad)\n",
        "\n",
        "X = array(X).astype(float64)\n",
        "\n",
        "def frobenius_norm(X):\n",
        "    return (sum(sum(xj**2 for xj in xi) for xi in X))**(1/2)\n",
        "\n",
        "formula_7 = round(frobenius_norm(X) * sum(linalg.eig(X)[0])**(1/2))"
      ],
      "metadata": {
        "id": "7XDkKK1ULn1e"
      },
      "execution_count": 66,
      "outputs": []
    },
    {
      "cell_type": "code",
      "source": [
        "year = [ord(i) for i in ' 1447 ']\n",
        "year.append(formula_7)\n",
        "chars.extend(year)\n",
        "Math(fr'$\\text{{{\"\".join([chr(int(i)) for i in chars])}}}')"
      ],
      "metadata": {
        "colab": {
          "base_uri": "https://localhost:8080/",
          "height": 37
        },
        "id": "SwxuCWZ2ih54",
        "outputId": "ee76b381-28fb-4ee7-9b2d-d0260a8e38de"
      },
      "execution_count": 67,
      "outputs": [
        {
          "output_type": "execute_result",
          "data": {
            "text/plain": [
              "<IPython.core.display.Math object>"
            ],
            "text/latex": "$\\displaystyle \\text{MAULID 1447 H}$"
          },
          "metadata": {},
          "execution_count": 67
        }
      ]
    }
  ]
}