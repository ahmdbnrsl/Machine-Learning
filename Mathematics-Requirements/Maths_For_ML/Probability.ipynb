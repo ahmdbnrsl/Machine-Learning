{
  "nbformat": 4,
  "nbformat_minor": 0,
  "metadata": {
    "colab": {
      "provenance": [],
      "gpuType": "V28",
      "include_colab_link": true
    },
    "kernelspec": {
      "name": "python3",
      "display_name": "Python 3"
    },
    "language_info": {
      "name": "python"
    },
    "accelerator": "TPU"
  },
  "cells": [
    {
      "cell_type": "markdown",
      "metadata": {
        "id": "view-in-github",
        "colab_type": "text"
      },
      "source": [
        "<a href=\"https://colab.research.google.com/github/ahmdbnrsl/Machine-Learning/blob/main/Mathematics-Requirements/Maths_For_ML/Probability.ipynb\" target=\"_parent\"><img src=\"https://colab.research.google.com/assets/colab-badge.svg\" alt=\"Open In Colab\"/></a>"
      ]
    },
    {
      "cell_type": "markdown",
      "source": [
        "# $$\\sum\\\\[1cm]\n",
        "\\left\\{\\text{ SIG}\\Sigma\\text{MATHS }\\right\\}$$"
      ],
      "metadata": {
        "id": "fS-Yu-ArSypT"
      }
    },
    {
      "cell_type": "markdown",
      "source": [
        "**PROBABILITY**\n",
        "\n",
        "**1. Ruang Sampel dan Peristiwa**\n",
        "\n",
        "Inti dari setiap experimen acak adalah (seperti melempar dadu da koin) adalah **Ruang Sampel** (dinotasikan dengan $\\Omega$), Ruang Sampel adalah sebuah himpunan semua kemungkinan hasil yang bisa terjadi. contoh, Melempar koin yang mempunyai dua sisi, yang berarti kemungkinan himpunan hasil yang bisa terjadi adalah $\\left\\{\\text{Angka, Gambar}\\right\\}$, misal sebuah dadu $\\Rightarrow \\left\\{\\text{1, 2, 3, 4, 5, 6}\\right\\}$\\\n",
        "Dari ruang sampel ini, kita tertarik pada peristiwa (Events), yaitu himpunan bagian dari $\\Omega$ yang ingin kita ukur kemungkinannya. **Peristiwa(A)**: ini adalah hasil spesifik atau kumpulan hasil, contoh dadu: Jika peristiwa A adalah munculnya angka ganjil, maka $A = \\left\\{1, 3, 5\\right\\}$\n",
        "\n",
        "**2. Ukuran Probabilitas dan Aturan Mainnya**\n",
        "\n",
        "Untuk mengukur kemungkinan terjadinya sebuah peristiwa, kita menggunakan Ukuran Probabilitas (dinotasikan dengan $P$). Ini adalah sebuah fungsi yang memberikan nilai antara 0 (Tidak mungkin terjadi) dan 1 (Pasti terjadi) pada setiap peristiwa, Fungsi probabilitas ini harus memenuhi 2 aturan dasar aksioma:\n",
        "- $P(\\Omega) = 1$\\\n",
        "Ariy=nya, probabilitas bahwa salah satu dari semua kemungk9inan hasil akan terjadi adalah 1 (100%). Ini Logis, karena saat melempar dadu, hasilnya pasti salah satu dari angka 1 sampai 6.\n",
        "- **Aditivitas Terhitung (_Countable Additivity_)**\\\n",
        "Jika memiliki serangkaian peristiwa yang saling lepas (disjoint), artinya tidak ada hasil yang sama diantara mereka (tidak bisa terjadi bersamaan), maka probabilitas gabungan dari peistiwa-peristiwa tersebut adalah jumlah dari probabilitas masing-masing.\n",
        "  - contoh dadu: Peristiwa muncul angka 1 dan peristiwa muncul angka 3 adalah saling lepas. maka, probabilitas muncul angka 1 atau 3 adalah: $$P(\\{1\\} \\cup P(\\{3\\}) = P(\\{1\\}) + P(\\{3\\}) = \\frac{1}{6} + \\frac{1}{6} = \\frac{2}{6}$$\n",
        "\n",
        "**3. Ruang Probabilitas dan Isitilah Penting**\n",
        "\n",
        "- **Ruang Probabilitas**: Gabungan dari tiga komponen: Ruang Sampel $(Ω)$, himpunan semua peristiwa $(F)$, dan Ukuran Probabilitas (P), yang ditulis sebagai $(Ω,F,P)$. Ini adalah kerangka kerja lengkap untuk setiap masalah probabilitas.\n",
        "- **Almost Surely (Hampir Pasti)**: Jika probabilitas sebuah peristiwa adalah 1 $(P(A)=1)$, kita katakan peristiwa $A$ terjadi hampir pasti.\n",
        "- **Almost Never (Hampir Tidak Pernah)**: Sebaliknya, jika probabilitas sebuah peristiwa adalah 0 $(P(A)=0)$, kita katakan peristiwa $A$ hampir tidak pernah terjadi.\n",
        "\n",
        "**4. Rumus Umum Probabilitas**\n",
        "\n",
        "$$P(A) = \\frac{B}{n}$$\n",
        "- $A \\rightarrow$ Peristiwa\n",
        "- $B \\rightarrow$ Jumlah yang diinginkan\n",
        "- $n \\rightarrow$ Jumlah total semua hasil yang mungkin\n",
        "\n",
        "Misalkan ada berapa kemungkinan muncul angka ganjil pada sistem pengacak angka antara 1 sampai 10"
      ],
      "metadata": {
        "id": "FMhX2P2MU4ui"
      }
    },
    {
      "cell_type": "code",
      "source": [
        "odd = []\n",
        "for i in range(1, 11):\n",
        "  if i % 2 != 0: odd.append(i)\n",
        "print(odd, len(odd))"
      ],
      "metadata": {
        "colab": {
          "base_uri": "https://localhost:8080/"
        },
        "id": "KCyfC1dOfLNM",
        "outputId": "7971e932-58c5-4d7b-9f7b-3272395924b1"
      },
      "execution_count": null,
      "outputs": [
        {
          "output_type": "stream",
          "name": "stdout",
          "text": [
            "[1, 3, 5, 7, 9] 5\n"
          ]
        }
      ]
    },
    {
      "cell_type": "markdown",
      "source": [
        "Himpunan angka ganjilnya adalah , kita masukin ini sebagai **Event** $\\Rightarrow \\{1, 3, 5, 7, 9\\}$:\n",
        "- $A = \\{1, 3, 5, 7, 9\\}$\n",
        "- $B = 5$\n",
        "- $n = 10$\n",
        "\n",
        "Susun Rumusnya:\n",
        "\n",
        "$$P(A) = \\frac{B}{n} = P(\\{1, 3, 5, 7, 9\\}) = \\frac{5}{10} = \\frac{1}{2}$$"
      ],
      "metadata": {
        "id": "QU0EoTUWfemZ"
      }
    },
    {
      "cell_type": "code",
      "source": [
        "import numpy as np\n",
        "\n",
        "odd, even = [], []\n",
        "\n",
        "for i in range(1000):\n",
        "  number = np.random.randint(1, 10)\n",
        "  odd.append(number) if number % 2 != 0 else even.append(number)\n",
        "\n",
        "round(len(odd)/len(odd + even), 2) # angka kemungkinannya, ini sangat mendekati 1/2"
      ],
      "metadata": {
        "colab": {
          "base_uri": "https://localhost:8080/"
        },
        "id": "zKW-Mxfdg7a7",
        "outputId": "753b3dbb-f83b-4cb3-808c-12036169ece8"
      },
      "execution_count": null,
      "outputs": [
        {
          "output_type": "execute_result",
          "data": {
            "text/plain": [
              "0.55"
            ]
          },
          "metadata": {},
          "execution_count": 74
        }
      ]
    },
    {
      "cell_type": "markdown",
      "source": [
        "**Contoh Kasus**\n",
        "\n",
        "Sebuah kantong berisi 10 kelereng dengan warna yang berbeda:\n",
        "- 5 kelereng merah\n",
        "- 3 kelereng biru\n",
        "- 2 kelereng hijau\n",
        "\n",
        "1. Jika diambil 1 kelereng dari kantong tersebut, berapa probabilitas kelereng itu berwarna biru?\\\n",
        "Hasil yang diinginkan: Kelereng berwarna biru $\\Rightarrow 3$ butir.\\\n",
        "Total Kelereng $\\Rightarrow 10$\\\n",
        "Peristiwa: Kelereng berwarna biru\n",
        "\n",
        "$$P(A) = \\frac{3}{10} = 0.3$$\n",
        "\n",
        "2. Berapa Probabilitas terambil kelereng Merah atau Hijau?\n",
        "- Kelereng Merah $\\Rightarrow 5$\n",
        "- Kelereng Hijau $\\Rightarrow 2$\n",
        "- Total Kelereng $\\Rightarrow 10$\\\n",
        "$$P(5 \\cup 2) = P(5) + P(2) = \\frac{5 + 2}{10} = \\frac{7}{10} = 0.7$$\n",
        "3. Berapa Probabilitas terambil kelereng Bukan Hijau?\n",
        "- Kelereng Hijau $\\Rightarrow 2$\n",
        "- Total Kelereng $\\Rightarrow 10$\\\n",
        "$$P(\\bar{A}) = 1 - P(A) \\Rightarrow P(\\bar{A}) = 1 - \\frac{2}{10} = \\frac{8}{10} = 0.8$$"
      ],
      "metadata": {
        "id": "uMrvgyrowJro"
      }
    },
    {
      "cell_type": "markdown",
      "source": [
        "**Proposition**\n",
        "\n",
        "1. Probabilitas komplemen, atau probabilitas yang bukan peristiwa, dirumuskan sebagai $P(\\bar{A}) = 1 - P(A)$\n",
        "2. Jika suatu himpunan dari suatu peristiwa, merupakan bagian dari himpunan yang lebih besar dari suatu peristiwa, misal $A$ adalah peristiwa terambil dadu dengan angka genap, dan $B$ peristiwa kartu yaang terambil dengan angka genap dan habis dibagi $3$, dinotasikan sebagai $B \\subseteq A$, $P(A) = \\frac{3}{6} = \\frac{1}{2},\\ P(B) = \\frac{1}{6}$, maka dinyatakan probabiltas dari peristiwa $B$ pasti lebih kecil atau samadengan $A$\n",
        "3. Probabilitas dari peristiwa apapun selalu berada di antara 0 dan 1, $P(\\emptyset) \\le P(A) \\le P(\\Omega)$, mengapa demikian karena probabilitas umumnya dirumuskan sebagai $\\frac{\\text{hasil yang diinginkan}}{\\text{total sampel}}$, Jumlah dari hasil yang diinginkan tidak akan pernah negatif dan tidak akan pernah lebih dari total sampel, maka proposisi ini benar adanya."
      ],
      "metadata": {
        "id": "vSL7jSZj6o8w"
      }
    },
    {
      "cell_type": "markdown",
      "source": [
        "**Proposition**\n",
        "\n",
        "Probabilitas bahwa peristiwa A ATAU B terjadi adalah probabilitas A ditambah probabilitas B, dikurangi probabilitas keduanya terjadi bersamaan.\n",
        "\n",
        "contoh dalam satu kelas terdiri dari 30 siswa, 16 diantaranya suka jeruk, 12 diantaranya suka apel, 8 diantaranya suka keduanya, maka probabilitas siswa yang suka jeruk atau apel di rumuskan sebagai:\n",
        "\n",
        "$P(\\text{jeruk} \\cup \\text{apel}) = P(\\text{jeruk}) + P(\\text{apel}) - P(\\text{jeruk}\\cap\\text{apel})$\n",
        "\n",
        "- $P(\\text{jeruk}) = \\frac{16}{30}$\n",
        "- $P(\\text{apel}) = \\frac{12}{30}$\n",
        "- $P(\\text{jeruk}\\cap\\text{apel}) = \\frac{8}{30}$\n",
        "\n",
        "$\\Rightarrow \\frac{16}{30} + \\frac{12}{30} - \\frac{8}{30} = \\frac{2}{3}$\n",
        "\n",
        "Bedah rumus $P(A \\cup B) = P(A) + P(B) - P(A \\cap B)$\n",
        "\n",
        "Jika kita artikan \"Probabilitas dari peristiwa $A$ atau $B$ adalah probabilitas peristiwa $A$ ditambah probabilitas peristiwa $B$ dikurangi probabilitas peristiwa $A$ dan $B$ yang terjadi bersamaan\".\n",
        "\n",
        "Pembuktian rumus:\n",
        "\n",
        "- pecah $P(A \\cup B)$ menjadi 3 bagian\n",
        "1. bagian yang hanya ada di $A\\ (A \\text{\\\\} B)$\n",
        "\n",
        "2. bagian yang hanya ada di $B\\ (B \\text{\\\\} A)$\n",
        "\n",
        "3. bagian irisan arau yang ada di keduanya $(A \\cap B)$\n",
        "- nyatakan bahwa gabungan $A$ dan $B$ adalah gabungan dari ketiga pecahan tadi.\n",
        "\n",
        "$$P(A \\cup B) = (P(A \\cap B) \\cup P(A \\text{\\\\} B) \\cup P(B \\text{\\\\} A))$$\n",
        "\n",
        "Jika ketiga bagian itu saling lepas kita bisa menggunakan aditivitas atau penjumlahan ketigannya\n",
        "\n",
        "$$P(A \\cup B) = P(A \\cap B) + P(A \\text{\\\\} B) + P(B \\text{\\\\} A)$$\n",
        "\n",
        "- tulis ulang $P(A \\text{\\\\} B)$ dan $P(B \\text{\\\\} A)$ dengan trik cerdas:\n",
        "\n",
        "kita tahu bahwa $\\rightarrow$\n",
        "\n",
        "- $P(A) = P(A \\text{\\\\} B) + P(A \\cap B)$ maka kita bisa tuliskan $P(A \\text{\\\\} B) = P(A) - P(A \\cap B)$\n",
        "\n",
        "- $P(B) = P(B \\text{\\\\} A) + P(A \\cap B)$ maka kita bisa tuliskan $P(B \\text{\\\\} A) = P(B) - P(A \\cap B)$\n",
        "\n",
        "- subtitusikan hasil tulis ulang tadi ke persamaan awal:\n",
        "\n",
        "$$P(A \\cup B) = P(A \\cap B) + [P(A) - P(A \\cap B)] + [P(B) - P(A \\cap B)]$$\n",
        "\n",
        "dari hasil diatas $-P(A \\cap B)$ bisa saling menghilangkan, maka rumusnya menjadi $\\Rightarrow P(A \\cup B) = P(A) + P(B) - P(A \\cap B)$"
      ],
      "metadata": {
        "id": "9oHE5Z6qv4By"
      }
    },
    {
      "cell_type": "markdown",
      "source": [
        "**Boole Inequality**\n",
        "\n",
        "Pertidaksamaan boole di tuliskan sebagai $\\Rightarrow P(A \\cup B) \\le P(A) + P(B)$\n",
        "\n",
        "Contoh kasus:"
      ],
      "metadata": {
        "id": "NRplgLM2Ki4F"
      }
    },
    {
      "cell_type": "code",
      "source": [
        "type = [\n",
        "    \"AS\", \"2\", \"3\", \"4\", \"5\", \"6\", \"7\", \"8\", \"9\", \"10\", \"Jack\", \"Queen\", \"King\"\n",
        "]\n",
        "\n",
        "deck = []\n",
        "for i in [\"Waru\", \"Love\", \"Keriting\", \"Lapis\"]:\n",
        "    for j in type:\n",
        "        deck.append(f\"{i}_{j}\")\n",
        "\n",
        "'''\n",
        "Pembuktian bahwa P(A U B) ≤ P(A) + P(B)\n",
        "kali ini dalam kasus peluang terambilnya kartu love dan king\n",
        "'''\n",
        "\n",
        "# tentukan union bound\n",
        "# kita tentukan P(A) (Peluang terambilnya love) P(B) (Peluang terambilnya king)\n",
        "\n",
        "total_sample = len(deck)\n",
        "\n",
        "P_A = sum(1 if i.startswith('Love') else 0 for i in deck) / total_sample\n",
        "P_B = sum(1 if i.endswith('King') else 0 for i in deck) / total_sample\n",
        "\n",
        "union_bound = P_A + P_B\n",
        "\n",
        "# tentukan probabilitas sebenarnya dari peristiwa tadi\n",
        "# karena peristiwa kartu love dan king ada yang terjadi bersamaan, maka\n",
        "# rumusnya menjadi P(A) + P(B) - P(A n B)\n",
        "\n",
        "P_AB = sum(\n",
        "    1 if i.startswith('Love') and i.endswith('King') else 0 for i in deck\n",
        ") / total_sample\n",
        "\n",
        "probability = P_A + P_B - P_AB\n",
        "\n",
        "# Pembuktian Boole inequality P(A U B) ≤ P(A) + P(B)\n",
        "probability <= union_bound"
      ],
      "metadata": {
        "colab": {
          "base_uri": "https://localhost:8080/"
        },
        "id": "SwwH7_NBK8DX",
        "outputId": "45957a0d-47eb-47ee-831a-b4841144c47d"
      },
      "execution_count": null,
      "outputs": [
        {
          "output_type": "execute_result",
          "data": {
            "text/plain": [
              "True"
            ]
          },
          "metadata": {},
          "execution_count": 6
        }
      ]
    },
    {
      "cell_type": "markdown",
      "source": [
        "**5. Conditional Probability**\n",
        "\n",
        "Dirumuskan $\\Rightarrow P(A|B) = \\frac{P(A\\cap B)}{P(B)}$\n",
        "\n",
        "Contoh: Misalkan ada sebuah kotak yang berisi 72 bungkusan, yang masing-masing bungkusan berisi satu buah kelereng, masing-masing kelereng memiliki warna yang berbeda, diantaranya: merah, kuning, dan hijau. jumlah kelereng merah adalah 24, jumlah kelereng kuning adalah 36, dan jumlah kelereng hijau adalah 12.\n",
        "\n",
        "1. Temanmu mengambil satu buah kelereng dan meberikan informasi bahwa kelereng tersebut berwarna hijau atau merah, Hitung probabilitas terambilnya kelereng hijau yang ada di tangan temanmu\\\n",
        "Langkah-langkah:\n",
        "- cari probabilitas terambilnya kelereng hijau di ruang sampel awal kita (kotak) $\\Rightarrow P(A) = \\frac{12}{72} = \\frac{1}{6}$\n",
        "- cari probabilitas terambilnya kelereng merah atau hijau di ruang sampel awal kita (kotak) $\\Rightarrow P(B) = P(A) + \\frac{24}{72} = \\frac{1}{6} + \\frac{2}{6} = \\frac{1}{2}$\n",
        "- subtitusikan ke rumus $\\Rightarrow P(A|B) = \\frac{\\frac{1}{6}}{\\frac{1}{2}} = \\frac{1}{6}\\cdot 2 = \\frac{1}{3}$\\\n",
        "Jadi hasilnya adalah: $$\\boxed{\\frac{1}{3}}$$\n",
        "\n",
        "2. Bagaimana jika informasi dari temanmu menjadi berwarna merah atau kuning, berapa probabilitas terambilnya kelereng hijau yang ada di tangan temanmu?\\\n",
        "Jawabannya: adalah 0, karena kelereng hijau tidak ada dalam himpunan sampel yang ada di tangan temanmu maka probabilitasnya $\\frac{0}{\\Omega} = 0$\n",
        "3. Probabilitas terambilnya kelereng hijau di kotak saat sudah ada informasi di nomor 2, maka rumusnya menjadi $\\frac{12}{72 - 1} = \\frac{12}{71}$\n",
        "4.Probabilitas terambilnya kelereng hijau di kotak jika informasi di nomor 1 yang terjadi dapat dirumuskan dengan:\n",
        "- **Sekenario pertama:** Probabilitas temenmu mengambil kelereng hijau dalam himpunan hijau dan merah, di ketahui kelereng hijaunya 12, kelereng merahnya 24, maka total ruang sampelnya adalah 36, dan probabilitasnya adalah $\\frac{12}{36}$ atau $\\frac{1}{3}$\n",
        "- Probabilitasmu mengambil kelereng hijau ketika sekenario pertama terjadi, dapat dituliskan mirip seperti pada nomor 3 hanya saja jumlah kelereng hijaunya juga berkurang satu $\\frac{12 - 1}{72-1} = \\frac{11}{71}$\n",
        "- **Sekenario kedua:** Probabilitas temenmu mengambil kelereng merah dalam himpunan hijau dan merah, di ketahui kelereng 12, kelereng merahnya 24, maka total ruang sampelnya adalah 36, dan probabilitasnya adalah $\\frac{24}{36}$ atau $\\frac{2}{3}$\n",
        "- Probabilitasmu mengambil kelereng hijau ketika sekenario kedua terjadi, dapat dituliskan mirip seperti pada nomor 3 $\\frac{24}{72-1} = \\frac{24}{71}$\\\n",
        "Tuliskan rumusnya:\n",
        "$$(\\text{sekenario pertama}\\cdot \\text{peluang}) + (\\text{sekenario kedua}\\cdot \\text{peluang})\\\\\n",
        "\\left(\\frac{1}{3}\\cdot \\frac{11}{71}\\right) + \\left(\\frac{2}{3}\\cdot \\frac{12}{71}\\right) = \\frac{1}{3}\\left(2\\cdot \\frac{12}{71} + \\frac{11}{71}\\right) = \\frac{1}{3}\\left(\\frac{35}{71}\\right)\\\\\n",
        "\\Rightarrow \\boxed{\\frac{35}{213}}$$"
      ],
      "metadata": {
        "id": "MDcIk1P5DBYO"
      }
    },
    {
      "cell_type": "markdown",
      "source": [
        "**6. Chain Rule**\n",
        "\n",
        "Dirumuskan: $P(A \\cap B) = P(A|B)P(B)$\n",
        "- $P(A|B)\\Rightarrow$ Peristiwa setelah perostiwa $B$ terjadi"
      ],
      "metadata": {
        "id": "7ddDSSfMcFgM"
      }
    },
    {
      "cell_type": "code",
      "source": [
        "# contoh kasus\n",
        "type = [\n",
        "    \"AS\", \"2\", \"3\", \"4\", \"5\", \"6\", \"7\", \"8\", \"9\", \"10\", \"Jack\", \"Queen\", \"King\"\n",
        "]\n",
        "\n",
        "deck = []\n",
        "for i in [\"Waru\", \"Love\", \"Keriting\", \"Lapis\"]:\n",
        "    for j in type:\n",
        "        deck.append(f\"{i}_{j}\")\n",
        "\n",
        "'''\n",
        "Berapa peluang mendapatkan kartu dengan nomor 2 secara berturut-turut 2 kali?\n",
        "'''\n",
        "total_sample = len(deck)\n",
        "jumlah_2 = sum(1 if i.endswith('2') else 0 for i in deck)\n",
        "# hitung peluang pertama\n",
        "P_A = jumlah_2 / total_sample\n",
        "# hitung peluang kedua setelah terjadi A\n",
        "P_AB = (jumlah_2 - 1)/(total_sample - 1) * P_A\n",
        "P_AB, 4/52 * (3/51)"
      ],
      "metadata": {
        "colab": {
          "base_uri": "https://localhost:8080/"
        },
        "id": "KFkDlabGc7e-",
        "outputId": "072a337b-a633-4cbd-f757-6e94b3302da6"
      },
      "execution_count": null,
      "outputs": [
        {
          "output_type": "execute_result",
          "data": {
            "text/plain": [
              "(0.004524886877828055, 0.004524886877828055)"
            ]
          },
          "metadata": {},
          "execution_count": 3
        }
      ]
    },
    {
      "cell_type": "markdown",
      "source": [
        "**7. Bayes' Rule**\n",
        "\n",
        "Dirumuskan: $P(A|B) = \\frac{P(B|A)P(A)}{P(B)}$"
      ],
      "metadata": {
        "id": "tUzl8g1Cuwp8"
      }
    },
    {
      "cell_type": "code",
      "source": [
        "# Contoh kasus\n",
        "'''\n",
        "ada sebuah penyakit langka yang menyerang 1 dari 1000 orang\n",
        "di sebuah populasi. Ada sebuah tes untuk mendeteksi penyakit ini.\n",
        "Tes tersebut memiliki akurasi sebagai berikut :\n",
        "'''\n",
        "def percentage(number):\n",
        "    return number/100\n",
        "\n",
        "jumlah_populasi = 1000\n",
        "orang_sakit = 1\n",
        "\n",
        "# jika seseorang benar-benar sakit akurasi tes tersebut 99% positive\n",
        "true_positive = percentage(99)\n",
        "# jika seorang tersebut sehat maka akurasi tes tersebut 2% positive\n",
        "false_positive = percentage(2)\n",
        "\n",
        "# peluang benar2 sakit\n",
        "p_sakit = orang_sakit / jumlah_populasi\n",
        "# peluang benar2 sakit complement atau peluang sehat\n",
        "p_sehat = 1 - p_sakit\n",
        "\n",
        "# peluang total seorang mendapatkan tes positive baik sehat ataupun tidak\n",
        "# kita kalikan peluang sakit dengan akurasi tes nya posotive jika sakit\n",
        "p_s_positive = p_sakit * true_positive\n",
        "# kalikan peluang tidak sakit (sehat) dengan akurasi tes nya salah (positive)\n",
        "p_se_positive = p_sehat * false_positive\n",
        "# tambahkan keduanya untuk mendapatkan totalnya\n",
        "p_b = p_s_positive + p_se_positive\n",
        "\n",
        "'''\n",
        "Jika Anda mengambil tes ini dan hasilnya positif,\n",
        "berapa probabilitas Anda benar-benar sakit?\n",
        "'''\n",
        "# masukan semuanya ke rumus\n",
        "\"Peluang Anda benar-benar sakit saat hasil tes nya positive\", p_s_positive / p_b"
      ],
      "metadata": {
        "colab": {
          "base_uri": "https://localhost:8080/"
        },
        "id": "5EUG2o1Tv9YE",
        "outputId": "a10deef4-1322-4515-8ea5-14d10f7991c9"
      },
      "execution_count": null,
      "outputs": [
        {
          "output_type": "execute_result",
          "data": {
            "text/plain": [
              "('Peluang Anda benar-benar sakit saat hasil tes nya positive',\n",
              " 0.047210300429184546)"
            ]
          },
          "metadata": {},
          "execution_count": 4
        }
      ]
    },
    {
      "cell_type": "markdown",
      "source": [
        "**Contoh Kasus 2**\n",
        "\n",
        "Sebuah pabrik memiliki dua mesin, Mesin A dan Mesin B, yang memproduksi chip komputer.\n",
        "\n",
        "- Mesin A memproduksi 70% dari total chip.\n",
        "- Mesin B memproduksi 30% sisanya.\n",
        "- Tingkat kecacatan Mesin A adalah 1% (1% dari chip yang diproduksinya cacat).\n",
        "- Tingkat kecacatan Mesin B adalah 4% (4% dari chip yang diproduksinya cacat).\n",
        "\n",
        "Anda mengambil satu chip secara acak dari seluruh produksi dan menemukan bahwa chip tersebut cacat.\n",
        "\n",
        "Pertanyaannya: Berapa probabilitas bahwa chip cacat tersebut berasal dari Mesin A?"
      ],
      "metadata": {
        "id": "pmWQ65HG1ooM"
      }
    },
    {
      "cell_type": "code",
      "source": [
        "percentage = lambda number: number/100\n",
        "\n",
        "mesin_a = percentage(70)\n",
        "mesin_b = percentage(30)\n",
        "\n",
        "cacat_mesin_a = percentage(1)\n",
        "cacat_mesin_b = percentage(4)\n",
        "\n",
        "# total peluang chip cacat entah dari mesin b atau a\n",
        "total_chip_cacat = mesin_a * cacat_mesin_a + mesin_b * cacat_mesin_b\n",
        "\n",
        "# kemungkinan chip tersebut dari mesin a\n",
        "mesin_a * cacat_mesin_a / total_chip_cacat"
      ],
      "metadata": {
        "id": "24s8LPEd199d",
        "colab": {
          "base_uri": "https://localhost:8080/"
        },
        "outputId": "193f89d2-84b5-4af7-c535-445cfadf7099"
      },
      "execution_count": 7,
      "outputs": [
        {
          "output_type": "execute_result",
          "data": {
            "text/plain": [
              "0.3684210526315789"
            ]
          },
          "metadata": {},
          "execution_count": 7
        }
      ]
    }
  ]
}