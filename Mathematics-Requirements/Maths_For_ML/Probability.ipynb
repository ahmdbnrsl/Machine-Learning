{
  "nbformat": 4,
  "nbformat_minor": 0,
  "metadata": {
    "colab": {
      "provenance": [],
      "gpuType": "V28",
      "include_colab_link": true
    },
    "kernelspec": {
      "name": "python3",
      "display_name": "Python 3"
    },
    "language_info": {
      "name": "python"
    },
    "accelerator": "TPU"
  },
  "cells": [
    {
      "cell_type": "markdown",
      "metadata": {
        "id": "view-in-github",
        "colab_type": "text"
      },
      "source": [
        "<a href=\"https://colab.research.google.com/github/ahmdbnrsl/Machine-Learning/blob/main/Mathematics-Requirements/Maths_For_ML/Probability.ipynb\" target=\"_parent\"><img src=\"https://colab.research.google.com/assets/colab-badge.svg\" alt=\"Open In Colab\"/></a>"
      ]
    },
    {
      "cell_type": "markdown",
      "source": [
        "# $$\\sum\\\\[1cm]\n",
        "\\left\\{\\text{ SIG}\\Sigma\\text{MATHS }\\right\\}$$"
      ],
      "metadata": {
        "id": "fS-Yu-ArSypT"
      }
    },
    {
      "cell_type": "markdown",
      "source": [
        "**PROBABILITY**\n",
        "\n",
        "**1. Ruang Sampel dan Peristiwa**\n",
        "\n",
        "Inti dari setiap experimen acak adalah (seperti melempar dadu da koin) adalah **Ruang Sampel** (dinotasikan dengan $\\Omega$), Ruang Sampel adalah sebuah himpunan semua kemungkinan hasil yang bisa terjadi. contoh, Melempar koin yang mempunyai dua sisi, yang berarti kemungkinan himpunan hasil yang bisa terjadi adalah $\\left\\{\\text{Angka, Gambar}\\right\\}$, misal sebuah dadu $\\Rightarrow \\left\\{\\text{1, 2, 3, 4, 5, 6}\\right\\}$\\\n",
        "Dari ruang sampel ini, kita tertarik pada peristiwa (Events), yaitu himpunan bagian dari $\\Omega$ yang ingin kita ukur kemungkinannya. **Peristiwa(A)**: ini adalah hasil spesifik atau kumpulan hasil, contoh dadu: Jika peristiwa A adalah munculnya angka ganjil, maka $A = \\left\\{1, 3, 5\\right\\}$\n",
        "\n",
        "**2. Ukuran Probabilitas dan Aturan Mainnya**\n",
        "\n",
        "Untuk mengukur kemungkinan terjadinya sebuah peristiwa, kita menggunakan Ukuran Probabilitas (dinotasikan dengan $P$). Ini adalah sebuah fungsi yang memberikan nilai antara 0 (Tidak mungkin terjadi) dan 1 (Pasti terjadi) pada setiap peristiwa, Fungsi probabilitas ini harus memenuhi 2 aturan dasar aksioma:\n",
        "- $P(\\Omega) = 1$\\\n",
        "Ariy=nya, probabilitas bahwa salah satu dari semua kemungk9inan hasil akan terjadi adalah 1 (100%). Ini Logis, karena saat melempar dadu, hasilnya pasti salah satu dari angka 1 sampai 6.\n",
        "- **Aditivitas Terhitung (_Countable Additivity_)**\\\n",
        "Jika memiliki serangkaian peristiwa yang saling lepas (disjoint), artinya tidak ada hasil yang sama diantara mereka (tidak bisa terjadi bersamaan), maka probabilitas gabungan dari peistiwa-peristiwa tersebut adalah jumlah dari probabilitas masing-masing.\n",
        "  - contoh dadu: Peristiwa muncul angka 1 dan peristiwa muncul angka 3 adalah saling lepas. maka, probabilitas muncul angka 1 atau 3 adalah: $$P(\\{1\\} \\cup P(\\{3\\}) = P(\\{1\\}) + P(\\{3\\}) = \\frac{1}{6} + \\frac{1}{6} = \\frac{2}{6}$$\n",
        "\n",
        "**3. Ruang Probabilitas dan Isitilah Penting**\n",
        "\n",
        "- **Ruang Probabilitas**: Gabungan dari tiga komponen: Ruang Sampel $(Ω)$, himpunan semua peristiwa $(F)$, dan Ukuran Probabilitas (P), yang ditulis sebagai $(Ω,F,P)$. Ini adalah kerangka kerja lengkap untuk setiap masalah probabilitas.\n",
        "- **Almost Surely (Hampir Pasti)**: Jika probabilitas sebuah peristiwa adalah 1 $(P(A)=1)$, kita katakan peristiwa $A$ terjadi hampir pasti.\n",
        "- **Almost Never (Hampir Tidak Pernah)**: Sebaliknya, jika probabilitas sebuah peristiwa adalah 0 $(P(A)=0)$, kita katakan peristiwa $A$ hampir tidak pernah terjadi.\n",
        "\n",
        "**4. Rumus Umum Probabilitas**\n",
        "\n",
        "$$P(A) = \\frac{B}{n}$$\n",
        "- $A \\rightarrow$ Peristiwa\n",
        "- $B \\rightarrow$ Jumlah yang diinginkan\n",
        "- $n \\rightarrow$ Jumlah total semua hasil yang mungkin\n",
        "\n",
        "Misalkan ada berapa kemungkinan muncul angka ganjil pada sistem pengacak angka antara 1 sampai 10"
      ],
      "metadata": {
        "id": "FMhX2P2MU4ui"
      }
    },
    {
      "cell_type": "code",
      "source": [
        "odd = []\n",
        "for i in range(1, 11):\n",
        "  if i % 2 != 0: odd.append(i)\n",
        "print(odd, len(odd))"
      ],
      "metadata": {
        "colab": {
          "base_uri": "https://localhost:8080/"
        },
        "id": "KCyfC1dOfLNM",
        "outputId": "7971e932-58c5-4d7b-9f7b-3272395924b1"
      },
      "execution_count": null,
      "outputs": [
        {
          "output_type": "stream",
          "name": "stdout",
          "text": [
            "[1, 3, 5, 7, 9] 5\n"
          ]
        }
      ]
    },
    {
      "cell_type": "markdown",
      "source": [
        "Himpunan angka ganjilnya adalah , kita masukin ini sebagai **Event** $\\Rightarrow \\{1, 3, 5, 7, 9\\}$:\n",
        "- $A = \\{1, 3, 5, 7, 9\\}$\n",
        "- $B = 5$\n",
        "- $n = 10$\n",
        "\n",
        "Susun Rumusnya:\n",
        "\n",
        "$$P(A) = \\frac{B}{n} = P(\\{1, 3, 5, 7, 9\\}) = \\frac{5}{10} = \\frac{1}{2}$$"
      ],
      "metadata": {
        "id": "QU0EoTUWfemZ"
      }
    },
    {
      "cell_type": "code",
      "source": [
        "import numpy as np\n",
        "\n",
        "odd, even = [], []\n",
        "\n",
        "for i in range(1000):\n",
        "  number = np.random.randint(1, 10)\n",
        "  odd.append(number) if number % 2 != 0 else even.append(number)\n",
        "\n",
        "round(len(odd)/len(odd + even), 2) # angka kemungkinannya, ini sangat mendekati 1/2"
      ],
      "metadata": {
        "colab": {
          "base_uri": "https://localhost:8080/"
        },
        "id": "zKW-Mxfdg7a7",
        "outputId": "753b3dbb-f83b-4cb3-808c-12036169ece8"
      },
      "execution_count": null,
      "outputs": [
        {
          "output_type": "execute_result",
          "data": {
            "text/plain": [
              "0.55"
            ]
          },
          "metadata": {},
          "execution_count": 74
        }
      ]
    },
    {
      "cell_type": "markdown",
      "source": [
        "**Contoh Kasus**\n",
        "\n",
        "Sebuah kantong berisi 10 kelereng dengan warna yang berbeda:\n",
        "- 5 kelereng merah\n",
        "- 3 kelereng biru\n",
        "- 2 kelereng hijau\n",
        "\n",
        "1. Jika diambil 1 kelereng dari kantong tersebut, berapa probabilitas kelereng itu berwarna biru?\\\n",
        "Hasil yang diinginkan: Kelereng berwarna biru $\\Rightarrow 3$ butir.\\\n",
        "Total Kelereng $\\Rightarrow 10$\\\n",
        "Peristiwa: Kelereng berwarna biru\n",
        "\n",
        "$$P(A) = \\frac{3}{10} = 0.3$$\n",
        "\n",
        "2. Berapa Probabilitas terambil kelereng Merah atau Hijau?\n",
        "- Kelereng Merah $\\Rightarrow 5$\n",
        "- Kelereng Hijau $\\Rightarrow 2$\n",
        "- Total Kelereng $\\Rightarrow 10$\\\n",
        "$$P(5 \\cup 2) = P(5) + P(2) = \\frac{5 + 2}{10} = \\frac{7}{10} = 0.7$$\n",
        "3. Berapa Probabilitas terambil kelereng Bukan Hijau?\n",
        "- Kelereng Hijau $\\Rightarrow 2$\n",
        "- Total Kelereng $\\Rightarrow 10$\\\n",
        "$$P(\\bar{A}) = 1 - P(A) \\Rightarrow P(\\bar{A}) = 1 - \\frac{2}{10} = \\frac{8}{10} = 0.8$$"
      ],
      "metadata": {
        "id": "uMrvgyrowJro"
      }
    },
    {
      "cell_type": "markdown",
      "source": [
        "**Proposition**\n",
        "\n",
        "1. Probabilitas komplemen, atau probabilitas yang bukan peristiwa, dirumuskan sebagai $P(\\bar{A}) = 1 - P(A)$\n",
        "2. Jika suatu himpunan dari suatu peristiwa, merupakan bagian dari himpunan yang lebih besar dari suatu peristiwa, misal $A$ adalah peristiwa terambil dadu dengan angka genap, dan $B$ peristiwa kartu yaang terambil dengan angka genap dan habis dibagi $3$, dinotasikan sebagai $B \\subseteq A$, $P(A) = \\frac{3}{6} = \\frac{1}{2},\\ P(B) = \\frac{1}{6}$, maka dinyatakan probabiltas dari peristiwa $B$ pasti lebih kecil atau samadengan $A$\n",
        "3. Probabilitas dari peristiwa apapun selalu berada di antara 0 dan 1, $P(\\emptyset) \\le P(A) \\le P(\\Omega)$, mengapa demikian karena probabilitas umumnya dirumuskan sebagai $\\frac{\\text{hasil yang diinginkan}}{\\text{total sampel}}$, Jumlah dari hasil yang diinginkan tidak akan pernah negatif dan tidak akan pernah lebih dari total sampel, maka proposisi ini benar adanya."
      ],
      "metadata": {
        "id": "vSL7jSZj6o8w"
      }
    },
    {
      "cell_type": "markdown",
      "source": [
        "**Proposition**\n",
        "\n",
        "Probabilitas bahwa peristiwa A ATAU B terjadi adalah probabilitas A ditambah probabilitas B, dikurangi probabilitas keduanya terjadi bersamaan.\n",
        "\n",
        "contoh dalam satu kelas terdiri dari 30 siswa, 16 diantaranya suka jeruk, 12 diantaranya suka apel, 8 diantaranya suka keduanya, maka probabilitas siswa yang suka jeruk atau apel di rumuskan sebagai:\n",
        "\n",
        "$P(\\text{jeruk} \\cup \\text{apel}) = P(\\text{jeruk}) + P(\\text{apel}) - P(\\text{jeruk}\\cap\\text{apel})$\n",
        "\n",
        "- $P(\\text{jeruk}) = \\frac{16}{30}$\n",
        "- $P(\\text{apel}) = \\frac{12}{30}$\n",
        "- $P(\\text{jeruk}\\cap\\text{apel}) = \\frac{8}{30}$\n",
        "\n",
        "$\\Rightarrow \\frac{16}{30} + \\frac{12}{30} - \\frac{8}{30} = \\frac{2}{3}$\n",
        "\n",
        "Bedah rumus $P(A \\cup B) = P(A) + P(B) - P(A \\cap B)$\n",
        "\n",
        "Jika kita artikan \"Probabilitas dari peristiwa $A$ atau $B$ adalah probabilitas peristiwa $A$ ditambah probabilitas peristiwa $B$ dikurangi probabilitas peristiwa $A$ dan $B$ yang terjadi bersamaan\".\n",
        "\n",
        "Pembuktian rumus:\n",
        "\n",
        "- pecah $P(A \\cup B)$ menjadi 3 bagian\n",
        "1. bagian yang hanya ada di $A\\ (A \\text{\\\\} B)$\n",
        "\n",
        "2. bagian yang hanya ada di $B\\ (B \\text{\\\\} A)$\n",
        "\n",
        "3. bagian irisan arau yang ada di keduanya $(A \\cap B)$\n",
        "- nyatakan bahwa gabungan $A$ dan $B$ adalah gabungan dari ketiga pecahan tadi.\n",
        "\n",
        "$$P(A \\cup B) = (P(A \\cap B) \\cup P(A \\text{\\\\} B) \\cup P(B \\text{\\\\} A))$$\n",
        "\n",
        "Jika ketiga bagian itu saling lepas kita bisa menggunakan aditivitas atau penjumlahan ketigannya\n",
        "\n",
        "$$P(A \\cup B) = P(A \\cap B) + P(A \\text{\\\\} B) + P(B \\text{\\\\} A)$$\n",
        "\n",
        "- tulis ulang $P(A \\text{\\\\} B)$ dan $P(B \\text{\\\\} A)$ dengan trik cerdas:\n",
        "\n",
        "kita tahu bahwa $\\rightarrow$\n",
        "\n",
        "- $P(A) = P(A \\text{\\\\} B) + P(A \\cap B)$ maka kita bisa tuliskan $P(A \\text{\\\\} B) = P(A) - P(A \\cap B)$\n",
        "\n",
        "- $P(B) = P(B \\text{\\\\} A) + P(A \\cap B)$ maka kita bisa tuliskan $P(B \\text{\\\\} A) = P(B) - P(A \\cap B)$\n",
        "\n",
        "- subtitusikan hasil tulis ulang tadi ke persamaan awal:\n",
        "\n",
        "$$P(A \\cup B) = P(A \\cap B) + [P(A) - P(A \\cap B)] + [P(B) - P(A \\cap B)]$$\n",
        "\n",
        "dari hasil diatas $-P(A \\cap B)$ bisa saling menghilangkan, maka rumusnya menjadi $\\Rightarrow P(A \\cup B) = P(A) + P(B) - P(A \\cap B)$"
      ],
      "metadata": {
        "id": "9oHE5Z6qv4By"
      }
    },
    {
      "cell_type": "markdown",
      "source": [
        "**Boole Inequality**\n",
        "\n",
        "Pertidaksamaan boole di tuliskan sebagai $\\Rightarrow P(A \\cup B) \\le P(A) + P(B)$\n",
        "\n",
        "Contoh kasus:"
      ],
      "metadata": {
        "id": "NRplgLM2Ki4F"
      }
    },
    {
      "cell_type": "code",
      "source": [
        "type = [\n",
        "    \"AS\", \"2\", \"3\", \"4\", \"5\", \"6\", \"7\", \"8\", \"9\", \"10\", \"Jack\", \"Queen\", \"King\"\n",
        "]\n",
        "\n",
        "deck = []\n",
        "for i in [\"Waru\", \"Love\", \"Keriting\", \"Lapis\"]:\n",
        "    for j in type:\n",
        "        deck.append(f\"{i}_{j}\")\n",
        "\n",
        "'''\n",
        "Pembuktian bahwa P(A U B) ≤ P(A) + P(B)\n",
        "kali ini dalam kasus peluang terambilnya kartu love dan king\n",
        "'''\n",
        "\n",
        "# tentukan union bound\n",
        "# kita tentukan P(A) (Peluang terambilnya love) P(B) (Peluang terambilnya king)\n",
        "\n",
        "total_sample = len(deck)\n",
        "\n",
        "P_A = sum(1 if i.startswith('Love') else 0 for i in deck) / total_sample\n",
        "P_B = sum(1 if i.endswith('King') else 0 for i in deck) / total_sample\n",
        "\n",
        "union_bound = P_A + P_B\n",
        "\n",
        "# tentukan probabilitas sebenarnya dari peristiwa tadi\n",
        "# karena peristiwa kartu love dan king ada yang terjadi bersamaan, maka\n",
        "# rumusnya menjadi P(A) + P(B) - P(A n B)\n",
        "\n",
        "P_AB = sum(\n",
        "    1 if i.startswith('Love') and i.endswith('King') else 0 for i in deck\n",
        ") / total_sample\n",
        "\n",
        "probability = P_A + P_B - P_AB\n",
        "\n",
        "# Pembuktian Boole inequality P(A U B) ≤ P(A) + P(B)\n",
        "probability <= union_bound"
      ],
      "metadata": {
        "colab": {
          "base_uri": "https://localhost:8080/"
        },
        "id": "SwwH7_NBK8DX",
        "outputId": "45957a0d-47eb-47ee-831a-b4841144c47d"
      },
      "execution_count": 6,
      "outputs": [
        {
          "output_type": "execute_result",
          "data": {
            "text/plain": [
              "True"
            ]
          },
          "metadata": {},
          "execution_count": 6
        }
      ]
    }
  ]
}