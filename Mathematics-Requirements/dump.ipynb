{
  "nbformat": 4,
  "nbformat_minor": 0,
  "metadata": {
    "colab": {
      "provenance": [],
      "authorship_tag": "ABX9TyOWbbSLnosFdzR9OjImSR4j",
      "include_colab_link": true
    },
    "kernelspec": {
      "name": "python3",
      "display_name": "Python 3"
    },
    "language_info": {
      "name": "python"
    }
  },
  "cells": [
    {
      "cell_type": "markdown",
      "metadata": {
        "id": "view-in-github",
        "colab_type": "text"
      },
      "source": [
        "<a href=\"https://colab.research.google.com/github/ahmdbnrsl/Machine-Learning/blob/main/Mathematics-Requirements/dump.ipynb\" target=\"_parent\"><img src=\"https://colab.research.google.com/assets/colab-badge.svg\" alt=\"Open In Colab\"/></a>"
      ]
    },
    {
      "cell_type": "markdown",
      "source": [
        "$A : \\frac{1}{2} $$\\sum_{i=1}^{49} ln(i) - 0.0115457$$ $\n",
        "\n",
        "$B : \\ det\\left(J\\left(\\vec{f}(x, y, z) = \\begin{bmatrix}f_1(x, y, z) = \\sqrt{2\\left(\\left(\\frac{x}{2} - \\frac{sin(2x)}{4}\\right) + \\left(\\frac{x}{2} + \\frac{sin(2x)}{4}\\right)\\right)}^2 + 2y + 9z \\\\f_2(x, y, z) = 4xe^0 + 14y + ln(z)\\\\f_3(x, y, z) = 7x + x + 8y + 39z\\end{bmatrix}\\right)\\right) + \\log_264$\n",
        "\n",
        "$C : |\\langle 68 \\rangle|$"
      ],
      "metadata": {
        "id": "Lg_EKdaRJS-1"
      }
    },
    {
      "cell_type": "code",
      "source": [
        "import sympy as sp\n",
        "import math as m\n",
        "\n",
        "x, y, z = sp.symbols('x y z')\n",
        "def f_vec(x, y, z):\n",
        "  return sp.Matrix([\n",
        "      sp.sqrt(2*((x/2 - (sp.sin(2*x) / 4)) + (x/2 + (sp.sin(2*x) / 4))))**2 + 2*y + 9*z,\n",
        "      4*x*sp.exp(0) + 14*y + sp.log(z),\n",
        "      7*x + x + 8*y + 39*z\n",
        "  ])\n",
        "\n",
        "jacobian = []\n",
        "\n",
        "for i in range(3):\n",
        "  f_x = f_vec(x, y, z)[i].diff(x)\n",
        "  f_y = f_vec(x, y, z)[i].diff(y)\n",
        "  f_z = f_vec(x, y, z)[i].diff(z)\n",
        "\n",
        "  grad_f = sp.Matrix([f_x, f_y, f_z])\n",
        "\n",
        "  jacobian.append(grad_f.transpose())\n",
        "\n",
        "A = round(1/2 * sum(m.log(i) - 0.0115457 for i in range(1, 50)))\n",
        "B = sp.Matrix(jacobian).det() + sp.log(64, 2)\n",
        "C = sp.Matrix([68]).norm()\n",
        "\n",
        "''.join([chr(i) for i in [A, B, C, 32, 50, 48]])"
      ],
      "metadata": {
        "colab": {
          "base_uri": "https://localhost:8080/",
          "height": 35
        },
        "id": "_rvpufezREy7",
        "outputId": "27f5ea4e-ac72-4dd2-d963-edefce80d97d"
      },
      "execution_count": 157,
      "outputs": [
        {
          "output_type": "execute_result",
          "data": {
            "text/plain": [
              "'HBD 20'"
            ],
            "application/vnd.google.colaboratory.intrinsic+json": {
              "type": "string"
            }
          },
          "metadata": {},
          "execution_count": 157
        }
      ]
    }
  ]
}