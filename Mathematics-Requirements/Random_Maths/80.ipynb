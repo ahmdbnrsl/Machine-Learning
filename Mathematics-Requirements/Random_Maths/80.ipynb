{
  "nbformat": 4,
  "nbformat_minor": 0,
  "metadata": {
    "colab": {
      "provenance": [],
      "gpuType": "V28",
      "authorship_tag": "ABX9TyPGr435FegR0tfGurzfHtjk",
      "include_colab_link": true
    },
    "kernelspec": {
      "name": "python3",
      "display_name": "Python 3"
    },
    "language_info": {
      "name": "python"
    },
    "accelerator": "TPU"
  },
  "cells": [
    {
      "cell_type": "markdown",
      "metadata": {
        "id": "view-in-github",
        "colab_type": "text"
      },
      "source": [
        "<a href=\"https://colab.research.google.com/github/ahmdbnrsl/Machine-Learning/blob/main/Mathematics-Requirements/80.ipynb\" target=\"_parent\"><img src=\"https://colab.research.google.com/assets/colab-badge.svg\" alt=\"Open In Colab\"/></a>"
      ]
    },
    {
      "cell_type": "markdown",
      "source": [
        "\n",
        "$$\\int_{-\\frac{\\pi}{2}}^{\\frac{\\pi}{2}} 36\\cos(x)\\ dx,\\\n",
        "\\left(\\frac{\\sum_{i = 1}^{17} i \\cdot e^0}{81^{\\frac{1}{2}}} \\right) \\cdot \\left(\\int_{50}^{100} \\frac{\\ln(x)}{2\\ln(x)}\\ dx\\right)^\\frac{1}{2},$$\n",
        "\n",
        "\n",
        "$$\\det(\\nabla^2 f(x, y, z) = x^2 + 7y^2 + 3.75z^2 + 4xy + xz + 2yz)$$"
      ],
      "metadata": {
        "id": "2BPgw6g4ZqRc"
      }
    },
    {
      "cell_type": "code",
      "source": [
        "import sympy as sp\n",
        "import pyfiglet as pf\n",
        "\n",
        "x, y, z = sp.symbols('x y z')\n",
        "\n",
        "formulas = []\n",
        "\n",
        "# = #\n",
        "formulas.append(sp.integrate(36 * sp.cos(x), (x, -sp.pi / 2, sp.pi / 2)))\n",
        "\n",
        "# = #\n",
        "a = sum(i * sp.exp(0) for i in range(1, 18)) / 81 ** (1 / 2)\n",
        "b = sp.integrate(sp.log(x) / (2 * sp.log(x)), (x, 50, 100))\n",
        "\n",
        "formulas.append(a * b ** (1 / 2))\n",
        "\n",
        "# = #\n",
        "function = x ** 2 + 7 * y ** 2 + 3.75 * z ** 2 + 4 * x * y + x * z + 2 * y * z\n",
        "\n",
        "vars = [x, y, z]\n",
        "hessian = []\n",
        "\n",
        "for i in vars:\n",
        "    partial = function.diff(i)\n",
        "    grad = []\n",
        "    for j in vars:\n",
        "        grad.append(partial.diff(j))\n",
        "    hessian.append(grad)\n",
        "\n",
        "hessian = sp.Matrix(hessian)\n",
        "formulas.append(hessian.det())\n",
        "\n",
        "# = #\n",
        "formulas.append(56)\n",
        "formulas.append(48)\n",
        "\n",
        "# = #\n",
        "text = [pf.figlet_format(chr(int(i)), font=\"standard\") for i in formulas]\n",
        "text = [i.split('\\n') for i in text]\n",
        "\n",
        "length = len(text[0])\n",
        "\n",
        "for i in range(length):\n",
        "    merge = \"\"\n",
        "    for j in range(5):\n",
        "        merge += text[j][i] + \"  \"\n",
        "    print(merge)"
      ],
      "metadata": {
        "colab": {
          "base_uri": "https://localhost:8080/"
        },
        "id": "FqNQq2BCZvcA",
        "outputId": "cdf0831c-58cd-4164-c4fa-7a8fb7b4da28"
      },
      "execution_count": 60,
      "outputs": [
        {
          "output_type": "stream",
          "name": "stdout",
          "text": [
            " _   _    _   _    _____     ___      ___    \n",
            "| | | |  | | | |  |_   _|   ( _ )    / _ \\   \n",
            "| |_| |  | | | |    | |     / _ \\   | | | |  \n",
            "|  _  |  | |_| |    | |    | (_) |  | |_| |  \n",
            "|_| |_|   \\___/     |_|     \\___/    \\___/   \n",
            "                                             \n",
            "          \n"
          ]
        }
      ]
    }
  ]
}