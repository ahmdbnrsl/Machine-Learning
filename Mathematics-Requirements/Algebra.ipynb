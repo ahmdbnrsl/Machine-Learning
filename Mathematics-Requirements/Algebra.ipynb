{
  "nbformat": 4,
  "nbformat_minor": 0,
  "metadata": {
    "colab": {
      "provenance": [],
      "authorship_tag": "ABX9TyNYGWnBYL0klnEY0hMFJWS9",
      "include_colab_link": true
    },
    "kernelspec": {
      "name": "python3",
      "display_name": "Python 3"
    },
    "language_info": {
      "name": "python"
    }
  },
  "cells": [
    {
      "cell_type": "markdown",
      "metadata": {
        "id": "view-in-github",
        "colab_type": "text"
      },
      "source": [
        "<a href=\"https://colab.research.google.com/github/ahmdbnrsl/Machine-Learning/blob/main/Mathematics-Requirements/Algebra.ipynb\" target=\"_parent\"><img src=\"https://colab.research.google.com/assets/colab-badge.svg\" alt=\"Open In Colab\"/></a>"
      ]
    },
    {
      "cell_type": "markdown",
      "source": [
        "**ALGEBRA**"
      ],
      "metadata": {
        "id": "KXhR_n-70vla"
      }
    },
    {
      "cell_type": "markdown",
      "source": [
        "**1. Division And Euclidian Algorithm**\n",
        "\n",
        "a. Division Algorithma (Algortihma Pembagian)\n",
        "\n",
        "Untuk setiap bilangan bulat a dan bilangan bulat positif b, akan selalu ada bilangan bulat q (quotient/pembilang) dan r (remainder/sisa) sedemikian hingga:\n",
        "\n",
        "$a = bq + r$\n",
        "\n",
        "dengan $0 <= r < b$\n",
        "\n",
        "contoh: $a = 30, => a = 9.3 + 3 => a = 3(3/9)$\n",
        "\n",
        "note : pembulatan hasil bagi selalu kebawah\n",
        "\n",
        "contoh 1. :\n",
        "\n",
        "$a = 31, b = 3$\n",
        "\n",
        "$q = 31/3$ => cari angka terdekat dibawah 31 yang dibagi dengan b hasil nya bilangan bulat (bukan desimal) => $30 / 3 = 10$\n",
        "\n",
        "untuk mencari $r$ => $r = a - b.q$ => $a = 31 - 3.10 = 1$\n",
        "\n",
        "tinggal subtitusi ke rumus $a = b.q + r$ => $31 = 3.10 + 1$\n",
        "\n",
        "contoh 2. :\n",
        "\n",
        "$a = -200, b = 30$\n",
        "\n",
        "$q = -200/30$ => $-210/30$ => $-7$\n",
        "\n",
        "$r = a - b.q$ => $-200 - 30.(-7) = -200 + 210 = 10$\n",
        "\n",
        "=> $a = b.q + r$ => $-200 = 30.(-7) + 10$"
      ],
      "metadata": {
        "id": "FbAUYjkY3BCf"
      }
    },
    {
      "cell_type": "code",
      "source": [
        "def division_algorithm(a, b):\n",
        "    q = (a - (a % b)) / b\n",
        "    r = a - b*q\n",
        "\n",
        "    return {'q': q, 'r': r, a: f\"{b} * {q} + {r}\"}\n",
        "\n",
        "a, b = -200, 30\n",
        "division_algorithm(a, b)\n",
        "\n",
        "a, b = 40, 9\n",
        "division_algorithm(a, b)"
      ],
      "metadata": {
        "colab": {
          "base_uri": "https://localhost:8080/"
        },
        "id": "NQsJWBLQ9S0Z",
        "outputId": "bad17cdd-d8a1-48e2-cf32-cb0dca913f03"
      },
      "execution_count": null,
      "outputs": [
        {
          "output_type": "execute_result",
          "data": {
            "text/plain": [
              "{'q': 4.0, 'r': 4.0, 40: '9 * 4.0 + 4.0'}"
            ]
          },
          "metadata": {},
          "execution_count": 9
        }
      ]
    },
    {
      "cell_type": "markdown",
      "source": [
        "b. Euclidian Algorithm (Algoritma Euclidian)\n",
        "\n",
        "Euclidean Algorithm adalah algoritma sistematis untuk mencari FPB (Faktor Persekutuan Terbesar / GCD - Greatest Common Divisor) dari dua bilangan bulat a dan b, dengan:\n",
        "\n",
        "$gcd(a, b)$\n",
        "\n",
        "jadii simplenya tuh Euclidian Algorithma  adalah algoritma untuk menentukan FPB (faktor persekutuan terbesar) / GCD (Greatest Common Divisor)  (bilangan bulat terbesar yang bisa membagi kedua bilangan (a, b) tanpa sisa alias menghasilkan bilangan bulat juga bukan desimal)\n",
        "\n",
        "note : $a >= b > 0$\n",
        "\n",
        "jika a < b maka tukar nilainya\n",
        "\n",
        "contoh:\n",
        "\n",
        "$gcd(36, 28)$\n",
        "\n",
        "$36 = 28 . 1 + 8$ => $r1 = 8$\n",
        "\n",
        "$28 = 8 . 3 + 4$ => $r2 = 4$\n",
        "\n",
        "$8 = 4 . 2 + 0$ => $r3 = 0$\n",
        "\n",
        "maka $r = 4$ karena hasil dari gcd adalah r terkecil sebelum 0\n",
        "\n",
        "dan jika $r1 = 0$ maka hasilnya b\n",
        "\n",
        "contoh lain :\n",
        "\n",
        "$1. gcd(84, 30)$\n",
        "\n",
        "\n",
        "\n",
        "$84 = 30 . 2 + 24$ => $24$\n",
        "\n",
        "$30 = 24 . 1 + 6$ => $6$\n",
        "\n",
        "$24 = 6 . 4 + 0$ => $0$\n",
        "\n",
        "jadi $gcd = 6$\n",
        "\n",
        "$2. gcd(128, 36)$\n",
        "\n",
        "\n",
        "\n",
        "$128 = 36 . 3 + 20$ => $20$\n",
        "\n",
        "$36 = 20 . 1 + 16$ => $16$\n",
        "\n",
        "$20 = 16 . 1 + 4$ => $4$\n",
        "\n",
        "$16 = 4 . 4 + 0$ => $0$\n",
        "\n",
        "jadi $gcd = 4$\n",
        "\n",
        "3. $gcd(119, 34)$\n",
        "\n",
        "\n",
        "\n",
        "$119 = 34 . 3 + 17$ => $17$\n",
        "\n",
        "$34 = 17 . 2 + 0$ => $0$\n",
        "\n",
        "jadi $gcd = 17$\n",
        "\n",
        "4. $gcd(144, 60)$\n",
        "\n",
        "\n",
        "\n",
        "$144 = 60 . 2 + 24$ => $24$\n",
        "\n",
        "$60 = 24 . 2 + 12$ => $12$\n",
        "\n",
        "$24 = 12 . 2 + 0$ => $0$\n",
        "\n",
        "jadi $gcd = 12$\n",
        "\n",
        "5. $gcd(270, 192)$\n",
        "\n",
        "\n",
        "\n",
        "$270 = 192 . 1 + 78$ => $78$\n",
        "\n",
        "$192 = 78 . 2 + 36$ => $36$\n",
        "\n",
        "$78 = 36 . 2 + 6$ => $6$\n",
        "\n",
        "$36 = 6 . 6 + 0$ => $0$\n",
        "\n",
        "jadi $gcd = 6$"
      ],
      "metadata": {
        "id": "ZWaUuu0QCl0i"
      }
    },
    {
      "cell_type": "code",
      "source": [
        "def gcd(a, b):\n",
        "    if a < b: a, b = b, a\n",
        "    q  = (a - (a % b)) / b\n",
        "    r = a - b*q\n",
        "    if r == 0: return b\n",
        "    return gcd(b, r)\n",
        "\n",
        "gcd(144, 60)"
      ],
      "metadata": {
        "colab": {
          "base_uri": "https://localhost:8080/"
        },
        "id": "D_A1kF3hEuV5",
        "outputId": "7242fc00-85d6-498c-8424-3c388bb94300"
      },
      "execution_count": null,
      "outputs": [
        {
          "output_type": "execute_result",
          "data": {
            "text/plain": [
              "12.0"
            ]
          },
          "metadata": {},
          "execution_count": 13
        }
      ]
    },
    {
      "cell_type": "markdown",
      "source": [
        "b.1 Bezout's identity\n",
        "\n",
        "apa itu Bezout's identity? jadii Bezout's identity adalah nilai x dan y yang jika dikalikan dengan a dan b lalu dijumlahkan (ax + by) hasilnya gcd(a, b)\n",
        "\n",
        "\n",
        "gimana cara mencarinya?\n",
        "\n",
        "misal soal => carilah Bezout's identity dari a = 290 dan b = 63\n",
        "\n",
        "langkah pertama, cari dulu gcd nya dengan methode Euclidian Algorithm\n",
        "\n",
        "$290 = 63 . 4 + 38$ => $r1 = 38$\n",
        "\n",
        "$63 = 38 . 1 + 25$ => $r2 = 25$\n",
        "\n",
        "$38 = 25 . 1 + 13$ => $r3 = 13$\n",
        "\n",
        "$25 = 13 . 1 + 12$ => $r4 = 12$\n",
        "\n",
        "$13 = 12 . 1 + 1$ => $r5 = 1$\n",
        "\n",
        "$12 = 1 . 12 + 0$ => $r6 = 0$\n",
        "\n",
        "maka $gcd(290, 63)$ => $1$\n",
        "\n",
        "lalu kita lakukan back-subtitution\n",
        "\n",
        "$1 = 13 - 12 . 1$\n",
        "\n",
        "$12 = 25 - 13 . 1$\n",
        "\n",
        "=> $1 = 13 - (25 - 13)$\n",
        "\n",
        "=> $1 = 13 - 25 + 13$\n",
        "\n",
        "$13 = 38 - 25 . 1$\n",
        "\n",
        "=> $1 = (38 - 25) - 25 + (38 - 25)$\n",
        "\n",
        "=> $1 = 2 . 38 -3 . 25$\n",
        "\n",
        "$25 = 63 - 38 . 1$\n",
        "\n",
        "=> $1 = 2 . 38 - 3 (63 - 38)$\n",
        "\n",
        "=> $1 = 2 . 38 - 3 . 63 + 3 . 38$\n",
        "\n",
        "=> $1 = 5 . 38 - 3 . 63$\n",
        "\n",
        "$38 = 290 - 63 . 4$\n",
        "\n",
        "=> $1 = 5 . (290 - 63 . 4) - 3 . 63$\n",
        "\n",
        "=> $1 = 5 . (290 - 4 . 63) - 3 .63$\n",
        "\n",
        "=> $1 = 5 . 290 - 20 . 63 - 3 . 63$\n",
        "\n",
        "=> $1 = 5 . 290 - 23 . 63$"
      ],
      "metadata": {
        "id": "MXvP0cqygOmK"
      }
    },
    {
      "cell_type": "markdown",
      "source": [
        "**2. Unique Factorization of Integers**\n",
        "\n",
        "Apa itu? jadi Unique Factorization of Integers adalah faktorisasi bilangan integer yang hanya berisi bilangan prima, dengan kata lain pecah sebuah bilangan menjadi hasil perkalian yang isinya hanya bilangan prima.\n",
        "\n",
        "note : jika semua perkalian sudah berisi semua bilangan prima maka hanya itulah solusi satu satunya dari faktorisasi prima tersebut (urutan perkalian boleh berbeda tetapi isi angka pasti akan tetap sama).\n",
        "\n",
        "\n",
        "contoh : Faktorisasikan 1562 menjadi UFoI\n",
        "\n",
        "langkah pertama bagi angka tersebut mulai dari bilangan prima terkecil jika, hasil nya adalah desimal maka lanjut bagi ke bilangan prima yang lebih besar\n",
        "\n",
        "=> $1562 / 2 = 781$ => hasil nya masih bilangan bulat, maka 2 masuk ke list\n",
        "\n",
        "lanjut bagi dengan 2 jika masih memungkin kan\n",
        "\n",
        "=> $781 / 2 = 390.5$ => hasilnya desimal maka kita naikan ke bilangan prima selanjutnya\n",
        "\n",
        "=> $781 / 3 = 260,3333$ => masih desimal maka kita naikan ke bilangan selanjutnya\n",
        "\n",
        "=> $781 / 5$ = udah jelas ini desimal, lanjut\n",
        "\n",
        "=> $781 / 7$ = desimal, lanjut\n",
        "\n",
        "=> $781 / 11 = 71$ => oke karena bilangan bulat, maka masuk list\n",
        "\n",
        "lanjut\n",
        "\n",
        "=> $71$, karena $71$ adalah bilangan prima maka hasil akhirnya $71$\n",
        "\n",
        "sooo list perkaliannya adalah => $2 . 11 . 71 = 1562$"
      ],
      "metadata": {
        "id": "nahnEk6qL6Aq"
      }
    },
    {
      "cell_type": "code",
      "source": [
        "\n",
        "def is_prime(num):\n",
        "    for i in range(2, int(num / 2) + 1):\n",
        "        if i != num and num % i == 0: return False\n",
        "    return True\n",
        "\n",
        "def generate_prime_after(num):\n",
        "    result = num + 1\n",
        "    while not is_prime(result):\n",
        "        result += 1\n",
        "    return result\n",
        "\n",
        "def unique_factorization(number):\n",
        "    prime = 2\n",
        "    factors = []\n",
        "    temp = number\n",
        "\n",
        "    while not is_prime(temp):\n",
        "        if temp % prime == 0:\n",
        "            temp = temp / prime\n",
        "            factors.append(prime)\n",
        "        else:\n",
        "            prime = generate_prime_after(prime)\n",
        "    factors.append(temp)\n",
        "    return factors\n",
        "\n",
        "unique_factorization(6936)"
      ],
      "metadata": {
        "colab": {
          "base_uri": "https://localhost:8080/"
        },
        "id": "KDAjI7IzLL1K",
        "outputId": "92ee2970-016e-4aeb-f5fe-f83bca2e1fda"
      },
      "execution_count": null,
      "outputs": [
        {
          "output_type": "execute_result",
          "data": {
            "text/plain": [
              "[2, 2, 2, 3, 17, 17.0]"
            ]
          },
          "metadata": {},
          "execution_count": 45
        }
      ]
    }
  ]
}