{
  "nbformat": 4,
  "nbformat_minor": 0,
  "metadata": {
    "colab": {
      "provenance": [],
      "authorship_tag": "ABX9TyMIt1Jcj7CZ+5pcgFMWs52+",
      "include_colab_link": true
    },
    "kernelspec": {
      "name": "python3",
      "display_name": "Python 3"
    },
    "language_info": {
      "name": "python"
    }
  },
  "cells": [
    {
      "cell_type": "markdown",
      "metadata": {
        "id": "view-in-github",
        "colab_type": "text"
      },
      "source": [
        "<a href=\"https://colab.research.google.com/github/ahmdbnrsl/Machine-Learning/blob/main/Mathematics-Requirements/Linear_Algebra.ipynb\" target=\"_parent\"><img src=\"https://colab.research.google.com/assets/colab-badge.svg\" alt=\"Open In Colab\"/></a>"
      ]
    },
    {
      "cell_type": "markdown",
      "source": [
        "**LINEAR ALGEBRA**"
      ],
      "metadata": {
        "id": "mK1Fywge8SlH"
      }
    },
    {
      "cell_type": "code",
      "execution_count": null,
      "metadata": {
        "colab": {
          "base_uri": "https://localhost:8080/"
        },
        "id": "HWLaWKOF8SX-",
        "outputId": "543f1d07-f163-4306-d7c9-b491a13ffc42"
      },
      "outputs": [
        {
          "output_type": "stream",
          "name": "stdout",
          "text": [
            "Requirement already satisfied: numpy in /usr/local/lib/python3.11/dist-packages (2.0.2)\n"
          ]
        }
      ],
      "source": [
        "pip install numpy"
      ]
    },
    {
      "cell_type": "markdown",
      "source": [
        "\n",
        "***A. VECTOR SPACE***\n",
        "\n",
        "Vector space (ruang vektor) adalah sebuah himpunan (kumpulan objek) yang:\n",
        "\n",
        "1. Anggotanya disebut vektor\n",
        "\n",
        "\n",
        "2. Memenuhi dua operasi utama:\n",
        "\n",
        "Penjumlahan vektor: menambahkan dua vektor menghasilkan vektor baru.\n",
        "\n",
        "Perkalian skalar: mengalikan vektor dengan bilangan (skalar) menghasilkan vektor baru juga.\n",
        "\n",
        "\n",
        "\n",
        "3. Tunduk pada 8 aturan (aksioma) tertentu (kita bahas nanti).\n",
        "\n",
        "\n",
        "\n",
        "Biasanya ruang vektor ini didefinisikan di atas field (seperti bilangan real ℝ atau bilangan kompleks ℂ), artinya semua skalarnya berasal dari field itu.\n",
        "\n",
        "Kalau ada dua vektor u = (u₁, u₂) dan v = (v₁, v₂), maka:\n",
        "\n",
        "Penjumlahan vektor:\n",
        "u + v = (u₁ + v₁, u₂ + v₂)\n",
        "\n",
        "Perkalian skalar dengan bilangan k:\n",
        "k * u = (k * u₁, k * u₂)\n",
        "\n",
        "8 Aksioma Ruang Vektor\n",
        "\n",
        "1. Asosiatif penjumlahan: (u + v) + w = u + (v + w)\n",
        "\n",
        "\n",
        "2. Komutatif penjumlahan: u + v = v + u\n",
        "\n",
        "\n",
        "3. Elemen nol: Ada vektor 0, sehingga u + 0 = u\n",
        "\n",
        "\n",
        "4. Elemen invers aditif: Untuk setiap u, ada -u, sehingga u + (-u) = 0\n",
        "\n",
        "\n",
        "5. Asosiatif perkalian skalar: a(bu) = (ab)u\n",
        "\n",
        "\n",
        "6. Identitas skalar: 1 * u = u\n",
        "\n",
        "\n",
        "7. Distributif terhadap penjumlahan vektor: a(u + v) = au + av\n",
        "\n",
        "\n",
        "8. Distributif terhadap penjumlahan skalar: (a + b)u = au + bu\n",
        "\n",
        "\n",
        "\n",
        "Kalau semua ini terpenuhi, maka himpunan itu adalah vector space."
      ],
      "metadata": {
        "id": "NQS21qXC8xGf"
      }
    },
    {
      "cell_type": "code",
      "source": [
        "import numpy as np\n",
        "\n",
        "def is_vector_space_check(vecs):\n",
        "    # Cek penjumlahan\n",
        "    u = vecs[0]\n",
        "    v = vecs[1]\n",
        "    sum_vec = u + v\n",
        "    print(f\"u + v = {sum_vec}\")\n",
        "\n",
        "    # Cek perkalian skalar\n",
        "    k = 3\n",
        "    scaled_vec = k * u\n",
        "    print(f\"{k} * u = {scaled_vec}\")\n",
        "\n",
        "vecs = [np.array([1, -1]), np.array([-2, 2])]  # x + y = 0\n",
        "vecs_1 = [np.array([2, 1]), np.array([4, 2])]  # x = 2y\n",
        "vecs_2 = [np.array([2, 4]), np.array([4, 6])]  # x + 2 = y\n",
        "\n",
        "is_vector_space_check(vecs)\n",
        "is_vector_space_check(vecs_2)"
      ],
      "metadata": {
        "colab": {
          "base_uri": "https://localhost:8080/"
        },
        "id": "62hDGWlT9WZ_",
        "outputId": "eb4b8efe-1fe3-42a9-d1f2-1fd41ad43306"
      },
      "execution_count": null,
      "outputs": [
        {
          "output_type": "stream",
          "name": "stdout",
          "text": [
            "u + v = [-1  1]\n",
            "3 * u = [ 3 -3]\n",
            "u + v = [ 6 10]\n",
            "3 * u = [ 6 12]\n"
          ]
        }
      ]
    },
    {
      "cell_type": "code",
      "source": [
        "def vector_space_check(vecs):\n",
        "    u = vecs[0]\n",
        "    v = vecs[1]\n",
        "\n",
        "    sum_vec = u + v\n",
        "    scaled_vec = 3 * u\n",
        "\n",
        "    def is_in_V(vec):\n",
        "        return np.sum(vec) == 0\n",
        "\n",
        "    if is_in_V(sum_vec) and is_in_V(scaled_vec):\n",
        "        print(\"✅ Ini adalah vector space\")\n",
        "        return True\n",
        "    else:\n",
        "        print(\"❌ Ini bukan vector space\")\n",
        "        return False\n",
        "\n",
        "vector_space_check([np.array([5, 2, 1]), np.array([10, 4, 2])])"
      ],
      "metadata": {
        "colab": {
          "base_uri": "https://localhost:8080/"
        },
        "id": "qQmqQh9LCR6D",
        "outputId": "8ca1ec10-e741-4fd5-a85c-6b87bc788bf0"
      },
      "execution_count": null,
      "outputs": [
        {
          "output_type": "stream",
          "name": "stdout",
          "text": [
            "❌ Ini bukan vector space\n"
          ]
        },
        {
          "output_type": "execute_result",
          "data": {
            "text/plain": [
              "False"
            ]
          },
          "metadata": {},
          "execution_count": 3
        }
      ]
    },
    {
      "cell_type": "markdown",
      "source": [
        "***B. Euclidean Space (Ruang Euclidean)***\n",
        "\n",
        "\n",
        "\n",
        "\n",
        "Euclidean space adalah ruang vektor berdimensi-n yang dilengkapi dengan konsep jarak dan sudut.\n",
        "\n",
        "1. Dot Product (Perkalian Titik) menghasilkan scalar\n",
        "2. Norm (Panjang/Modulus)\n",
        "3. Distance (Jarak)\n",
        "4. Sudut antara dua vektor"
      ],
      "metadata": {
        "id": "vCyJDkKIH-Az"
      }
    },
    {
      "cell_type": "code",
      "source": [
        "\n",
        "import numpy as np\n",
        "from math import sqrt, acos, degrees\n",
        "\n",
        "# Diberikan vektor\n",
        "a = np.array([2, -1, 4])\n",
        "b = np.array([-3, 0, 1])\n",
        "\n",
        "# Pertanyaan:\n",
        "# 5.1 Hitung dot product a · b\n",
        "print(a @ b)\n",
        "# 5.2 Hitung panjang dari vektor a\n",
        "print(sqrt(np.sum(i**2 for i in a)))\n",
        "# 5.3 Hitung jarak antara a dan b\n",
        "print(sqrt(np.sum(i**2 for i in a - b)))\n",
        "# 5.4 Hitung sudut antara a dan b (dalam derajat)\n",
        "cos_theta = (a @ b) / (np.linalg.norm(a) * np.linalg.norm(b))\n",
        "theta_rad = acos(cos_theta)\n",
        "theta_deg = degrees(theta_rad)\n",
        "print(theta_deg)"
      ],
      "metadata": {
        "colab": {
          "base_uri": "https://localhost:8080/"
        },
        "id": "JYzoyP-ZIfPv",
        "outputId": "ca0e0543-5c1d-4c6e-da68-7d165ae50720"
      },
      "execution_count": null,
      "outputs": [
        {
          "output_type": "stream",
          "name": "stdout",
          "text": [
            "-2\n",
            "4.58257569495584\n",
            "5.916079783099616\n",
            "97.93288986424014\n"
          ]
        },
        {
          "output_type": "stream",
          "name": "stderr",
          "text": [
            "/tmp/ipython-input-4-1293192234.py:12: DeprecationWarning: Calling np.sum(generator) is deprecated, and in the future will give a different result. Use np.sum(np.fromiter(generator)) or the python sum builtin instead.\n",
            "  print(sqrt(np.sum(i**2 for i in a)))\n",
            "/tmp/ipython-input-4-1293192234.py:14: DeprecationWarning: Calling np.sum(generator) is deprecated, and in the future will give a different result. Use np.sum(np.fromiter(generator)) or the python sum builtin instead.\n",
            "  print(sqrt(np.sum(i**2 for i in a - b)))\n"
          ]
        }
      ]
    },
    {
      "cell_type": "markdown",
      "source": [
        "***C. SUBSPACE***\n",
        "\n",
        "Subspace (ruang bagian) adalah subset dari vector space yang juga merupakan vector space itu sendiri."
      ],
      "metadata": {
        "id": "KEtVVznyO3P7"
      }
    },
    {
      "cell_type": "code",
      "source": [
        "# langkah 1 menentukan subspace\n",
        "# cek apakah 0 vektor memenuhi syarat himpunan\n",
        "\n",
        "v = np.array([1, 2]) # y = 2x\n",
        "v0 = np.array([0, 0]) # y = 2x -> yaa betull\n",
        "\n",
        "# tinggal kita cek bagian dari vector space apa bukan\n",
        "def is_subspace(vecs):\n",
        "\n",
        "    rule = v0[1] == v0[0]**2\n",
        "\n",
        "    if rule:\n",
        "        print(\"nol vektor valid\")\n",
        "        if is_vector_space_check(vecs): print(\"Ini vektor subspaces\")\n",
        "        else: print(\"Ini bukan vektor subspaces\")\n",
        "\n",
        "is_subspace([np.array([2, 4]), np.array([4, 16])])"
      ],
      "metadata": {
        "id": "WujIycTdPE54",
        "colab": {
          "base_uri": "https://localhost:8080/"
        },
        "outputId": "1dd7986e-fe9c-49e1-9da0-3329b9261a53"
      },
      "execution_count": null,
      "outputs": [
        {
          "output_type": "stream",
          "name": "stdout",
          "text": [
            "nol vektor valid\n",
            "u + v = [ 6 20]\n",
            "3 * u = [ 6 12]\n",
            "Ini bukan vektor subspaces\n"
          ]
        }
      ]
    },
    {
      "cell_type": "markdown",
      "source": [
        "***D. LINEAR MAPS***\n",
        "\n",
        "A. Menerima vektor sebagai input\n",
        "\n",
        "B. Mengembalikan vektor sebagai output (di ruang vektor tujuan)\n",
        "\n",
        "C. Dan harus memenuhi 3 properti utama:\n",
        "\n",
        "🔹 1. Memetakan nol vektor ke nol vektor\n",
        "🔹 2. Additivity (penjumlahan)\n",
        "🔹 3. Homogeneity (perkalian skalar)"
      ],
      "metadata": {
        "id": "n3uZbiExsphu"
      }
    },
    {
      "cell_type": "code",
      "source": [
        "# fungsi untuk menentukan linear map\n",
        "import numpy as np\n",
        "v0 = np.array([0,0])\n",
        "u = np.array([1, 2])\n",
        "v_ = np.array([2, 4])\n",
        "\n",
        "def a(v):\n",
        "    return np.array([v[0] + v[1], v[0] - v[1]])\n",
        "def b(v):\n",
        "    return np.array([v[0] + 1, v[1]])\n",
        "def c(v):\n",
        "    return np.array([v[0] ** 2, v[1]])\n",
        "def d(v):\n",
        "    return 5 * v\n",
        "def e(v):\n",
        "    return 0 * v\n",
        "\n",
        "# 1.\n",
        "\n",
        "print(\"1\")\n",
        "print(np.equal(v0, a(v0)))\n",
        "print(np.equal(a(u + v_), a(u) + a(v_)))\n",
        "print(np.equal(a(2 * u), 2 * a(u)))\n",
        "\n",
        "# 2.\n",
        "\n",
        "print(\"2\")\n",
        "print(np.equal(v0, b(v0)))\n",
        "print(np.equal(b(u + v_), b(u) + b(v_)))\n",
        "print(np.equal(b(2 * u), 2 * b(u)))\n",
        "\n",
        "\n",
        "# 3.\n",
        "\n",
        "print(\"3\")\n",
        "print(np.equal(v0, c(v0)))\n",
        "print(np.equal(c(u + v_), c(u) + c(v_)))\n",
        "print(np.equal(c(2 * u), 2 * c(u)))\n",
        "\n",
        "# 4.\n",
        "\n",
        "print(\"4\")\n",
        "print(np.equal(v0, d(v0)))\n",
        "print(np.equal(d(u + v_), d(u) + d(v_)))\n",
        "print(np.equal(d(2 * u), 2 * d(u)))\n",
        "\n",
        "# 5.\n",
        "\n",
        "print(\"5\")\n",
        "print(np.equal(v0, e(v0)))\n",
        "print(np.equal(e(u + v_), e(u) + e(v_)))\n",
        "print(np.equal(e(2 * u), 2 * e(u)))\n",
        "\n",
        "\n",
        "# Exercise\n",
        "\n",
        "v0 = np.array([0,0])\n",
        "u = np.array([1, 2])\n",
        "v_ = np.array([2, 4])\n",
        "\n",
        "def T(v):\n",
        "    return np.array([2 * v[0] + v[1], v[0] - 3 * v[1]])\n",
        "\n",
        "print(np.equal(v0, T(v0)))\n",
        "print(np.equal(T(u + v_), T(u) + T(v_)))\n",
        "print(np.equal(T(2 * u), 2 * T(u)))"
      ],
      "metadata": {
        "colab": {
          "base_uri": "https://localhost:8080/"
        },
        "id": "wZx2GNu3tJoz",
        "outputId": "bc63f27b-6467-4880-8a40-248248cd1c52"
      },
      "execution_count": null,
      "outputs": [
        {
          "output_type": "stream",
          "name": "stdout",
          "text": [
            "1\n",
            "[ True  True]\n",
            "[ True  True]\n",
            "[ True  True]\n",
            "2\n",
            "[False  True]\n",
            "[False  True]\n",
            "[False  True]\n",
            "3\n",
            "[ True  True]\n",
            "[False  True]\n",
            "[False  True]\n",
            "4\n",
            "[ True  True]\n",
            "[ True  True]\n",
            "[ True  True]\n",
            "5\n",
            "[ True  True]\n",
            "[ True  True]\n",
            "[ True  True]\n",
            "[ True  True]\n",
            "[ True  True]\n",
            "[ True  True]\n"
          ]
        }
      ]
    },
    {
      "cell_type": "markdown",
      "source": [
        "***E. LINEAR OPERATOR***\n",
        "\n",
        "Linear operator adalah linear maps yang domain dan kodomainnya (input-output) nya di ruang vektor yang sama"
      ],
      "metadata": {
        "id": "wjSBG4d9VoVf"
      }
    },
    {
      "cell_type": "code",
      "source": [
        "# contoh Linear operator\n",
        "\n",
        "def lo(v):\n",
        "    return np.array([v[0] * 2, v[1] * 2])\n",
        "\n",
        "v0 = np.array([0,0])\n",
        "u = np.array([1, 2])\n",
        "v_ = np.array([2, 4])\n",
        "\n",
        "print(np.equal(v0, lo(v0)))\n",
        "print(np.equal(lo(u + v_), lo(u) + lo(v_)))\n",
        "print(np.equal(lo(2 * u), 2 * lo(u)))"
      ],
      "metadata": {
        "colab": {
          "base_uri": "https://localhost:8080/"
        },
        "id": "VfmOVLipV8W7",
        "outputId": "015384a3-6baf-47f8-e2d3-3d583652694c"
      },
      "execution_count": null,
      "outputs": [
        {
          "output_type": "stream",
          "name": "stdout",
          "text": [
            "[ True  True]\n",
            "[ True  True]\n",
            "[ True  True]\n"
          ]
        }
      ]
    },
    {
      "cell_type": "markdown",
      "source": [
        "***F. Matrics of linear maps***\n",
        "\n",
        "Ini adalah representasi matriks yang jika di lakukan dot product dengan domain (input) dari linear maps akan menghasilkan output (kodomain) yang sama dari linear maps itu sendiri.\n",
        "\n",
        "\n",
        "langkah langkah menentukannya adalah dengan memasukan basis kanonik sebagai domain dari linear maps,\n",
        "\n",
        "basis kanonik adalah vektor yang berisi 1 dan 0 dimana jika vektor tersebut digabungkan sebagai kolom2 matriks maka angka satu nya akan membentuk diagonal alias matriks identitas\n",
        "\n",
        "R^n -> e^n\n",
        "artinya jika vector n x 1 maka kanonik nya n × n"
      ],
      "metadata": {
        "id": "piSF7puhb3dt"
      }
    },
    {
      "cell_type": "code",
      "source": [
        "def mlo(v):\n",
        "    return np.array([v[0] + v[1], v[1] + v[2]])\n",
        "\n",
        "def mlo_2(v):\n",
        "    return np.array([[1, 1, 0], [0, 1, 1]]) @ v\n",
        "\n",
        "v3 = np.array([1, 2, 3])\n",
        "print(mlo_2(v3))\n",
        "print(mlo(v3))\n",
        "# masukan basis kanonik\n",
        "\n",
        "kanonik_base = np.array([\n",
        "    [1, 0, 0],\n",
        "    [0, 1, 0],\n",
        "    [0, 0, 1]\n",
        "])\n",
        "\n",
        "def create_matriks_from_lm(lm, input_length):\n",
        "    kanonik_base = np.identity(input_length)\n",
        "    length = len(kanonik_base)\n",
        "    return np.array([lm(kanonik_base[:, i]) for i in range(length)]).T\n",
        "\n",
        "\n",
        "\n",
        "print(mlo(kanonik_base[:, 0])) # ini akan menghasil kan vektor kolom yang akan digunakan untuk menyusun matriks\n",
        "print(mlo(kanonik_base[:, 1]))\n",
        "print(mlo(kanonik_base[:, 2]))\n",
        "create_matriks_from_lm(mlo, len(v3))"
      ],
      "metadata": {
        "colab": {
          "base_uri": "https://localhost:8080/"
        },
        "id": "XHScCj4ncBBC",
        "outputId": "ff51b915-17d0-43fc-eeb4-bc1d8009c68a"
      },
      "execution_count": null,
      "outputs": [
        {
          "output_type": "stream",
          "name": "stdout",
          "text": [
            "[3 5]\n",
            "[3 5]\n",
            "[1 0]\n",
            "[1 1]\n",
            "[0 1]\n"
          ]
        },
        {
          "output_type": "execute_result",
          "data": {
            "text/plain": [
              "array([[1., 1., 0.],\n",
              "       [0., 1., 1.]])"
            ]
          },
          "metadata": {},
          "execution_count": 8
        }
      ]
    },
    {
      "cell_type": "code",
      "source": [
        "np.identity(4)"
      ],
      "metadata": {
        "id": "OA7BGZ_glH41",
        "colab": {
          "base_uri": "https://localhost:8080/"
        },
        "outputId": "696047de-690f-4712-bbdc-8270b825ab3a"
      },
      "execution_count": null,
      "outputs": [
        {
          "output_type": "execute_result",
          "data": {
            "text/plain": [
              "array([[1., 0., 0., 0.],\n",
              "       [0., 1., 0., 0.],\n",
              "       [0., 0., 1., 0.],\n",
              "       [0., 0., 0., 1.]])"
            ]
          },
          "metadata": {},
          "execution_count": 9
        }
      ]
    },
    {
      "cell_type": "markdown",
      "source": [
        "***G. Row Echelon***\n",
        "\n",
        "\n",
        "Langkah pengerjaan\n",
        "\n",
        "tentukan pivot di elemen pertama dari baris 1 selama elemen noon 0, naahh trus baarris bawahnya kita tentukan pivot dikali berapa suppaya hasilnya pivot dibaris itu..., jika pivot di R1 0 maka tukar baris, jika pivot di elemen paling bawah sudah 0 maka geser kekanan, lalu tentukan tangga eselon\n",
        "\n",
        "contoh soal :\n",
        "\n",
        "\n",
        "Nomor 1.\n",
        "[1, 2]\n",
        "[3, 4]\n",
        "\n",
        "R2 = R2 - 3R1 => [3, 4] - 3 * [1, 2] =  [0, -2]\n",
        "\n",
        "Nomor 2.\n",
        "[0, 2, 3]\n",
        "[ 1, 1, 1 ]\n",
        "[2, 4, 6]\n",
        "\n",
        "tukar baris 1 dan 2\n",
        "[1, 1, 1]\n",
        "[0, 2, 3]\n",
        "[2, 4, 6]\n",
        "\n",
        "eliminasi baris 3\n",
        "R3 = R3 - 2R1 => [2, 4, 6] - 2 * [1, 1, 1] = [0, 2, 4]\n",
        "\n",
        "baris 3 kita kurang kan dengan baris 2\n",
        "R3 = R3 - R2 = [0, 0, 1]\n",
        "\n",
        "maka hasilnya\n",
        "[1,1,1]\n",
        "[0, 2,3]\n",
        "[0,0, 1]\n",
        "\n",
        "Nomor 3.\n",
        "[2,4,6]\n",
        "[1,2,3]\n",
        "[0,0,1]\n",
        "\n",
        "R2 = R2 - 1/2R1 => [1,2,3] - 1/2*[2, 4, 6] => [0, 0, 0]\n",
        "\n",
        "kita tukar baris 2 dan 3\n",
        "maka hasilnya\n",
        "\n",
        "[2,4,6]\n",
        "[0,0,1]\n",
        "[0,0,0]"
      ],
      "metadata": {
        "id": "28gsUSajPgxc"
      }
    },
    {
      "cell_type": "code",
      "source": [
        "import numpy as np\n",
        "\n",
        "def row_echelon(matrix):\n",
        "    if not isinstance(matrix, np.ndarray):\n",
        "        raise ValueError(\"masukan hanya matrix\")\n",
        "    A = matrix.astype(float)\n",
        "\n",
        "    m, n = A.shape\n",
        "    row = 0\n",
        "    for col in range(n):\n",
        "        if row >= m:\n",
        "            break\n",
        "\n",
        "        max_row = np.argmax(abs(A[row:, col])) + row\n",
        "\n",
        "        if A[max_row, col] == 0:\n",
        "            continue\n",
        "\n",
        "        A[[row, max_row]] = A[[max_row, row]]\n",
        "\n",
        "        A[row] = A[row] / A[row, col]\n",
        "\n",
        "        for r in range(row + 1, m):\n",
        "            A[r] = A[r] - A[r, col] * A[row]\n",
        "        row += 1\n",
        "    return A\n",
        "\n",
        "Z = np.array([\n",
        "    np.array([0, 1, 2]),\n",
        "    np.array([1, 1, 1]),\n",
        "    np.array([2, 4, 5])\n",
        "])\n",
        "\n",
        "row_echelon(np.array([\n",
        "    [0, 1, 2],\n",
        "    [1, 1, 1],\n",
        "    [2, 4, 5]\n",
        "]))"
      ],
      "metadata": {
        "id": "XYC6W8J2IBvh",
        "colab": {
          "base_uri": "https://localhost:8080/"
        },
        "outputId": "c9a3ee8c-792c-4fda-bb16-09186a2e6a90"
      },
      "execution_count": null,
      "outputs": [
        {
          "output_type": "execute_result",
          "data": {
            "text/plain": [
              "array([[ 1. ,  2. ,  2.5],\n",
              "       [-0. ,  1. ,  1.5],\n",
              "       [ 0. ,  0. ,  1. ]])"
            ]
          },
          "metadata": {},
          "execution_count": 17
        }
      ]
    },
    {
      "cell_type": "markdown",
      "source": [
        "***H. Span***\n",
        "\n",
        "Span dari suatu himpunan vektor adalah seluruh kumpulan vektor yang bisa dibentuk dari kombinasi linear dari vektor-vektor tersebut.\n",
        "\n",
        "cara menentukan nya adalah dengan menentukan skalar * v1 + skalar * v2 = t\n",
        "\n",
        "cari skalar yang memenuhi, jika tidak ada skalar yang memenuhi maka t bukan bagian dari span\n",
        "\n",
        "contoh\n",
        "\n",
        "1. apakah t = [4, 5] ada dalam span [1, 2], [2, 1]\n",
        "\n",
        "\n",
        "\n",
        "c1 + 2c2 = 4\n",
        "\n",
        "2c1 + c2 = 5\n",
        "\n",
        "c1 = 4 - 2c2 (i)\n",
        "\n",
        "\n",
        "2(4 - 2c2) + c2 = 5\n",
        "\n",
        "8 - 4c2 + c2 = 5\n",
        "\n",
        "8 - 3c2 = 5\n",
        "\n",
        "8 = 5 + 3c2\n",
        "\n",
        "8 = 5 + 3(1)\n",
        "\n",
        "c2 = 1\n",
        "\n",
        "\n",
        "subtitusi ke (i)\n",
        "\n",
        "4 - 2(1) = 2\n",
        "\n",
        "c1 = 2\n",
        "\n",
        "\n",
        "jadi t ada dalam span\n",
        "\n",
        "\n",
        "2. apakah t = [2, 3, 1] ada dalam span  [1, 0, -1], [0, 1, 1]\n",
        "\n",
        "\n",
        "\n",
        "c1 + 0 = 2\n",
        "\n",
        "0 + c2 = 3\n",
        "\n",
        "-c1 + c2 = 1\n",
        "\n",
        "-2 + 3 = 1\n",
        "\n",
        "\n",
        "t ada dalam span\n",
        "\n",
        "\n",
        "3. apakah t = [1, 2, 4] ada dalam span [1,2,3], [2,4,6]\n",
        "\n",
        "\n",
        "\n",
        "c1 + 2c2 = 1\n",
        "\n",
        "2c1 + 4c2 = 2\n",
        "\n",
        "3c1 + 6c2 = 4\n",
        "\n",
        "c1 = 1 - 2c2 (i)\n",
        "\n",
        "2(1 - 2c2) + 4c2 = 2\n",
        "\n",
        "2 - 4c2 + 4c2 = 2\n",
        "\n",
        "2 - 8c2 = 2\n",
        "\n",
        "2 - 8(0) = 2\n",
        "\n",
        "\n",
        "c2 = 0 (ii)\n",
        "\n",
        "c1 = 1 - 2(0) = 1\n",
        "\n",
        "3(1) + 0 != 4\n",
        "\n",
        "jadi t tidak berada dalam span"
      ],
      "metadata": {
        "id": "v0-GjrjlkNLS"
      }
    },
    {
      "cell_type": "code",
      "source": [
        "\n",
        "import numpy as np\n",
        "\n",
        "def is_in_span(vectors, target):\n",
        "    A = np.column_stack(vectors)\n",
        "    print(A)\n",
        "    try:\n",
        "        x = np.linalg.lstsq(A, target, rcond=None)[0]\n",
        "        print(x)\n",
        "        print(A @ x)\n",
        "        return np.allclose(A @ x, target)\n",
        "    except:\n",
        "        return False\n",
        "\n",
        "span = np.array([\n",
        "    [1, 0, -1],\n",
        "    [0, 1, 1]\n",
        "])\n",
        "\n",
        "t = np.array([2, 3, 1])\n",
        "\n",
        "print(span @ t)\n",
        "\n",
        "is_in_span(span, t)"
      ],
      "metadata": {
        "id": "SVjRQtKr5VPq",
        "colab": {
          "base_uri": "https://localhost:8080/"
        },
        "outputId": "ec7896bf-4de2-4a16-8f9f-59c82bdc57b9"
      },
      "execution_count": null,
      "outputs": [
        {
          "output_type": "stream",
          "name": "stdout",
          "text": [
            "[1 4]\n",
            "[[ 1  0]\n",
            " [ 0  1]\n",
            " [-1  1]]\n",
            "[2. 3.]\n",
            "[2. 3. 1.]\n"
          ]
        },
        {
          "output_type": "execute_result",
          "data": {
            "text/plain": [
              "True"
            ]
          },
          "metadata": {},
          "execution_count": 11
        }
      ]
    },
    {
      "cell_type": "markdown",
      "source": [
        "***I. Null Space***\n",
        "\n",
        "jadiii intinya null space tuh menggenerate span (x) untuk yg jika dikalikan dengan baris2 matriks A menjadi vektor 0\n",
        "\n",
        "contoh :\n",
        "\n",
        "A1 = [[1, 2, -1], [2, 4, -2]]\n",
        "\n",
        "x1 + 2x2 - x3 = 0\n",
        "\n",
        "2x1 + 4x2 - 2x3 = 0\n",
        "\n",
        "eliminasi row echelon\n",
        "\n",
        "R2 - 2R1 = [[1, 2, -1], [0, 0, 0]]\n",
        "\n",
        "expresikan variable bebas\n",
        "\n",
        "x1 + 2x2 - x3 = 0 => x1 = -2x2 + x3\n",
        "\n",
        "var bebas: x2, x3\n",
        "\n",
        "x = [-2x2 + x3, x2, x3] = x2 [-2, 1, 0] + x3 [1, 0, 1]\n",
        "\n",
        "null(A1) = span{[-2, 1, 0], [1,0,1]\n",
        "\n",
        "A2 = [[1, -1, 2], [3, -3, 6]\n",
        "\n",
        "eliminasi row echelon\n",
        "\n",
        "R2 - 3R1 = [[1, -1, 2], [0, 0, 0]\n",
        "\n",
        "x1 - x2 + 2x3 = 0\n",
        "\n",
        "x1 = x2 - 2x3\n",
        "\n",
        "expresikan =>\n",
        "\n",
        "[x2 - 2x3, x2, x3] =>\n",
        "\n",
        "null(A2) = span{[1, 1, 0], [-2, 0, 1]}\n",
        "\n",
        "A3 = [[1, 2, 1], [0, 1, 1]]\n",
        "\n",
        "x1 + 2x2 + x3 = 0\n",
        "\n",
        "x2 + x3 = 0\n",
        "\n",
        "x2 = -x3\n",
        "\n",
        "x1 = -2(-x3) - x3  = x3\n",
        "\n",
        "[x3, -x3, x3]\n",
        "\n",
        "[1, -1, 1]"
      ],
      "metadata": {
        "id": "_hEDUFzPMFvO"
      }
    },
    {
      "cell_type": "code",
      "source": [
        "pip install scipy sympy"
      ],
      "metadata": {
        "id": "Dd_R1uEHT9XQ",
        "colab": {
          "base_uri": "https://localhost:8080/"
        },
        "outputId": "bf497a57-47fd-4edc-db8a-ae0dd3a70b24"
      },
      "execution_count": null,
      "outputs": [
        {
          "output_type": "stream",
          "name": "stdout",
          "text": [
            "Requirement already satisfied: scipy in /usr/local/lib/python3.11/dist-packages (1.15.3)\n",
            "Requirement already satisfied: sympy in /usr/local/lib/python3.11/dist-packages (1.13.1)\n",
            "Requirement already satisfied: numpy<2.5,>=1.23.5 in /usr/local/lib/python3.11/dist-packages (from scipy) (2.0.2)\n",
            "Requirement already satisfied: mpmath<1.4,>=1.1.0 in /usr/local/lib/python3.11/dist-packages (from sympy) (1.3.0)\n"
          ]
        }
      ]
    },
    {
      "cell_type": "code",
      "source": [
        "\n",
        "import numpy as np\n",
        "from scipy.linalg import null_space\n",
        "\n",
        "Q = np.array([\n",
        "    [1,2,1],\n",
        "    [0,1,1]\n",
        "])\n",
        "\n",
        "print(null_space(Q))"
      ],
      "metadata": {
        "id": "OCytG898MW2O",
        "colab": {
          "base_uri": "https://localhost:8080/"
        },
        "outputId": "febb6de9-7352-4b87-e8d2-4fae5d1b1a9c"
      },
      "execution_count": null,
      "outputs": [
        {
          "output_type": "stream",
          "name": "stdout",
          "text": [
            "[[ 0.57735027]\n",
            " [-0.57735027]\n",
            " [ 0.57735027]]\n"
          ]
        }
      ]
    },
    {
      "cell_type": "markdown",
      "source": [
        "***J. Range***\n",
        "\n",
        "span dari beberapa kolom asli matrix yang mengandung pivot di REF(matrix)"
      ],
      "metadata": {
        "id": "J3oC-xI9hbo_"
      }
    },
    {
      "cell_type": "code",
      "source": [
        "def range_matrix(M):\n",
        "    REF = row_echelon(M)\n",
        "    span = []\n",
        "\n",
        "    for i, e in enumerate(REF):\n",
        "        for j, el in enumerate(REF[:, i]):\n",
        "            if j >= i:\n",
        "                if el != 0:\n",
        "                    span.append(M[:, i])\n",
        "                else: break\n",
        "\n",
        "    return span\n",
        "\n",
        "def range_matrix_2(M):\n",
        "    REF = row_echelon(M)\n",
        "    pivot_cols = []\n",
        "\n",
        "    for row in REF:\n",
        "        for i, val in enumerate(row):\n",
        "            if abs(val) > 1e-8:  # toleransi float\n",
        "                if i not in pivot_cols:\n",
        "                    pivot_cols.append(i)\n",
        "                break\n",
        "\n",
        "    return [M[:, i] for i in pivot_cols]\n",
        "\n",
        "M = np.array([\n",
        "    [1, 2, 3],\n",
        "    [2, 4, 6],\n",
        "    [1, 1, 1]\n",
        "])\n",
        "\n",
        "print(range_matrix(M))\n",
        "print(range_matrix_2(M))"
      ],
      "metadata": {
        "colab": {
          "base_uri": "https://localhost:8080/"
        },
        "id": "m0vTHobBTgjJ",
        "outputId": "c26b2ecb-fbdf-4736-ac6e-a01eed61b5e9"
      },
      "execution_count": null,
      "outputs": [
        {
          "output_type": "stream",
          "name": "stdout",
          "text": [
            "[array([1, 2, 1]), array([2, 4, 1])]\n",
            "[array([1, 2, 1]), array([2, 4, 1])]\n"
          ]
        }
      ]
    },
    {
      "cell_type": "markdown",
      "source": [
        "***K. Metric Space***\n",
        "\n",
        "Metric slace adalah pasangan (X, d) dimana X adalah himpunan bisa berupa Bilangan real, vektor, fungsi dan lain lain, dan d adalah : X * X = R => adalah fungsi jarak, atau distance function (Euclidian distance dll)\n",
        "\n",
        "fungsi d harus memenuhi 4 syarat utama supaya bisa dikatakan metric\n",
        "\n",
        "1. hasil nya Non negatif\n",
        "\n",
        "2. identitas, dalam artian jika output dari fungsi 0, maka x = y\n",
        "\n",
        "3. simetri, jika x, y == y, x\n",
        "\n",
        "4. segitiga dalam artian d(x, z) < d(x,y) + d(y, z)"
      ],
      "metadata": {
        "id": "5LR1fFMG07zU"
      }
    },
    {
      "cell_type": "code",
      "source": [
        "from math import sqrt\n",
        "\n",
        "def d1(x, y):\n",
        "    return sqrt((x - y)**2)\n",
        "\n",
        "def check_is_metric(d, x, y, z):\n",
        "    non_negatif = d(x, y) >= 0\n",
        "    identitas = d(1, 1) == 0\n",
        "    simetri = d(x, y) == d(y, x)\n",
        "    triangle = d(x, z) <= d(x,y) + d(y,z)\n",
        "    if non_negatif and identitas and simetri and triangle:\n",
        "        print(\"Ini adalah fungsi metric\")\n",
        "    else:\n",
        "        print(\"ini bukan fungsi metric\")\n",
        "\n",
        "check_is_metric(d1, 2, 3, 4)"
      ],
      "metadata": {
        "colab": {
          "base_uri": "https://localhost:8080/"
        },
        "id": "J4r3yC1c8HNe",
        "outputId": "6ada5b67-6530-4e16-a429-56670ecce8d1"
      },
      "execution_count": null,
      "outputs": [
        {
          "output_type": "stream",
          "name": "stdout",
          "text": [
            "Ini adalah fungsi metric\n"
          ]
        }
      ]
    },
    {
      "cell_type": "markdown",
      "source": [
        "***L. Normed Spaces***\n",
        "\n",
        "Sebuah vector space (ruang vektor) yang dilengkapi dengan fungsi norm.\n",
        "\n",
        "\n",
        "\n",
        "Fungsi norm adalah fungsi yang memetakan setiap vektor ke angka non-negatif, menggambarkan “panjang” atau “ukuran” dari vektor tersebut.\n",
        "\n",
        "fungsi normed spaces harus memenuhi syarat\n",
        "\n",
        "1. non-negatif output\n",
        "\n",
        "2. homogenitas => norm(a * v) = a * norm(v)\n",
        "\n",
        "3. triangle => norm(v + y) <= norm(v) + norm(y)\n",
        "\n",
        "\n",
        "contoh fungsi norm yang terkenal ada\n",
        "\n",
        "1. Manhattan / L1 norm\n",
        "\n",
        "norm(v) = |v1| + |v2|\n",
        "\n",
        "2. Euclidian Norm / L2 norm\n",
        "\n",
        "norm(v) = sqrt(v1² + v2²)\n",
        "\n",
        "3. Infinity norm\n",
        "\n",
        "norm(v) = max(vi)"
      ],
      "metadata": {
        "id": "q751CPMxMCX7"
      }
    },
    {
      "cell_type": "code",
      "source": [
        "\n",
        "import numpy as np\n",
        "from math import sqrt\n",
        "\n",
        "def l1_manhattan(v):\n",
        "    return sum(abs(i) for i in v)\n",
        "\n",
        "def l2_euclidian(v):\n",
        "    return sqrt(sum(i**2 for i in v))\n",
        "\n",
        "def check_is_normed_spaces(v, w, norm):\n",
        "    non_negative = norm(v) >= 0\n",
        "    homogenity = norm(v * 2) == 2 * norm(v)\n",
        "    #w = np.random.randint(0, 9, len(v))\n",
        "    triangle = norm(w + v) <= norm(w) + norm(v)\n",
        "\n",
        "    if non_negative and homogenity and triangle:\n",
        "        print(\"Ini adalah fungsi norm\")\n",
        "    else: print(\"Ini bukan fungsi norm\")\n",
        "\n",
        "vector = np.array([1, 2])\n",
        "vector_2 = np.array([2, 4])\n",
        "\n",
        "check_is_normed_spaces(vector, vector_2, l1_manhattan)\n",
        "check_is_normed_spaces(vector, vector_2, l2_euclidian)"
      ],
      "metadata": {
        "colab": {
          "base_uri": "https://localhost:8080/"
        },
        "id": "3qLMIs1CQzwt",
        "outputId": "e30bb711-af1a-4c97-fcf5-b927e0b49c60"
      },
      "execution_count": null,
      "outputs": [
        {
          "output_type": "stream",
          "name": "stdout",
          "text": [
            "Ini adalah fungsi norm\n",
            "Ini adalah fungsi norm\n"
          ]
        }
      ]
    },
    {
      "cell_type": "markdown",
      "source": [
        "***M.Inner Product spaces***\n",
        "\n",
        "Sebuah inner product space adalah vector space yang dilengkapi dengan operasi inner product (produk dalam), yaitu fungsi:\n",
        "\n",
        "< . , . > : V × V => R\n",
        "\n",
        "yang mengambil dua vektor dan mengembalikan bilangan real, dengan sifat-sifat tertentu.\n",
        "\n",
        "1. Positif definit\n",
        "\n",
        "dimana f(v, v) >= 0, dan jika f(u, u) = 0 maka u harus = 0 (vektor nol)\n",
        "\n",
        "2. simetri\n",
        "\n",
        "f(u, v) = f(v, u)\n",
        "\n",
        "3. linearitas\n",
        "\n",
        "f(a * u + w, v) = a * f(u, v) + f(w, v)"
      ],
      "metadata": {
        "id": "MvF4a8NqyfcC"
      }
    },
    {
      "cell_type": "code",
      "source": [
        "\n",
        "import numpy as np\n",
        "\n",
        "def func(v, w):\n",
        "    return sum(e * w[i] for i, e in enumerate(v))\n",
        "\n",
        "def func_1(v, w):\n",
        "    return  v[0] * w[0] + 2 * v[1] * w[1]\n",
        "\n",
        "def func_2(v, w):\n",
        "    return v[0] * w[1] + v[1] * w[0]\n",
        "\n",
        "def func_3(v, w):\n",
        "    return 3 * v[0] * w[0] + 4 * v[1] * w[1] + 5 * v[2] * w[2]\n",
        "\n",
        "def func_4(v, w):\n",
        "    return sum(e**2 * w[i]**2 for i, e in enumerate(v))\n",
        "\n",
        "def func_5(v, w):\n",
        "    return v[0] * w[0] + v[1]\n",
        "\n",
        "v_1 = np.array([1, -1])\n",
        "v_2 = np.array([-2, 4])\n",
        "v_3 = np.array([3, 6])\n",
        "\n",
        "v_4 = np.array([1, -2, 1])\n",
        "v_5 = np.array([4, -7, -4])\n",
        "\n",
        "def check_is_inner_product(f, u, v, w):\n",
        "    pd_1 = f(u, u) >= 0\n",
        "    pd_2 = True\n",
        "\n",
        "    if f(u,u) == 0: pd_2 = np.all(u == 0)\n",
        "\n",
        "    simetry = f(v, u) == f(u, v)\n",
        "\n",
        "    a = np.random.randint(1, 9)\n",
        "    b = np.random.randint(-9, -1)\n",
        "\n",
        "    left = f(a*u + b*v, w)\n",
        "    right = a * f(u, w) + b * f(v, w)\n",
        "\n",
        "    linearity = np.allclose(left, right)\n",
        "\n",
        "    print(\"positive definite : \", pd_1 and pd_2)\n",
        "    print(\"simetry : \", simetry)\n",
        "    print(\"linearity : \", linearity)\n",
        "\n",
        "    if pd_1 and pd_2 and simetry and linearity:\n",
        "        return \"Ini adalah inner product\"\n",
        "    else: return \"Ini bukan inner product\"\n",
        "\n",
        "print(\"1\\n\")\n",
        "print(check_is_inner_product(func, v_1, v_1, v_1))\n",
        "print(\"2\\n\")\n",
        "print(check_is_inner_product(func_2, v_1, v_1, v_3))\n",
        "print(\"3\\n\")\n",
        "print(check_is_inner_product(func_3, v_4, v_5, v_4))\n",
        "print(\"4\\n\")\n",
        "print(check_is_inner_product(func_4, v_1, v_2, v_3))\n",
        "print(\"5\\n\")\n",
        "print(check_is_inner_product(func_5, v_1, v_2, v_3))"
      ],
      "metadata": {
        "colab": {
          "base_uri": "https://localhost:8080/"
        },
        "id": "bt2Bvi3AyjTH",
        "outputId": "8177bacd-97e1-436c-be90-511a15dbd8cf"
      },
      "execution_count": null,
      "outputs": [
        {
          "output_type": "stream",
          "name": "stdout",
          "text": [
            "1\n",
            "\n",
            "positive definite :  True\n",
            "simetry :  True\n",
            "linearity :  True\n",
            "Ini adalah inner product\n",
            "2\n",
            "\n",
            "positive definite :  False\n",
            "simetry :  True\n",
            "linearity :  True\n",
            "Ini bukan inner product\n",
            "3\n",
            "\n",
            "positive definite :  True\n",
            "simetry :  True\n",
            "linearity :  True\n",
            "Ini adalah inner product\n",
            "4\n",
            "\n",
            "positive definite :  True\n",
            "simetry :  True\n",
            "linearity :  False\n",
            "Ini bukan inner product\n",
            "5\n",
            "\n",
            "positive definite :  False\n",
            "simetry :  False\n",
            "linearity :  True\n",
            "Ini bukan inner product\n"
          ]
        }
      ]
    },
    {
      "cell_type": "markdown",
      "source": [
        "kesimpulan berdasarkan penjelasan dan beberapa latihan diatas, jadii inner product sebuah fungsi yang menerima dua parameter (vektor) yang harus memenuhi syarat 1. positif definite dimana output harus >= 0 dan jika output 0 maka input harus vektor 0, kemudian yang kedua adalah simetry, dan yang ketiga adalah linearitas pada parameter pertama dimana left = f(a * u1 + b * u2, v) harus sama dengan right = a * f(u1, v) + b * f(u2, v)"
      ],
      "metadata": {
        "id": "_EXON2qnHkg2"
      }
    },
    {
      "cell_type": "markdown",
      "source": [
        "Inner Product as Norm\n",
        "\n",
        "|x| = √< x, x >"
      ],
      "metadata": {
        "id": "mNvBTfnZkjzo"
      }
    },
    {
      "cell_type": "code",
      "source": [
        "\n",
        "from math import sqrt\n",
        "\n",
        "def norm_IP(v):\n",
        "    return sqrt(func_1(v, v))\n",
        "\n",
        "norm_IP(np.array([1, 2]))"
      ],
      "metadata": {
        "colab": {
          "base_uri": "https://localhost:8080/"
        },
        "id": "Bz8Zajfyk3oQ",
        "outputId": "fe7d2d48-dac4-4768-c6d2-b428f855c9e9"
      },
      "execution_count": null,
      "outputs": [
        {
          "output_type": "execute_result",
          "data": {
            "text/plain": [
              "3.0"
            ]
          },
          "metadata": {},
          "execution_count": 2
        }
      ]
    },
    {
      "cell_type": "markdown",
      "source": [
        "***N.Ortoghonal dan Ortonormal***\n",
        "\n",
        "Ortoghonal adalah 2 buah vektor yang jika di kalikan (dot product) maka hasilnya 0\n",
        "\n",
        "sedangkan Ortonormal adalah vektor ortogonal yang norm nya 1"
      ],
      "metadata": {
        "id": "s7k3zRChlYrl"
      }
    },
    {
      "cell_type": "code",
      "source": [
        "from math import sqrt\n",
        "\n",
        "def norm(v):\n",
        "    return sqrt(sum(i**2 for i in v))\n",
        "\n",
        "def check_orto(u, v):\n",
        "    ortogonal = u @ v == 0\n",
        "    ortonormal = np.allclose(norm(u) + norm(v), 2)\n",
        "    print(\"Ortogonal : \", ortogonal)\n",
        "    print(\"Ortonormal : \", ortonormal)\n",
        "\n",
        "u1 = np.array([1, 2])\n",
        "v1 = np.array([2, -1])\n",
        "\n",
        "u2 = np.array([0, 3, 4])\n",
        "v2 = np.array([0, -4, 3])\n",
        "\n",
        "u3 = np.array([3/5, 4/5])\n",
        "v3 = np.array([4/5, -3/5])\n",
        "\n",
        "u4 = np.array([1, 2, 2])\n",
        "v4 = np.array([2, 1, -2])\n",
        "\n",
        "u5 = np.array([1, 0, 0])\n",
        "v5 = np.array([0, 1, 0])\n",
        "\n",
        "print(\"1.\")\n",
        "check_orto(u1, v1)\n",
        "print(\"2.\")\n",
        "check_orto(u2, v2)\n",
        "print(\"3.\")\n",
        "check_orto(u3, v3)\n",
        "print(\"4.\")\n",
        "check_orto(u4, v4)\n",
        "print(\"5.\")\n",
        "check_orto(u5, v5)"
      ],
      "metadata": {
        "colab": {
          "base_uri": "https://localhost:8080/"
        },
        "id": "lfTKCGkEmV7B",
        "outputId": "a55002f3-5586-40bb-81d9-5016a9a55c1c"
      },
      "execution_count": null,
      "outputs": [
        {
          "output_type": "stream",
          "name": "stdout",
          "text": [
            "1.\n",
            "Ortogonal :  True\n",
            "Ortonormal :  False\n",
            "2.\n",
            "Ortogonal :  True\n",
            "Ortonormal :  False\n",
            "3.\n",
            "Ortogonal :  True\n",
            "Ortonormal :  True\n",
            "4.\n",
            "Ortogonal :  True\n",
            "Ortonormal :  False\n",
            "5.\n",
            "Ortogonal :  True\n",
            "Ortonormal :  True\n"
          ]
        }
      ]
    },
    {
      "cell_type": "markdown",
      "source": [
        "[Pythagorean Theorem]\n",
        "\n",
        "Teorema Pythagoras yang terkenal secara alami dapat digeneralisasikan ke ruang produk dalam yang sewenang-wenang\n",
        "\n",
        "teorema 1 => jika x ⊥ y (ortogonal) maka || x + y ||² = ||x||² + ||y||²\n",
        "\n",
        "kemudian jika menggunakan norm inner product maka akan menghasil kan teorema dibawah ini\n",
        "\n",
        "||x + y||² = <x +y, x + y> = <x,x> + <x, y> + <y, x> + <y,y> = ||x||² + ||y||²"
      ],
      "metadata": {
        "id": "rI55y7Tsr56c"
      }
    },
    {
      "cell_type": "code",
      "source": [
        "# pembuktian\n",
        "import numpy as np\n",
        "from math import sqrt\n",
        "\n",
        "def norm(v):\n",
        "    return sqrt(sum(i**2 for i in v))\n",
        "\n",
        "x = np.array([1, 2, 2])\n",
        "y = np.array([2, 1, -2])\n",
        "\n",
        "np.allclose(norm(x + y)**2, norm(x)**2 + norm(y)**2)"
      ],
      "metadata": {
        "colab": {
          "base_uri": "https://localhost:8080/"
        },
        "id": "yFtehuKpsfLC",
        "outputId": "421b1a71-a390-47e3-f71f-6943e7446314"
      },
      "execution_count": null,
      "outputs": [
        {
          "output_type": "execute_result",
          "data": {
            "text/plain": [
              "True"
            ]
          },
          "metadata": {},
          "execution_count": 2
        }
      ]
    },
    {
      "cell_type": "markdown",
      "source": [
        "***O. Cauchy-Schwarz inequality***\n",
        "\n",
        "Nilai absolut dari hasil inner product dua vektor tidak pernah lebih besar dari hasil kali normanya.\n",
        "\n",
        "|<u, v>| <= ||u|| * ||v||"
      ],
      "metadata": {
        "id": "Azzu6gYJt1JR"
      }
    },
    {
      "cell_type": "code",
      "source": [
        "\n",
        "import numpy as np\n",
        "from math import sqrt\n",
        "\n",
        "def in_prod(v, w):\n",
        "    return sum(e * w[i] for i, e in enumerate(v))\n",
        "\n",
        "def norm(v):\n",
        "    return sqrt(sum(i**2 for i in v))\n",
        "\n",
        "u1, v1 = np.array([[1, 2], [2, 4]])\n",
        "u2, v2 = np.array([[1, -1], [3, 5]])\n",
        "u3, v3 = np.array([[2, 0, -1], [1, -1, 4]])\n",
        "u4, v4 = np.array([[1, 1, 1], [-1, -1, -1]])\n",
        "u5, v5 = np.array([[0, 1, 0], [1, 0, 0]])\n",
        "\n",
        "print(\"\\n\")\n",
        "print(\"1. \", abs(in_prod(u1, v1)), \" <= \", norm(u1) * norm(v1))\n",
        "print(\"2. \", abs(in_prod(u2, v2)), \" <= \", norm(u2) * norm(v2))\n",
        "print(\"3. \", abs(in_prod(u3, v3)), \" <= \", norm(u3) * norm(v3))\n",
        "print(\"4. \", abs(in_prod(u4, v4)), \" <= \", norm(u4) * norm(v4))\n",
        "print(\"5. \", abs(in_prod(u5, v5)), \" <= \", norm(u5) * norm(v5))"
      ],
      "metadata": {
        "colab": {
          "base_uri": "https://localhost:8080/"
        },
        "id": "K06vuu_JvQy1",
        "outputId": "e902e6bc-dfb9-4aa0-f242-d405b14af999"
      },
      "execution_count": null,
      "outputs": [
        {
          "output_type": "stream",
          "name": "stdout",
          "text": [
            "\n",
            "\n",
            "1.  10  <=  10.000000000000002\n",
            "2.  2  <=  8.246211251235321\n",
            "3.  2  <=  9.486832980505138\n",
            "4.  3  <=  2.9999999999999996\n",
            "5.  0  <=  1.0\n"
          ]
        }
      ]
    },
    {
      "cell_type": "markdown",
      "source": [
        "\n",
        "***P. Ortoghonal Complement***\n",
        "\n",
        "orthogonal complement itu memang bisa di anggap \"mirip dengan null space dari sistem dot product\", tapi inputnya adalah kumpulan vektor, bukan matrix eksplisit seperti pada null space.\n",
        "\n",
        "jadi tujuan dari ortoghonal complement adalah mencari vektor yang ortogonal terhadap semua subspace.\n",
        "\n",
        "input nya harus jadi satu subspace"
      ],
      "metadata": {
        "id": "bevaO7YT0a1u"
      }
    },
    {
      "cell_type": "code",
      "source": [
        "import numpy as np\n",
        "from scipy.linalg import null_space\n",
        "\n",
        "span = np.array([\n",
        "    [1,2,1],\n",
        "    [0,1,1]\n",
        "])\n",
        "\n",
        "print(null_space(span))"
      ],
      "metadata": {
        "colab": {
          "base_uri": "https://localhost:8080/"
        },
        "id": "7sXuFCws7-Y4",
        "outputId": "19d50d18-4eb9-496e-d591-63979fbc7347"
      },
      "execution_count": null,
      "outputs": [
        {
          "output_type": "stream",
          "name": "stdout",
          "text": [
            "[[ 0.57735027]\n",
            " [-0.57735027]\n",
            " [ 0.57735027]]\n"
          ]
        }
      ]
    },
    {
      "cell_type": "markdown",
      "source": [
        "***Q. Ortogonal Projection***\n",
        "\n",
        "jadiii intinya untuk proyeksi v ke vektor u atau vektor ke vektor tinggal kita subtitusikan aja ke rumusnya\n",
        "\n",
        "proj_u(v) => u @ v / u @ u * u\n",
        "\n",
        "\n",
        "sedangkan untuk proyeksi ke subspace maka subspace harus berisi vektor-vektor yang ortonormal\n",
        "\n",
        "rumusnya : sigma (v @ ui) * ui"
      ],
      "metadata": {
        "id": "5BVYtq7AQ3C9"
      }
    },
    {
      "cell_type": "code",
      "source": [
        "\n",
        "import numpy as np\n",
        "\n",
        "# proyeksi vektor v ke u\n",
        "def proj_u(u, v):\n",
        "    return (u @ v) / (u @ u) * u\n",
        "\n",
        "u = np.array([1, 2])\n",
        "v = np.array([2, 4])\n",
        "\n",
        "proj_u(u, v)\n",
        "\n",
        "# proyeksi vektor v ke subspace dengan basis ortonormal\n",
        "\n",
        "def proj_w(v, span):\n",
        "    return sum((v @ i) * i for i in span)\n",
        "\n",
        "v = np.array([1, 2, 3])\n",
        "\n",
        "span_ortonormal = np.array([\n",
        "    [0, 1, 1],\n",
        "    [1, 0, 0]\n",
        "])\n",
        "\n",
        "proj_w(v, span_ortonormal)"
      ],
      "metadata": {
        "colab": {
          "base_uri": "https://localhost:8080/"
        },
        "id": "hwM_aAtsROPB",
        "outputId": "25361178-4ce2-473c-a974-51497a4471ed"
      },
      "execution_count": null,
      "outputs": [
        {
          "output_type": "execute_result",
          "data": {
            "text/plain": [
              "array([1, 5, 5])"
            ]
          },
          "metadata": {},
          "execution_count": 12
        }
      ]
    },
    {
      "cell_type": "markdown",
      "source": [
        "Dekomposisi Ortogonal\n",
        "\n",
        "vt = v - vs"
      ],
      "metadata": {
        "id": "wEaPJ_oYc0Yc"
      }
    },
    {
      "cell_type": "code",
      "source": [
        "def ortogonal_dec(v, span):\n",
        "    return v - proj_w(v, span)\n",
        "\n",
        "v = np.array([1, 2, 3])\n",
        "\n",
        "span_ortonormal = np.array([\n",
        "    [1, 0, 0],\n",
        "    [0, 1, 0]\n",
        "])\n",
        "\n",
        "ortogonal_dec(v, span_ortonormal)"
      ],
      "metadata": {
        "colab": {
          "base_uri": "https://localhost:8080/"
        },
        "id": "5chOy6EZfM-s",
        "outputId": "1f104a2f-afa7-41a4-d6d6-5b10b1763d07"
      },
      "execution_count": null,
      "outputs": [
        {
          "output_type": "execute_result",
          "data": {
            "text/plain": [
              "array([0, 0, 3])"
            ]
          },
          "metadata": {},
          "execution_count": 8
        }
      ]
    },
    {
      "cell_type": "markdown",
      "source": [
        "Proposition\n",
        "\n",
        "(i) Rumus proyeksi ortogonal ke subspace\n",
        "\n",
        "Ps(v) = sigma <v, si> * si\n",
        "\n",
        "subspace harus basis ortonormal"
      ],
      "metadata": {
        "id": "WedFtyS18wbM"
      }
    },
    {
      "cell_type": "code",
      "source": [
        "\n",
        "import numpy as np\n",
        "\n",
        "# menentukan ortogonal lebih dari 2 vektor\n",
        "def is_ortogonal(vectors):\n",
        "    length = len(vectors)\n",
        "    for index, vector in enumerate(vectors):\n",
        "        for v in range(index, length):\n",
        "            if index == v: continue\n",
        "            ortogonal = np.allclose(vector @ vectors[v], 0)\n",
        "            if not ortogonal: return False\n",
        "    return True\n",
        "\n",
        "def is_ortonormal(vectors):\n",
        "    for v in vectors:\n",
        "        ortonormal = np.allclose(np.linalg.norm(v), 1)\n",
        "        if not ortonormal: return False\n",
        "    return True\n",
        "\n",
        "def gram_schmidt(vectors):\n",
        "    ortogonals = []\n",
        "    for v in vectors:\n",
        "        w = v.copy()\n",
        "        for u in ortogonals:\n",
        "            proj = (u @ w) / (u @ u) * u\n",
        "            w = w - proj\n",
        "        if np.linalg.norm(w) > 1e-10:\n",
        "            ortogonals.append(w / np.linalg.norm(w))\n",
        "    return np.array(ortogonals)\n",
        "\n",
        "def proj(v, s):\n",
        "    if not (is_ortogonal(s) and is_ortonormal(s)):\n",
        "        s = gram_schmidt(s)\n",
        "    return sum((v @ si) * si for si in s)\n",
        "\n",
        "# subspace harus ortonormal basis\n",
        "S = np.array([[1, 0, 0], [0, 1, 0]])\n",
        "v = np.array([2, 5, 3])\n",
        "\n",
        "proj(v, S)"
      ],
      "metadata": {
        "colab": {
          "base_uri": "https://localhost:8080/"
        },
        "id": "yzy8mQJPAWtW",
        "outputId": "a66b1cc6-a478-44b4-e100-dacdc3f3f0d8"
      },
      "execution_count": null,
      "outputs": [
        {
          "output_type": "execute_result",
          "data": {
            "text/plain": [
              "array([2, 5, 0])"
            ]
          },
          "metadata": {},
          "execution_count": 3
        }
      ]
    },
    {
      "cell_type": "markdown",
      "source": [
        "(ii) Selisih antara vektor dan hasil proyeksi akan selalu ortogonal dengan Subruang nya"
      ],
      "metadata": {
        "id": "W7d7cMLzIQnj"
      }
    },
    {
      "cell_type": "code",
      "source": [
        "# Pembuktian\n",
        "\n",
        "selisih = v - proj(v, S)\n",
        "\n",
        "for v in S:\n",
        "    print(\"Ortogonal : \", is_ortogonal(np.array([selisih, v])))"
      ],
      "metadata": {
        "colab": {
          "base_uri": "https://localhost:8080/"
        },
        "id": "Bx9lUoOoJbJg",
        "outputId": "97015118-7aac-4c09-cc2a-19b60dc1be33"
      },
      "execution_count": null,
      "outputs": [
        {
          "output_type": "stream",
          "name": "stdout",
          "text": [
            "Ortogonal :  True\n",
            "Ortogonal :  True\n"
          ]
        }
      ]
    },
    {
      "cell_type": "markdown",
      "source": [
        "(iii) proyeksi ke subruang adalah pemetaan linear\n",
        "\n",
        "Ps(a.v + b.v) = a.Ps(a) + b.Ps(b)"
      ],
      "metadata": {
        "id": "L_tTsXzYKGr8"
      }
    },
    {
      "cell_type": "code",
      "source": [
        "# Pembuktian\n",
        "\n",
        "v = np.array([1, 2, 1])\n",
        "\n",
        "print(np.allclose(proj(2 * v + 3 * v, S), 2 * proj(v, S) + 3 * proj(v, S)))"
      ],
      "metadata": {
        "colab": {
          "base_uri": "https://localhost:8080/"
        },
        "id": "IZyHk4XGKa8Q",
        "outputId": "38754be5-e6c0-4491-e8ec-72956c66a0cc"
      },
      "execution_count": null,
      "outputs": [
        {
          "output_type": "stream",
          "name": "stdout",
          "text": [
            "True\n"
          ]
        }
      ]
    },
    {
      "cell_type": "markdown",
      "source": [
        "(iv) identitas didalam subspace\n",
        "\n",
        "Ps(s) = s"
      ],
      "metadata": {
        "id": "ZTf6SLfaNP7a"
      }
    },
    {
      "cell_type": "code",
      "source": [
        "# Pembuktian\n",
        "\n",
        "print(np.allclose(proj(S[1], S), S[1]))"
      ],
      "metadata": {
        "colab": {
          "base_uri": "https://localhost:8080/"
        },
        "id": "PUyit3OtNsqT",
        "outputId": "3691e3d4-46de-498e-c5de-77ae540ceb47"
      },
      "execution_count": null,
      "outputs": [
        {
          "output_type": "stream",
          "name": "stdout",
          "text": [
            "True\n"
          ]
        }
      ]
    },
    {
      "cell_type": "markdown",
      "source": [
        "(v)\n",
        "\n",
        "1.Range(Ps) = S => hasil dari proyeksi akan berada di subspace S\n",
        "\n",
        "2. null(Ps) = Ortogonal Complement of S"
      ],
      "metadata": {
        "id": "a6PpK16iN_8-"
      }
    },
    {
      "cell_type": "code",
      "source": [
        "# Pembuktian 1\n",
        "\n",
        "def is_in_subspace(vectors, target):\n",
        "    A = np.column_stack(vectors)\n",
        "    print(A)\n",
        "    try:\n",
        "        x = np.linalg.lstsq(A, target, rcond=None)[0]\n",
        "        return np.allclose(A @ x, target)\n",
        "    except:\n",
        "        return False\n",
        "\n",
        "def range_matrix_2(M):\n",
        "    REF = row_echelon(M)\n",
        "    pivot_cols = []\n",
        "\n",
        "    for row in REF:\n",
        "        for i, val in enumerate(row):\n",
        "            if abs(val) > 1e-8:  # toleransi float\n",
        "                if i not in pivot_cols:\n",
        "                    pivot_cols.append(i)\n",
        "                break\n",
        "\n",
        "    return [M[:, i] for i in pivot_cols]\n",
        "\n",
        "V = np.array([\n",
        "    [1, 2, 3],\n",
        "    [4, 5, 6]\n",
        "])\n",
        "\n",
        "S = np.array([\n",
        "    [1, 1, 0],\n",
        "    [1, -1, 0]\n",
        "])\n",
        "\n",
        "proj_result = []\n",
        "\n",
        "for v in V:\n",
        "    proj_result.append(proj(v, S))\n",
        "\n",
        "print(proj_result)\n",
        "print(np.array(proj_result).T)\n",
        "\n",
        "result = range_matrix_2(np.array(proj_result).T)\n",
        "\n",
        "print(result)\n",
        "print(is_in_subspace(S, result[1]))\n",
        "\n",
        "# Pembuktian 2\n",
        "from scipy.linalg import null_space\n",
        "\n",
        "print(null_space(np.array(proj_result)))\n",
        "print(null_space(S))"
      ],
      "metadata": {
        "colab": {
          "base_uri": "https://localhost:8080/"
        },
        "id": "3SAmD_fTSbY7",
        "outputId": "a40d2651-1f05-4f8e-c3e8-c3b4d064c4f4"
      },
      "execution_count": null,
      "outputs": [
        {
          "output_type": "stream",
          "name": "stdout",
          "text": [
            "[array([1., 2., 0.]), array([4., 5., 0.])]\n",
            "[[1. 4.]\n",
            " [2. 5.]\n",
            " [0. 0.]]\n",
            "[array([1., 2., 0.]), array([4., 5., 0.])]\n",
            "[[ 1  1]\n",
            " [ 1 -1]\n",
            " [ 0  0]]\n",
            "True\n",
            "[[0.]\n",
            " [0.]\n",
            " [1.]]\n",
            "[[0.]\n",
            " [0.]\n",
            " [1.]]\n"
          ]
        }
      ]
    },
    {
      "cell_type": "markdown",
      "source": [
        "(vi) Ps² = Ps\n",
        "\n",
        "artinya proyeksi itu idempotent"
      ],
      "metadata": {
        "id": "sF8uVA25XQDG"
      }
    },
    {
      "cell_type": "code",
      "source": [
        "# Pembuktian\n",
        "\n",
        "print(proj(proj(v, S), S))\n",
        "print(proj(v, S))"
      ],
      "metadata": {
        "colab": {
          "base_uri": "https://localhost:8080/"
        },
        "id": "hPmoWOAFXiHg",
        "outputId": "340f36af-dd37-4a40-b101-fec54a5da59d"
      },
      "execution_count": null,
      "outputs": [
        {
          "output_type": "stream",
          "name": "stdout",
          "text": [
            "[2.96147404 2.75963149 3.34757119]\n",
            "[2.96147404 2.75963149 3.34757119]\n"
          ]
        }
      ]
    },
    {
      "cell_type": "markdown",
      "source": [
        "(vii) norma proyeksi lebih kecil dari norma v"
      ],
      "metadata": {
        "id": "TYQFP_EpX7dc"
      }
    },
    {
      "cell_type": "code",
      "source": [
        "# Pembuktian\n",
        "\n",
        "np.linalg.norm(proj(v, S)) <= np.linalg.norm(v)"
      ],
      "metadata": {
        "colab": {
          "base_uri": "https://localhost:8080/"
        },
        "id": "tFLmkvyEYHIj",
        "outputId": "5bef0250-2c5c-4d27-f072-f3805ee04653"
      },
      "execution_count": null,
      "outputs": [
        {
          "output_type": "execute_result",
          "data": {
            "text/plain": [
              "np.True_"
            ]
          },
          "metadata": {},
          "execution_count": 4
        }
      ]
    },
    {
      "cell_type": "markdown",
      "source": [
        "(viii) Proyeksi = Pendekatan terbaik\n",
        "\n",
        "||v - Psv|| <= ||v - si||"
      ],
      "metadata": {
        "id": "BwjnRkWRYW3M"
      }
    },
    {
      "cell_type": "code",
      "source": [
        "Psv_norm = np.linalg.norm(v - proj(v, S))\n",
        "\n",
        "for i in S:\n",
        "    print(Psv_norm <= np.linalg.norm(v - i))"
      ],
      "metadata": {
        "colab": {
          "base_uri": "https://localhost:8080/"
        },
        "id": "BNsZNszUYwzn",
        "outputId": "92ce6278-59b3-4bc1-c7ca-885e3ccbb5d2"
      },
      "execution_count": null,
      "outputs": [
        {
          "output_type": "stream",
          "name": "stdout",
          "text": [
            "True\n",
            "True\n"
          ]
        }
      ]
    },
    {
      "cell_type": "markdown",
      "source": [
        "(ix) PsV = UU^Tv\n",
        "\n",
        "Proyeksi vektor ke matriks juga bisa dirumuskan dengan cara mengubah subspace S menjadi kolom2 matriks kemudian dikalikan dengan hasil transpose nya lalu dikalikan dengan vektor yang akan di proyeksikan."
      ],
      "metadata": {
        "id": "NCd6ObmXwlqX"
      }
    },
    {
      "cell_type": "code",
      "source": [
        "print(proj(v, S))\n",
        "matrics = np.column_stack(S)\n",
        "print(matrics @ matrics.T @ v)"
      ],
      "metadata": {
        "colab": {
          "base_uri": "https://localhost:8080/"
        },
        "id": "R3R15M0BwwtJ",
        "outputId": "8e9e64fc-353b-4aed-9982-b1087ef75e0c"
      },
      "execution_count": null,
      "outputs": [
        {
          "output_type": "stream",
          "name": "stdout",
          "text": [
            "[2 5 0]\n",
            "[2 5 0]\n"
          ]
        }
      ]
    },
    {
      "cell_type": "code",
      "source": [
        "pip install matplotlib"
      ],
      "metadata": {
        "colab": {
          "base_uri": "https://localhost:8080/"
        },
        "id": "xMDKQmO90wft",
        "outputId": "774f4875-e552-496a-8d8d-3a9304212465"
      },
      "execution_count": null,
      "outputs": [
        {
          "output_type": "stream",
          "name": "stdout",
          "text": [
            "Requirement already satisfied: matplotlib in /usr/local/lib/python3.11/dist-packages (3.10.0)\n",
            "Requirement already satisfied: contourpy>=1.0.1 in /usr/local/lib/python3.11/dist-packages (from matplotlib) (1.3.2)\n",
            "Requirement already satisfied: cycler>=0.10 in /usr/local/lib/python3.11/dist-packages (from matplotlib) (0.12.1)\n",
            "Requirement already satisfied: fonttools>=4.22.0 in /usr/local/lib/python3.11/dist-packages (from matplotlib) (4.58.4)\n",
            "Requirement already satisfied: kiwisolver>=1.3.1 in /usr/local/lib/python3.11/dist-packages (from matplotlib) (1.4.8)\n",
            "Requirement already satisfied: numpy>=1.23 in /usr/local/lib/python3.11/dist-packages (from matplotlib) (2.0.2)\n",
            "Requirement already satisfied: packaging>=20.0 in /usr/local/lib/python3.11/dist-packages (from matplotlib) (24.2)\n",
            "Requirement already satisfied: pillow>=8 in /usr/local/lib/python3.11/dist-packages (from matplotlib) (11.2.1)\n",
            "Requirement already satisfied: pyparsing>=2.3.1 in /usr/local/lib/python3.11/dist-packages (from matplotlib) (3.2.3)\n",
            "Requirement already satisfied: python-dateutil>=2.7 in /usr/local/lib/python3.11/dist-packages (from matplotlib) (2.9.0.post0)\n",
            "Requirement already satisfied: six>=1.5 in /usr/local/lib/python3.11/dist-packages (from python-dateutil>=2.7->matplotlib) (1.17.0)\n"
          ]
        }
      ]
    },
    {
      "cell_type": "code",
      "source": [
        "\n",
        "import numpy as np\n",
        "import matplotlib.pyplot as plt\n",
        "\n",
        "# Vektor yang ingin diproyeksikan\n",
        "v = np.array([3, 2])\n",
        "\n",
        "# Basis subspace S\n",
        "u = np.array([2, 1])\n",
        "\n",
        "# Hitung proyeksi v ke arah u (jika u belum ortonormal)\n",
        "proj_v = (np.dot(v, u) / np.dot(u, u)) * u\n",
        "\n",
        "# Buat plot\n",
        "plt.figure(figsize=(6, 6))\n",
        "plt.axhline(0, color='gray', linewidth=0.5)\n",
        "plt.axvline(0, color='gray', linewidth=0.5)\n",
        "\n",
        "# Plot vektor asli\n",
        "plt.quiver(0, 0, *v, color='red', scale=1, scale_units='xy', angles='xy', label='v')\n",
        "# Plot basis u\n",
        "plt.quiver(0, 0, *u, color='blue', scale=1, scale_units='xy', angles='xy', label='u (subspace)')\n",
        "# Plot hasil proyeksi\n",
        "plt.quiver(0, 0, *proj_v, color='green', scale=1, scale_units='xy', angles='xy', label='proj_v')\n",
        "\n",
        "# Gambar garis bantu dari proyeksi ke v\n",
        "plt.plot([proj_v[0], v[0]], [proj_v[1], v[1]], 'k--', label='v - proj_v')\n",
        "\n",
        "plt.xlim(-1, 5)\n",
        "plt.ylim(-1, 5)\n",
        "plt.gca().set_aspect('equal')\n",
        "plt.grid(True)\n",
        "plt.legend()\n",
        "plt.title(\"Visualisasi Proyeksi Ortogonal v ke Subspace u\")\n",
        "plt.show()"
      ],
      "metadata": {
        "colab": {
          "base_uri": "https://localhost:8080/",
          "height": 530
        },
        "id": "KEpyFtHp015Y",
        "outputId": "66fa2284-6e1d-4eea-e626-6dce75a53b4a"
      },
      "execution_count": null,
      "outputs": [
        {
          "output_type": "display_data",
          "data": {
            "text/plain": [
              "<Figure size 600x600 with 1 Axes>"
            ],
            "image/png": "[encoded data removed]"
          },
          "metadata": {}
        }
      ]
    },
    {
      "cell_type": "markdown",
      "source": [
        "***R. Gram Schmidt***\n",
        "\n",
        "Gram-Schmidt adalah proses untuk mengubah sekumpulan vektor yang linier independen menjadi sekumpulan vektor yang:\n",
        "\n",
        "Ortogonal satu sama lain\n",
        "\n",
        "Kemudian dinormalisasi supaya panjangnya = 1 → menjadi ortonormal\n",
        "\n",
        "note: jika hanya 1 vektor maka cukup lakukan v / norm(v) tidak perlu menggunakan gram-schmidt\n",
        "\n",
        "\n",
        "rumus sederhana gram-schmidt adalah\n",
        "\n",
        "misal input v1, v2, v3\n",
        "\n",
        "cari u1 dengan u1 / norm(u1)\n",
        "\n",
        "nahh lalu untuk langkah selanjutnya proyeksikan v2 ke u1, lalu u2 = v2 - proyeksi(u1, v2), lalu normalisasikan u2 / norm(u2)\n",
        "\n",
        "lalu selanjutnya proyeksikan v3 ke u1 dan u2 lalu kurang kan u3 = v3 - proyeksi(u1, v3) - proyeksi(u2, v3) lalu normalisasikan u3 / norm(u3)\n",
        "\n",
        "jika lebih dari ini maka lakukan langkah yang sama."
      ],
      "metadata": {
        "id": "Zfk1o4zCgKEn"
      }
    },
    {
      "cell_type": "code",
      "source": [
        "\n",
        "import numpy as np\n",
        "from math import sqrt\n",
        "\n",
        "def check_orto(u, v):\n",
        "    ortogonal = np.allclose(u @ v, 0)\n",
        "    ortonormal = np.allclose(norm(u) + norm(v), 2)\n",
        "    print(\"Ortogonal : \", ortogonal)\n",
        "    print(\"Ortonormal : \", ortonormal)\n",
        "\n",
        "def norm(v):\n",
        "    return sqrt(sum(i**2 for i in v))\n",
        "\n",
        "def gram_schmidt(v1, v2):\n",
        "    u1 = v1\n",
        "    norm_u1 = norm(u1)\n",
        "    p_v2 = proj_u(u1 / norm_u1, v2)\n",
        "    u2 = v2 - p_v2\n",
        "    norm_u2 = norm(u2)\n",
        "\n",
        "    return u1 / norm_u1, u2 / norm_u2\n",
        "\n",
        "print(\"GRAM SCHMIDT\")\n",
        "u1, v1 = gram_schmidt(np.array([1, 2, 2]), np.array([2, 0, 2]))\n",
        "print(\"1. \", u1, v1)\n",
        "u2, v2 = gram_schmidt(np.array([1, 0, 1]), np.array([1, 1, 1]))\n",
        "print(\"2. \", u2, v2)\n",
        "u3, v3 = gram_schmidt(np.array([3, 1]), np.array([2, 2]))\n",
        "print(\"3. \", u3, v3)\n",
        "check_orto(u1, v1)\n",
        "check_orto(u2, v2)\n",
        "check_orto(u3, v3)"
      ],
      "metadata": {
        "colab": {
          "base_uri": "https://localhost:8080/"
        },
        "id": "B66qT21UgM5R",
        "outputId": "d4af4fca-5886-48cc-ade4-281782a2341d"
      },
      "execution_count": null,
      "outputs": [
        {
          "output_type": "stream",
          "name": "stdout",
          "text": [
            "GRAM SCHMIDT\n",
            "1.  [0.33333333 0.66666667 0.66666667] [ 0.66666667 -0.66666667  0.33333333]\n",
            "2.  [0.70710678 0.         0.70710678] [0. 1. 0.]\n",
            "3.  [0.9486833  0.31622777] [-0.31622777  0.9486833 ]\n",
            "Ortogonal :  True\n",
            "Ortonormal :  True\n",
            "Ortogonal :  True\n",
            "Ortonormal :  True\n",
            "Ortogonal :  True\n",
            "Ortonormal :  True\n"
          ]
        }
      ]
    },
    {
      "cell_type": "code",
      "source": [
        "\n",
        "import numpy as np\n",
        "\n",
        "def gram_schmidt_2(vectors):\n",
        "    ortogonals = []\n",
        "    for v in vectors:\n",
        "        w = v.copy()\n",
        "        for u in ortogonals:\n",
        "            print(u)\n",
        "            proj = (u @ w) / (u @ u) * u\n",
        "            w = w - proj\n",
        "        if np.linalg.norm(w) > 1e-10:\n",
        "            ortogonals.append(w / np.linalg.norm(w))\n",
        "    return np.array(ortogonals)\n",
        "\n",
        "u1, v1 = gram_schmidt_2(np.array([[3, 1], [2, 2]]))\n",
        "print(u1, v1)\n",
        "check_orto(u1, v1)"
      ],
      "metadata": {
        "colab": {
          "base_uri": "https://localhost:8080/"
        },
        "id": "-6V1Za64pom4",
        "outputId": "5602aae3-e31b-404b-94a0-d5264806bffa"
      },
      "execution_count": null,
      "outputs": [
        {
          "output_type": "stream",
          "name": "stdout",
          "text": [
            "[0.9486833  0.31622777]\n",
            "[0.9486833  0.31622777] [-0.31622777  0.9486833 ]\n",
            "Ortogonal :  True\n",
            "Ortonormal :  True\n"
          ]
        }
      ]
    },
    {
      "cell_type": "markdown",
      "source": [
        "***S. EigenThings***\n",
        "\n",
        "Eigen Values dan Eigen Vektor\n",
        "\n",
        "rumus nya adalah determinan(A - Lambda * matriks identitas) = 0\n",
        "\n",
        "lalu faktorisasikan persamaannya untuk mencari eigen value\n",
        "\n",
        "jika eigen value sudah ketemu subtitusikan ke (A - eigenvalue) * eigenvektor = 0, selesaikan persamaan untuk mencari eigen vektor\n",
        "\n",
        "note : eigen vektor tidak boleh vektor 0\n",
        "\n",
        "contoh :\n",
        "\n",
        "diberikan matriks\n",
        "\n",
        "[1, 3]\n",
        "\n",
        "[5, 7]\n",
        "\n",
        "kita kurangkan dengan lambda dikali identitas\n",
        "\n",
        "[1 - lambda, 3]\n",
        "\n",
        "[5, 7 - lambda]\n",
        "\n",
        "lakukan determinasi\n",
        "\n",
        "a * d + b * c (untuk 2x2 matriks)\n",
        "\n",
        "(1 - lambda)(7 - lambda) - 15\n",
        "\n",
        "=> 7 - 7lambda - 1lambda + lambda² - 15\n",
        "\n",
        "=> lambda² - 8lambda - 8\n",
        "\n",
        "=> faktorkan pakai rumus kuadratic\n",
        "\n",
        "=> maka ketemu eigen valuenya 8, 898 dan - 0, 898\n",
        "\n",
        "lalu subtitusi\n",
        "\n",
        "untuk lambda = 8,898\n",
        "\n",
        "(A - 8,898 * identitas) * eigenvektor = 0\n",
        "\n",
        "[1, 3] - [8,898, 0] = [-7,898, 3] * [x] = 0\n",
        "\n",
        "[5, 7]   [0, 8,898]   [5, -1,898]   [y]\n",
        "\n",
        "-7,898x + 3y = 0\n",
        "\n",
        "selesaikan persamaanya, v != 0\n",
        "\n",
        "untuk lambda = - 0, 898\n",
        "\n",
        "(A - ( - 0,898 * identitas )) * eigenvektor = 0\n",
        "\n",
        "lakukan sama seperti diatasnya."
      ],
      "metadata": {
        "id": "sH-sLXm41pBo"
      }
    },
    {
      "cell_type": "code",
      "source": [
        "\n",
        "import numpy as np\n",
        "from math import sqrt\n",
        "\n",
        "Matrix_1 = np.array([\n",
        "    [1, 3],\n",
        "    [5, 7]\n",
        "])\n",
        "\n",
        "Matrix_2 = np.array([\n",
        "    1, 2\n",
        "])\n",
        "\n",
        "# pakai numpy\n",
        "eigen_value, eigen_vector = np.linalg.eig(Matrix_1)\n",
        "\n",
        "# Ax = lambda x\n",
        "print(Matrix_1 @ eigen_vector)\n",
        "print(eigen_value * eigen_vector)\n",
        "print(eigen_value)\n",
        "\n",
        "Matrix_1 + Matrix_2"
      ],
      "metadata": {
        "colab": {
          "base_uri": "https://localhost:8080/"
        },
        "id": "AcEQgRZp9lcT",
        "outputId": "49287492-398c-493f-ee16-c8e7a5e894cd"
      },
      "execution_count": null,
      "outputs": [
        {
          "output_type": "stream",
          "name": "stdout",
          "text": [
            "[[ 0.75959179 -3.15959179]\n",
            " [-0.48081641 -8.31918359]]\n",
            "[[ 0.75959179 -3.15959179]\n",
            " [-0.48081641 -8.31918359]]\n",
            "[-0.89897949  8.89897949]\n"
          ]
        },
        {
          "output_type": "execute_result",
          "data": {
            "text/plain": [
              "array([[2, 5],\n",
              "       [6, 9]])"
            ]
          },
          "metadata": {},
          "execution_count": 31
        }
      ]
    },
    {
      "cell_type": "markdown",
      "source": [
        "**NOTE : PERKALIAN DOT PRODUCT \"@\" ADALAH MENGALIKAN BARIS DENGAN KOLOM SEDANGKAN PERKALIAN BIASA \"×\" ADALAH PERKALIAN GARIS LURUS**"
      ],
      "metadata": {
        "id": "bdZGWOysCasv"
      }
    },
    {
      "cell_type": "markdown",
      "source": [
        "**Proposition**\n",
        "\n",
        "(i) Jika matrix A ditambah skalar Y*I, maka nilai eigen ditambah juga dan eigen vector tetep sama\n",
        "\n",
        "A + Y  = lambda + Y\n",
        "\n",
        "(A + YI)x = Ax + YIx = lambda*x + Yx = (lambda + Y)x"
      ],
      "metadata": {
        "id": "3qBaeuU0FczT"
      }
    },
    {
      "cell_type": "code",
      "source": [
        "# Pembuktian\n",
        "\n",
        "import numpy as np\n",
        "\n",
        "A = np.array([\n",
        "    [1, 2],\n",
        "    [2, 1]\n",
        "])\n",
        "\n",
        "I = np.identity(2)\n",
        "Y = 5\n",
        "eval, evec = np.linalg.eig(A)\n",
        "\n",
        "x = evec[0]\n",
        "e = eval[0]\n",
        "f = eval[1]\n",
        "\n",
        "one = (A + Y*I)*x\n",
        "two = A*x + Y*I*x\n",
        "three = e * x + Y * x\n",
        "four = (e + Y)*x\n",
        "\n",
        "print(\"1.\", one, \"\\n2. \", two,\"\\n3. \", three, \"\\n4. \", four)\n",
        "\n",
        "print(\"=========\")\n",
        "print(np.linalg.eig(A + Y*I))\n",
        "print(np.linalg.eig(A))\n",
        "print(e + Y, f + Y)"
      ],
      "metadata": {
        "colab": {
          "base_uri": "https://localhost:8080/"
        },
        "id": "uiCIl1ptGWAh",
        "outputId": "5ea93a1e-5cda-4ec0-d60c-22ac2cd13500"
      },
      "execution_count": null,
      "outputs": [
        {
          "output_type": "stream",
          "name": "stdout",
          "text": [
            "1. [[ 4.24264069 -1.41421356]\n",
            " [ 1.41421356 -4.24264069]] \n",
            "2.  [[ 4.24264069 -1.41421356]\n",
            " [ 1.41421356 -4.24264069]] \n",
            "3.  [ 5.65685425 -5.65685425] \n",
            "4.  [ 5.65685425 -5.65685425]\n",
            "=========\n",
            "EigResult(eigenvalues=array([8., 4.]), eigenvectors=array([[ 0.70710678, -0.70710678],\n",
            "       [ 0.70710678,  0.70710678]]))\n",
            "EigResult(eigenvalues=array([ 3., -1.]), eigenvectors=array([[ 0.70710678, -0.70710678],\n",
            "       [ 0.70710678,  0.70710678]]))\n",
            "8.0 4.0\n"
          ]
        }
      ]
    },
    {
      "cell_type": "code",
      "source": [
        "\n",
        "# INVERS MATRIX 2 × 2\n",
        "# pakai numpy\n",
        "print(np.linalg.inv(A))\n",
        "\n",
        "'''\n",
        "Syarat matriks invers\n",
        "1. Persegi n × n\n",
        "2. determinan != 0\n",
        "3. cek matriks rank\n",
        "'''\n",
        "\n",
        "# rumus manual\n",
        "# 1 / det(A) * [[d, -b], [-c, a]]\n",
        "\n",
        "inv = np.array([\n",
        "    [A[1,1], -A[0,1]],\n",
        "    [-A[1,0], A[0,0]]\n",
        "])\n",
        "\n",
        "1/(A[0,0] * A[1,1] - A[0, 1] * A[1, 0]) * inv\n",
        "\n",
        "# perpangkatan matriks\n",
        "'''\n",
        "jika matriks persegi maka kita kalikan matriks dengan matriks itu sendiri sebanyak\n",
        "banyaknya pangkat, nah jika pangkat negatif maka invers terlebih dahulu matriksnya baru\n",
        "dikali sebanyak pangkatnya, jika pangkat 0 maka kembalikan matriks identitas berukuran matriks itu\n",
        "\n",
        "'''\n",
        "\n",
        "def mp(A, power):\n",
        "    if power < 0:\n",
        "        inv = np.array([\n",
        "            [A[1,1], -A[0,1]],\n",
        "            [-A[1,0], A[0,0]]\n",
        "        ])\n",
        "\n",
        "        A = 1/(A[0,0] * A[1,1] - A[0, 1] * A[1, 0]) * inv\n",
        "    elif power == 0:\n",
        "        a, b = A.shape\n",
        "        return np.identity(a)\n",
        "\n",
        "    temp = A.copy()\n",
        "    for i in range(abs(power) - 1):\n",
        "        A = A @ temp\n",
        "\n",
        "    return A\n",
        "\n",
        "mp(A, 1)"
      ],
      "metadata": {
        "colab": {
          "base_uri": "https://localhost:8080/"
        },
        "id": "wi75Wf7ONuGN",
        "outputId": "81848af8-094d-4acb-db08-47bff21b79b2"
      },
      "execution_count": null,
      "outputs": [
        {
          "output_type": "stream",
          "name": "stdout",
          "text": [
            "[[-0.33333333  0.66666667]\n",
            " [ 0.66666667 -0.33333333]]\n"
          ]
        },
        {
          "output_type": "execute_result",
          "data": {
            "text/plain": [
              "array([[1, 2],\n",
              "       [2, 1]])"
            ]
          },
          "metadata": {},
          "execution_count": 102
        }
      ]
    },
    {
      "cell_type": "markdown",
      "source": [
        "(ii) Jika matriks A di invers (matriks A invertable.) maka eigen vektor nya tetap tetapi, eigen value nya menjadi kebalikannya (1/lambda)"
      ],
      "metadata": {
        "id": "dbiHlNvOND17"
      }
    },
    {
      "cell_type": "code",
      "source": [
        "# Pembuktian\n",
        "\n",
        "A = np.array([\n",
        "    [1, 4],\n",
        "    [4, 5]\n",
        "])\n",
        "\n",
        "A_inv = np.linalg.inv(A)\n",
        "\n",
        "eigen_value, eigen_vector = np.linalg.eig(A)\n",
        "eigen_value_inv, eigen_vector_inv = np.linalg.eig(A_inv)\n",
        "\n",
        "x, y = eigen_value\n",
        "x_inv, y_inv = eigen_value_inv\n",
        "\n",
        "u, v = eigen_vector\n",
        "u_inv, v_inv = eigen_vector_inv\n",
        "\n",
        "print(np.allclose(x_inv, 1/x))\n",
        "print(np.allclose(eigen_vector, eigen_vector_inv))"
      ],
      "metadata": {
        "colab": {
          "base_uri": "https://localhost:8080/"
        },
        "id": "hBujZph4RgzT",
        "outputId": "c49b146b-2415-4089-aa62-7c49bd84757b"
      },
      "execution_count": null,
      "outputs": [
        {
          "output_type": "stream",
          "name": "stdout",
          "text": [
            "True\n",
            "True\n"
          ]
        }
      ]
    },
    {
      "cell_type": "markdown",
      "source": [
        "(iii) Jika matriks A dipangkatkan maka eigenvalue nya juga ikut dipangkatkan"
      ],
      "metadata": {
        "id": "yHxK5qlATJG6"
      }
    },
    {
      "cell_type": "code",
      "source": [
        "# Pembuktian\n",
        "\n",
        "import numpy as np\n",
        "\n",
        "A = np.array([\n",
        "    [1, 4],\n",
        "    [4, 5]\n",
        "])\n",
        "\n",
        "A_inv = np.linalg.inv(A)\n",
        "\n",
        "def mp(A, power):\n",
        "    a, b = A.shape\n",
        "    if not np.allclose(a, b) or np.linalg.det(A) == 0:\n",
        "        raise ValueError(\"Only Square Matriks and Determinan must be not 0\")\n",
        "    if power < 0:\n",
        "        inv = np.array([\n",
        "            [A[1,1], -A[0,1]],\n",
        "            [-A[1,0], A[0,0]]\n",
        "        ])\n",
        "\n",
        "        A = 1/(A[0,0] * A[1,1] - A[0, 1] * A[1, 0]) * inv\n",
        "    elif power == 0:\n",
        "        return np.identity(a)\n",
        "\n",
        "    temp = A.copy()\n",
        "    for i in range(abs(power) - 1):\n",
        "        A = A @ temp\n",
        "\n",
        "    return A\n",
        "\n",
        "eig_val, eig_vec = np.linalg.eig(A)\n",
        "eig_val_pow, eig_vec_pow = np.linalg.eig(mp(A, -3))\n",
        "\n",
        "print(np.allclose(eig_val[0] ** (-3), eig_val_pow[0]))\n",
        "print(np.linalg.matrix_rank(A))\n",
        "\n",
        "print(np.ndim(A))\n",
        "\n",
        "print(np.linalg.matrix_power(A, -3))\n",
        "print(mp(A, -3))"
      ],
      "metadata": {
        "colab": {
          "base_uri": "https://localhost:8080/"
        },
        "id": "u_dH2DZkUhAp",
        "outputId": "16131192-ec14-43ef-f571-8e3ff1705d3d"
      },
      "execution_count": null,
      "outputs": [
        {
          "output_type": "stream",
          "name": "stdout",
          "text": [
            "True\n",
            "2\n",
            "2\n",
            "[[-0.22614576  0.14124718]\n",
            " [ 0.14124718 -0.08489857]]\n",
            "[[-0.22614576  0.14124718]\n",
            " [ 0.14124718 -0.08489857]]\n"
          ]
        }
      ]
    },
    {
      "cell_type": "markdown",
      "source": [
        "***T. Trace***\n",
        "\n",
        "Trace dari sebuah matriks persegi (square matrix) adalah jumlah dari elemen-elemen pada diagonal utama matriks tersebut.\n",
        "\n",
        "rumusnya => sum(Aii)\n",
        "\n",
        "syarat Trace adalah matriks persegi n×n,\n",
        "\n",
        "untuk mengidentifikasi Trace cukup sederhana yakni menjumlahkan seluruh elemen diagonal matriks, dan apabila eigen value nya sudah ketemu maka jumlahkan saja."
      ],
      "metadata": {
        "id": "olaI1EnHleiM"
      }
    },
    {
      "cell_type": "code",
      "source": [
        "import numpy as np\n",
        "\n",
        "def trace(A):\n",
        "    rows, cols = A.shape\n",
        "    if rows != cols: raise ValueError(\"Only Square Matrix\")\n",
        "    return sum(e[i] for i, e in enumerate(A))\n",
        "\n",
        "def trace_2(A):\n",
        "    rows, cols = A.shape\n",
        "    if rows != cols: raise ValueError(\"Only Square Matrix\")\n",
        "    return sum(np.linalg.eig(A)[0])\n",
        "\n",
        "A = np.array([\n",
        "    [1, 2, 3],\n",
        "    [3, 4, 5],\n",
        "    [5, 6, 7]\n",
        "])\n",
        "\n",
        "print(trace(A))\n",
        "trace_2(A)"
      ],
      "metadata": {
        "colab": {
          "base_uri": "https://localhost:8080/"
        },
        "id": "gxhHNOftmdy5",
        "outputId": "ea46cc9a-17dc-4d12-eff3-4ae1cab43900"
      },
      "execution_count": null,
      "outputs": [
        {
          "output_type": "stream",
          "name": "stdout",
          "text": [
            "12\n"
          ]
        },
        {
          "output_type": "execute_result",
          "data": {
            "text/plain": [
              "np.float64(12.0)"
            ]
          },
          "metadata": {},
          "execution_count": 5
        }
      ]
    },
    {
      "cell_type": "markdown",
      "source": [
        "sifat sifat Trace :\n",
        "\n",
        "1. Linearitas => trace(A + B) = trace(A) + trace(B)\n",
        "\n",
        "2. Invarian terhadap transpose => trace(A^T) = trace(A)\n",
        "\n",
        "3. trace dari hasil perkalian => trace(AB) = trace(BA)\n",
        "\n",
        "4. trace sebagai jumlah eigen value"
      ],
      "metadata": {
        "id": "AfmnS6rSo88u"
      }
    },
    {
      "cell_type": "code",
      "source": [
        "# Pembuktian\n",
        "\n",
        "# 1. Linearitas\n",
        "\n",
        "A = np.array([\n",
        "    [1, 2],\n",
        "    [3, 4]\n",
        "])\n",
        "\n",
        "B = np.array([\n",
        "    [3, 4],\n",
        "    [5, 6]\n",
        "])\n",
        "\n",
        "print(\"Linearitas : \", trace(A + B) == trace(A) + trace(B))\n",
        "\n",
        "# 2. Invarian terhadap transpose\n",
        "\n",
        "print(\"Invarian : \", trace(A.T) == trace(A))\n",
        "\n",
        "# 3. Trace Hasil perkalian\n",
        "\n",
        "print(\"Hasil Perkalian : \", trace(A @ B) == trace(B @ A))\n",
        "print(\"Hasil Perkalian : \", trace(A * B) == trace(B * A))\n",
        "\n",
        "# 4. Trace sebagai jumlah eigen value\n",
        "\n",
        "print(\"Jumlah Eigen Value :\", trace(A) == trace_2(A))"
      ],
      "metadata": {
        "colab": {
          "base_uri": "https://localhost:8080/"
        },
        "id": "yFomkYx0o-il",
        "outputId": "a926cd66-b182-4bac-878e-a6d666f3533c"
      },
      "execution_count": null,
      "outputs": [
        {
          "output_type": "stream",
          "name": "stdout",
          "text": [
            "Linearitas :  True\n",
            "Invarian :  True\n",
            "Hasil Perkalian :  True\n",
            "Hasil Perkalian :  True\n",
            "Jumlah Eigen Value : True\n",
            "[0.  0.5 0.5]\n"
          ]
        },
        {
          "output_type": "execute_result",
          "data": {
            "text/plain": [
              "array([0, 2, 1])"
            ]
          },
          "metadata": {},
          "execution_count": 24
        }
      ]
    },
    {
      "cell_type": "markdown",
      "source": [
        "***U. Determinant***\n",
        "\n",
        "Untuk determinan 2x2 cukup pakai rumus a.d - b.c"
      ],
      "metadata": {
        "id": "r2RgYCnL4mVB"
      }
    },
    {
      "cell_type": "code",
      "source": [
        "# contoh\n",
        "\n",
        "def determinan_22(A):\n",
        "    return A[0, 0] * A[1, 1] - A[0, 1] * A[1, 0]\n",
        "\n",
        "A = np.array([\n",
        "    [1, 2],\n",
        "    [3, 4]\n",
        "])\n",
        "\n",
        "determinan_22(A)"
      ],
      "metadata": {
        "colab": {
          "base_uri": "https://localhost:8080/"
        },
        "id": "m-z9MLuJ4zlX",
        "outputId": "7aa319ee-b403-438a-9511-394980b6d538"
      },
      "execution_count": null,
      "outputs": [
        {
          "output_type": "execute_result",
          "data": {
            "text/plain": [
              "np.int64(-2)"
            ]
          },
          "metadata": {},
          "execution_count": 25
        }
      ]
    },
    {
      "cell_type": "markdown",
      "source": [
        "Untuk determinan 3x3 kita bisa menggunakan expansi kofaktor\n",
        "\n",
        "a(ei - fh) - b(di - fg) + c(dh - eg)\n",
        "\n",
        "Untuk matrix 3x3 atau lebih bisa menggunakan eliminasi gauss atau REF (Row Echelon Form) kemudian hasil REF kita kalikan seluruh elemen diagonalnya, maka itulah determinan nya.\n",
        "\n",
        "contoh :\n",
        "\n",
        "diberikan matriks A = [[1, 2 ,3], [4, 5, 6], [7, 8, 10]]\n",
        "\n",
        "pertama-tama kita eliminasi gauss\n",
        "\n",
        "=> R2 = R2 - 4R1 => [4, 5, 6] - 4*[1, 2, 3] => [0, -3, -6]\n",
        "\n",
        "=> R3 = R3 - 7R1 => [7, 8, 10] - 7*[1, 2, 3] => [0, -6, -11]\n",
        "\n",
        "karena R3 belum membentuk row echelon maka kita lakukan eliminasi lagi dengan menggunakan elemen (2, 2) sebagai pivot, maka\n",
        "\n",
        "=> R3 = R3 - 2R2 => [0, -6, -11] - 2*[0, -3, -6] => [0, 0, 1]\n",
        "\n",
        "maka hasil dari eliminasi gauss tadi => [[1, 2, 3], [0, -3, -6], [0, 0, 1]\n",
        "\n",
        "kemudian kita kalikan seluruh elemen diagonal untuk determinannya => 1 * (-3) * 1 => -3"
      ],
      "metadata": {
        "id": "Qs0zrqBP5UI9"
      }
    },
    {
      "cell_type": "code",
      "source": [
        "import numpy as np\n",
        "\n",
        "def determinan_above_3x3(A):\n",
        "    REF = row_echelon(A)\n",
        "\n",
        "    result = 1\n",
        "    for i, e in enumerate(REF):\n",
        "        result *= e[i]\n",
        "    return result\n",
        "\n",
        "A = np.array([\n",
        "    [1, 2, 3],\n",
        "    [4, 5, 6],\n",
        "    [7, 8, 10]\n",
        "])\n",
        "\n",
        "# hasil dari perhitungan menggunakan python memang berbeda dengan perhitungan manual\n",
        "determinan_above_3x3(A)"
      ],
      "metadata": {
        "colab": {
          "base_uri": "https://localhost:8080/"
        },
        "id": "bhZAM-rK6QXa",
        "outputId": "c645bf26-3f01-465e-ebcf-ccd668fc7425"
      },
      "execution_count": null,
      "outputs": [
        {
          "output_type": "execute_result",
          "data": {
            "text/plain": [
              "np.float64(1.0)"
            ]
          },
          "metadata": {},
          "execution_count": 31
        }
      ]
    },
    {
      "cell_type": "markdown",
      "source": [
        "***V. Ortoghonal Matrices***\n",
        "\n",
        "Sebuah matriks Q € R^(n×n) dikatakan ortogonal jika Q . Q.T = I || Q.T . Q = I, Q.T = Q^-1\n",
        "\n",
        "\n",
        "note : matriks ortogonal harus persegi."
      ],
      "metadata": {
        "id": "79k3A7TtQUwJ"
      }
    },
    {
      "cell_type": "code",
      "source": [
        "import numpy as np\n",
        "\n",
        "def cio(A):\n",
        "    return np.allclose(A.T @ A, np.identity(A.shape[0]))\n",
        "\n",
        "A = np.array([\n",
        "    [1, 0],\n",
        "    [0, 1]\n",
        "])\n",
        "\n",
        "cio(A)"
      ],
      "metadata": {
        "colab": {
          "base_uri": "https://localhost:8080/"
        },
        "id": "21xFSYaVTwqe",
        "outputId": "c01ea91e-28c6-4274-e35c-b3cc17e930b2"
      },
      "execution_count": null,
      "outputs": [
        {
          "output_type": "execute_result",
          "data": {
            "text/plain": [
              "True"
            ]
          },
          "metadata": {},
          "execution_count": 2
        }
      ]
    },
    {
      "cell_type": "code",
      "source": [
        "# Exercise\n",
        "\n",
        "from math import sqrt\n",
        "\n",
        "# 1.\n",
        "A = np.array([\n",
        "    [1, 0],\n",
        "    [0, -1]\n",
        "])\n",
        "\n",
        "print(\"1. Ortoghonal : \", cio(A))\n",
        "\n",
        "# 2.\n",
        "B = np.array([\n",
        "    [1, 1],\n",
        "    [-1, 1]\n",
        "])\n",
        "\n",
        "print(\"2. Ortoghonal : \", cio(1/sqrt(2) * B))\n",
        "\n",
        "# 3.\n",
        "C = np.array([\n",
        "    [2, 0],\n",
        "    [0, 1/2]\n",
        "])\n",
        "\n",
        "print(\"3. Ortoghonal : \", cio(C))\n",
        "\n",
        "# 4.\n",
        "D = np.array([\n",
        "    [0, 1, 0],\n",
        "    [1, 0, 0],\n",
        "    [0, 0, -1]\n",
        "])\n",
        "\n",
        "print(\"4. Ortoghonal : \", cio(D))\n",
        "\n",
        "# 5.\n",
        "E = np.array([\n",
        "    [1/sqrt(3), 1/sqrt(3), 1/sqrt(3)],\n",
        "    [1/sqrt(2), 0, -1/sqrt(2)],\n",
        "    [1/sqrt(6), -sqrt(2/3), 1/sqrt(6)]\n",
        "])\n",
        "\n",
        "print(\"5. Ortoghonal : \", cio(E))"
      ],
      "metadata": {
        "colab": {
          "base_uri": "https://localhost:8080/"
        },
        "id": "u0OguOBsUo_H",
        "outputId": "8ff49a1b-0eb9-4131-f290-80d9f1244e26"
      },
      "execution_count": null,
      "outputs": [
        {
          "output_type": "stream",
          "name": "stdout",
          "text": [
            "1. Ortoghonal :  True\n",
            "2. Ortoghonal :  True\n",
            "3. Ortoghonal :  False\n",
            "4. Ortoghonal :  True\n",
            "5. Ortoghonal :  True\n"
          ]
        }
      ]
    },
    {
      "cell_type": "markdown",
      "source": [
        "***W. Symetric Matrices***\n",
        "\n",
        "Matriks simetri adalah matriks persegi yang jika di transpose hasilnya sama dengan matriks asli nya\n",
        "\n",
        "contoh => [[1, 2, 3], [2, 5, 6], [3, 6, 6]]"
      ],
      "metadata": {
        "id": "x9kbfI52fBYC"
      }
    },
    {
      "cell_type": "code",
      "source": [
        "np.array([[1, 2, 3], [2, 5, 6], [3, 6, 6]]).T"
      ],
      "metadata": {
        "colab": {
          "base_uri": "https://localhost:8080/"
        },
        "id": "fW2yqqnMfu1x",
        "outputId": "8eb30437-04bc-465d-ff43-4dddfa6afa08"
      },
      "execution_count": null,
      "outputs": [
        {
          "output_type": "execute_result",
          "data": {
            "text/plain": [
              "array([[1, 2, 3],\n",
              "       [2, 5, 6],\n",
              "       [3, 6, 6]])"
            ]
          },
          "metadata": {},
          "execution_count": 9
        }
      ]
    },
    {
      "cell_type": "markdown",
      "source": [
        "[Spectral Theorem]\n",
        "\n",
        "A € R^n×n € Symetric Matrices\n",
        "\n",
        "A = Q.lambda.Q.T"
      ],
      "metadata": {
        "id": "8I-OIAnAjeYJ"
      }
    },
    {
      "cell_type": "code",
      "source": [
        "# Pembuktian\n",
        "import numpy as np\n",
        "\n",
        "A = np.array([\n",
        "    [1, 2],\n",
        "    [2, 4]\n",
        "])\n",
        "\n",
        "# menggunakan np.linalg.eigh maka eigen vector sudah ortonormal otomatis\n",
        "eigen_values, eigen_vectors = np.linalg.eigh(A)\n",
        "\n",
        "Q = np.column_stack(eigen_vectors)\n",
        "Lambda = np.diag(eigen_values)\n",
        "\n",
        "np.allclose(A, Q @ Lambda @ Q.T)"
      ],
      "metadata": {
        "colab": {
          "base_uri": "https://localhost:8080/"
        },
        "id": "CRErLzFwj4tw",
        "outputId": "eea81705-ce21-449a-f1b4-edc1d5334c82"
      },
      "execution_count": null,
      "outputs": [
        {
          "output_type": "execute_result",
          "data": {
            "text/plain": [
              "True"
            ]
          },
          "metadata": {},
          "execution_count": 10
        }
      ]
    },
    {
      "cell_type": "markdown",
      "source": [
        "A . Q = Q . Lambda"
      ],
      "metadata": {
        "id": "AkZ7i3y-lLDZ"
      }
    },
    {
      "cell_type": "code",
      "source": [
        "np.allclose(A @ Q, Q @ Lambda)"
      ],
      "metadata": {
        "colab": {
          "base_uri": "https://localhost:8080/"
        },
        "id": "Oo8Cft4GlOma",
        "outputId": "1f5ddb70-7223-4d8b-a0e6-910f98463a56"
      },
      "execution_count": null,
      "outputs": [
        {
          "output_type": "execute_result",
          "data": {
            "text/plain": [
              "True"
            ]
          },
          "metadata": {},
          "execution_count": 11
        }
      ]
    },
    {
      "cell_type": "markdown",
      "source": [
        "***V.1 Rayleigh quotients***\n",
        "\n",
        "Jika A adalah matriks simetri berukuran n×n dan x € R^n alias vektor tak nol, vektor harus berukuran setara dengan A\n",
        "\n",
        "maka Rayleigh quotients dari x terhadap A adalah\n",
        "\n",
        "Ra(X) => x.T . A.x / x.T . x\n",
        "\n",
        "utamakan A adalah matriks simetri.\n",
        "\n",
        "\n",
        "untuk matriks simetri hasilnya selalu bilangan real dan hasilnya selalu berada diantara nilai eigen dari A, nilai maksimum/minimum dari Ra(X) adalah nilai eigen terbesar / terkecil."
      ],
      "metadata": {
        "id": "V9g6tJ1rluNu"
      }
    },
    {
      "cell_type": "code",
      "source": [
        "\n",
        "import numpy as np\n",
        "\n",
        "def Rayleigh_quotients(x, A):\n",
        "    return x.T @ A @ x / (x.T @ x)\n",
        "\n",
        "x = np.array([1, 2])\n",
        "\n",
        "A = np.array([\n",
        "    [1, 2],\n",
        "    [2, 4]\n",
        "])\n",
        "\n",
        "eva, eve = np.linalg.eig(A)\n",
        "print(eva)\n",
        "\n",
        "Rayleigh_quotients(x, A)"
      ],
      "metadata": {
        "colab": {
          "base_uri": "https://localhost:8080/"
        },
        "id": "ZOegygVTo3xC",
        "outputId": "7fe46694-7177-49a9-ed02-b8de215d3f91"
      },
      "execution_count": null,
      "outputs": [
        {
          "output_type": "stream",
          "name": "stdout",
          "text": [
            "[0. 5.]\n"
          ]
        },
        {
          "output_type": "execute_result",
          "data": {
            "text/plain": [
              "np.float64(5.0)"
            ]
          },
          "metadata": {},
          "execution_count": 13
        }
      ]
    },
    {
      "cell_type": "markdown",
      "source": [
        "[Proposition]\n",
        "\n",
        "1. Scale Invariance => jika x bukan vektor 0 dan a (skalar) bukan nol maka Ra(X) = Ra(X.skalar)"
      ],
      "metadata": {
        "id": "Y7iSM5QIq7T1"
      }
    },
    {
      "cell_type": "code",
      "source": [
        "# Pembuktian\n",
        "\n",
        "x = np.array([1, 2])\n",
        "\n",
        "A = np.array([\n",
        "    [1, 2],\n",
        "    [2, 4]\n",
        "])\n",
        "\n",
        "a = 2\n",
        "\n",
        "np.allclose(Rayleigh_quotients(x, A), Rayleigh_quotients(x * a, A))"
      ],
      "metadata": {
        "colab": {
          "base_uri": "https://localhost:8080/"
        },
        "id": "9ruJrm4KrRUE",
        "outputId": "23cfe416-f0f5-44ba-d246-931c7b16ccc1"
      },
      "execution_count": null,
      "outputs": [
        {
          "output_type": "execute_result",
          "data": {
            "text/plain": [
              "True"
            ]
          },
          "metadata": {},
          "execution_count": 21
        }
      ]
    },
    {
      "cell_type": "markdown",
      "source": [
        "2. jika x adalah eigenvector dari A dengan eigen value Lambda maka Ra(X) = Lambda"
      ],
      "metadata": {
        "id": "HVVmPImWroau"
      }
    },
    {
      "cell_type": "code",
      "source": [
        "# Pembuktian\n",
        "\n",
        "eva, eve = np.linalg.eigh(A)\n",
        "\n",
        "print(np.allclose(Rayleigh_quotients(eve[1], A), eva[1]))"
      ],
      "metadata": {
        "colab": {
          "base_uri": "https://localhost:8080/"
        },
        "id": "sYXRXcHcr1fq",
        "outputId": "5b8226ac-fe8e-4fcc-da6e-b4cd5a40d719"
      },
      "execution_count": null,
      "outputs": [
        {
          "output_type": "stream",
          "name": "stdout",
          "text": [
            "True\n"
          ]
        },
        {
          "output_type": "execute_result",
          "data": {
            "text/plain": [
              "np.float64(0.0)"
            ]
          },
          "metadata": {},
          "execution_count": 35
        }
      ]
    },
    {
      "cell_type": "markdown",
      "source": [
        "3. Jika x adalah eigenvector dari A maka nilai Ra(X) menghasilkan atau mencapai nilai maksimum jika x adalah eigen vector dari maksimum nilai eigen, begitupun juga sebaliknya."
      ],
      "metadata": {
        "id": "QCnkny5Vwevl"
      }
    },
    {
      "cell_type": "code",
      "source": [
        "# Pembuktian\n",
        "\n",
        "eva, eve = np.linalg.eigh(A)\n",
        "\n",
        "print(\"Nilai Maksimum dari Ra(X) : \", Rayleigh_quotients(eve[1], A))\n",
        "print(\"Nilai Minimum dari Ra(X) : \", Rayleigh_quotients(eve[0], A))\n",
        "\n",
        "# nilai dari Ra(X) tidak akan pernah kurang dari Ra(X), ketika x = min eigenvector A\n",
        "# dan tidak akan pernah lebih dari Ra(X), ketika x = max eigen vector dari A"
      ],
      "metadata": {
        "colab": {
          "base_uri": "https://localhost:8080/"
        },
        "id": "MQRKPkQIw1cV",
        "outputId": "14030c07-ebd8-44de-b759-6e56c873edfd"
      },
      "execution_count": null,
      "outputs": [
        {
          "output_type": "stream",
          "name": "stdout",
          "text": [
            "Nilai Maksimum dari Ra(X) :  5.000000000000001\n",
            "Nilai Minimum dari Ra(X) :  0.0\n"
          ]
        }
      ]
    },
    {
      "cell_type": "markdown",
      "source": [
        "***W. Positive (Semi-) Definite Matrix***\n",
        "\n",
        "1. Positive definite\n",
        "\n",
        "matriks dikatakan positive definite jika :\n",
        "\n",
        "- A € R^n×n (Matrix Symetri)\n",
        "\n",
        "- Eigen Value min > 0\n",
        "\n",
        "- x.T . A.x > 0 untuk semua x != 0 => hanya untuk sampling, tidak akurat\n",
        "\n",
        "- Leading Principles => determinan dari submatriks persegi terkecil di pojok kiri, scale sampai sebesar matriks itu sendiri, lalu dicari masing-masing determinannya dan menghasilkan > 0 semua, maka positive definite\n",
        "\n",
        "2. Positive Semi-Definite\n",
        "\n",
        "syaratnya sama seperti positive definite, hanya saja positive definite > 0 jika positive semi definite >= 0."
      ],
      "metadata": {
        "id": "cipeSplM4ymy"
      }
    },
    {
      "cell_type": "code",
      "source": [
        "import numpy as np\n",
        "\n",
        "# check berdasarkan nilai eigen\n",
        "def check_by_eig(A):\n",
        "    if not np.allclose(A.T, A): raise ValueError(\"Only Square Matriks\")\n",
        "    eigen_value, _ = np.linalg.eigh(A)\n",
        "    if np.allclose(min(eigen_value), 0): return \"Positive Semi definite\\n\"\n",
        "    if min(eigen_value) > 0: return \"Positive Definite\\n\"\n",
        "\n",
        "    else: return \"Bukan Keduanya\\n\"\n",
        "\n",
        "# check berdasarkan leading principles\n",
        "def check_by_ls(A):\n",
        "    if not np.allclose(A.T, A): raise ValueError(\"Only Square Matriks\")\n",
        "\n",
        "    psd = False\n",
        "    for i in range(2, A.shape[0] + 1):\n",
        "        det = np.linalg.det(A[:i, :i])\n",
        "        if np.allclose(det, 0): psd = True\n",
        "        elif det > 0: continue\n",
        "        elif det < 0: return \"Bukan Keduanya\\n\"\n",
        "    if psd: return \"Positive Semi-Definite\\n\"\n",
        "    return \"Positive Definite\\n\"\n",
        "\n",
        "# check berdasarkan rumus x.T . A.x\n",
        "def check_by_formula(A):\n",
        "    x = np.random.randint(-9, 1, size=(A.shape[0], 1)).reshape(-1, 1)\n",
        "    result = x.T @ A @ x\n",
        "    if result.item() > 0: return \"Positive Definite\\n\"\n",
        "    elif result.item() >= 0: return \"Positive Semi-Definite\\n\"\n",
        "    elif result.item() < 0: return \"Bukan Keduanya\\n\"\n",
        "\n",
        "A = np.array([\n",
        "    [2, -1],\n",
        "    [-1, 2]\n",
        "])\n",
        "\n",
        "print(check_by_eig(A), check_by_ls(A), check_by_formula(A))\n",
        "\n",
        "A = np.array([\n",
        "    [1, 0],\n",
        "    [0, 0]\n",
        "])\n",
        "\n",
        "print(check_by_eig(A), check_by_ls(A), check_by_formula(A))\n",
        "\n",
        "A = np.array([\n",
        "    [0, 0],\n",
        "    [0, 0]\n",
        "])\n",
        "\n",
        "print(check_by_eig(A), check_by_ls(A), check_by_formula(A))\n",
        "\n",
        "A = np.array([\n",
        "    [4, 2],\n",
        "    [2, 1]\n",
        "])\n",
        "\n",
        "print(check_by_eig(A), check_by_ls(A), check_by_formula(A))\n",
        "\n",
        "A = np.array([\n",
        "    [1, 2],\n",
        "    [2, -3]\n",
        "])\n",
        "\n",
        "print(check_by_eig(A), check_by_ls(A), check_by_formula(A))"
      ],
      "metadata": {
        "colab": {
          "base_uri": "https://localhost:8080/"
        },
        "id": "Apy2cYqV6vDZ",
        "outputId": "2d9e4ab4-1ef8-4d72-dff3-63962f982b58"
      },
      "execution_count": 16,
      "outputs": [
        {
          "output_type": "stream",
          "name": "stdout",
          "text": [
            "Positive Definite\n",
            " Positive Definite\n",
            " Positive Definite\n",
            "\n",
            "Positive Semi definite\n",
            " Positive Semi-Definite\n",
            " Positive Definite\n",
            "\n",
            "Positive Semi definite\n",
            " Positive Semi-Definite\n",
            " Positive Semi-Definite\n",
            "\n",
            "Positive Semi definite\n",
            " Positive Semi-Definite\n",
            " Positive Definite\n",
            "\n",
            "Bukan Keduanya\n",
            " Bukan Keduanya\n",
            " Positive Definite\n",
            "\n"
          ]
        }
      ]
    },
    {
      "cell_type": "markdown",
      "source": [
        "[Proposition]\n",
        "\n",
        "1. Jika A adalah matriks simetri dan jika semua eigen value >= 0 maka PSD dan jika semua eigen value > 0 maka PD\n",
        "\n",
        "maka =>  x.T . A.x = Lambda . ||x||² => jika x adalah eigen vector dari Lambda."
      ],
      "metadata": {
        "id": "KbxLPOU3MYwN"
      }
    },
    {
      "cell_type": "code",
      "source": [
        "# Pembuktian\n",
        "\n",
        "A = np.array([\n",
        "    [4, 2],\n",
        "    [2, 1]\n",
        "])\n",
        "\n",
        "eva, eve = np.linalg.eigh(A)\n",
        "\n",
        "print(check_by_eig(A))\n",
        "print(min(eva),  \">=\",  0)\n",
        "\n",
        "x = eve[1]\n",
        "\n",
        "np.allclose(x.T @ A @ x, eva[1] * np.linalg.norm(x) ** 2)"
      ],
      "metadata": {
        "colab": {
          "base_uri": "https://localhost:8080/"
        },
        "id": "XBzT8RH7MyUh",
        "outputId": "f3894214-130b-4740-c687-3b6b638525cd"
      },
      "execution_count": 17,
      "outputs": [
        {
          "output_type": "stream",
          "name": "stdout",
          "text": [
            "Positive Semi definite\n",
            "\n",
            "0.0 >= 0\n"
          ]
        },
        {
          "output_type": "execute_result",
          "data": {
            "text/plain": [
              "True"
            ]
          },
          "metadata": {},
          "execution_count": 17
        }
      ]
    },
    {
      "cell_type": "markdown",
      "source": [
        "$R^A(x) = x^T A x / (||x||^2)$"
      ],
      "metadata": {
        "id": "PHybq0IsPSU5"
      }
    },
    {
      "cell_type": "code",
      "source": [
        "# Pembuktian\n",
        "\n",
        "def rq(x, A):\n",
        "    return x.T @ A @ x / (x.T @ x)\n",
        "\n",
        "np.allclose(rq(x, A), x.T @ A @ x / (np.linalg.norm(x)**2))"
      ],
      "metadata": {
        "colab": {
          "base_uri": "https://localhost:8080/"
        },
        "id": "P0Tg4VrqPh3L",
        "outputId": "e918df77-8a40-424c-a5f5-f2def326fba5"
      },
      "execution_count": 18,
      "outputs": [
        {
          "output_type": "execute_result",
          "data": {
            "text/plain": [
              "True"
            ]
          },
          "metadata": {},
          "execution_count": 18
        }
      ]
    },
    {
      "cell_type": "markdown",
      "source": [
        "2. Jika A berukuran mxn maka A.T @ A adalah PSD dan bisa PD jika null(A) = 0"
      ],
      "metadata": {
        "id": "Pnjf9aT4RLfa"
      }
    },
    {
      "cell_type": "code",
      "source": [
        "# Pembuktian\n",
        "from scipy.linalg import null_space\n",
        "\n",
        "A = np.array([\n",
        "    [1, 2, 3],\n",
        "    [4, 5, 6]\n",
        "])\n",
        "\n",
        "eva, eve = np.linalg.eig(A.T @ A)\n",
        "\n",
        "x = eve[0]\n",
        "\n",
        "print(null_space(A.T @ A))\n",
        "\n",
        "check_by_eig(A.T @ A)"
      ],
      "metadata": {
        "colab": {
          "base_uri": "https://localhost:8080/",
          "height": 93
        },
        "id": "8g2K5lxBRbX8",
        "outputId": "2b862512-f8fc-4f0a-f804-c5a819a6df6a"
      },
      "execution_count": 19,
      "outputs": [
        {
          "output_type": "stream",
          "name": "stdout",
          "text": [
            "[[ 0.40824829]\n",
            " [-0.81649658]\n",
            " [ 0.40824829]]\n"
          ]
        },
        {
          "output_type": "execute_result",
          "data": {
            "text/plain": [
              "'Positive Semi definite\\n'"
            ],
            "application/vnd.google.colaboratory.intrinsic+json": {
              "type": "string"
            }
          },
          "metadata": {},
          "execution_count": 19
        }
      ]
    },
    {
      "cell_type": "markdown",
      "source": [
        "$x^T A^T A x = ||A x||^2 >= 0$"
      ],
      "metadata": {
        "id": "kLfgeO6SUfjF"
      }
    },
    {
      "cell_type": "code",
      "source": [
        "# Pembuktian\n",
        "\n",
        "print(x.T @ A.T @ A @ x, np.linalg.norm(A @ x)**2, 0)"
      ],
      "metadata": {
        "colab": {
          "base_uri": "https://localhost:8080/"
        },
        "id": "UZNO55g9UsO4",
        "outputId": "06a16789-cfea-49a4-9012-b49379243998"
      },
      "execution_count": null,
      "outputs": [
        {
          "output_type": "stream",
          "name": "stdout",
          "text": [
            "11.522625375372636 11.522625375372636 0\n"
          ]
        }
      ]
    },
    {
      "cell_type": "markdown",
      "source": [
        "3. Jika A adalah PSD maka A + skalar . I => PD"
      ],
      "metadata": {
        "id": "mkt8T67yVbHr"
      }
    },
    {
      "cell_type": "code",
      "source": [
        "# Pembuktian\n",
        "\n",
        "A = np.array([\n",
        "    [4, 2],\n",
        "    [2, 1]\n",
        "])\n",
        "\n",
        "\n",
        "Z = A + 2 * np.identity(A.shape[0])\n",
        "\n",
        "check_by_eig(Z)"
      ],
      "metadata": {
        "colab": {
          "base_uri": "https://localhost:8080/",
          "height": 36
        },
        "id": "rAn4OA5hVkdy",
        "outputId": "4d097f31-673a-453a-f014-5f9e8caead26"
      },
      "execution_count": 20,
      "outputs": [
        {
          "output_type": "execute_result",
          "data": {
            "text/plain": [
              "'Positive Definite\\n'"
            ],
            "application/vnd.google.colaboratory.intrinsic+json": {
              "type": "string"
            }
          },
          "metadata": {},
          "execution_count": 20
        }
      ]
    },
    {
      "cell_type": "markdown",
      "source": [
        "$x^T(A + Skalar . I)x = x^T A x + skalar||x||^2$"
      ],
      "metadata": {
        "id": "5RFf1W2hXnm6"
      }
    },
    {
      "cell_type": "code",
      "source": [
        "# Pembuktian\n",
        "\n",
        "x = np.linalg.eigh(A)[1][0]\n",
        "\n",
        "skalar = 2\n",
        "I = np.identity(A.shape[0])\n",
        "\n",
        "print(x.T @ (A + skalar * I) @ x, x.T @ A @ x + skalar * (np.linalg.norm(x)**2))"
      ],
      "metadata": {
        "colab": {
          "base_uri": "https://localhost:8080/"
        },
        "id": "NxvCm5kNX6bO",
        "outputId": "7a29c1d0-e442-40f8-c9ee-8d15509e516b"
      },
      "execution_count": null,
      "outputs": [
        {
          "output_type": "stream",
          "name": "stdout",
          "text": [
            "2.0 1.9999999999999996\n"
          ]
        }
      ]
    },
    {
      "cell_type": "markdown",
      "source": [
        "**Visualisasi Contour dari x.T @ A  @ x**"
      ],
      "metadata": {
        "id": "osyqpEDnIBsq"
      }
    },
    {
      "cell_type": "code",
      "source": [
        "import numpy as np\n",
        "import matplotlib.pyplot as plt\n",
        "\n",
        "A = np.array([[3, 1],\n",
        "              [1, 2]])\n",
        "\n",
        "x1 = np.linspace(-3, 3, 200)\n",
        "x2 = np.linspace(-3, 3, 200)\n",
        "X1, X2 = np.meshgrid(x1, x2)\n",
        "\n",
        "F = A[0,0]*X1**2 + 2*A[0,1]*X1*X2 + A[1,1]*X2**2\n",
        "\n",
        "plt.figure(figsize=(8, 6))\n",
        "contours = plt.contour(X1, X2, F, levels=20, cmap=\"plasma\")\n",
        "plt.clabel(contours, inline=True, fontsize=8)\n",
        "plt.title(r\"Isocontour of $f(x) = x^T A x$\")\n",
        "plt.xlabel(r\"$x_1$\")\n",
        "plt.ylabel(r\"$x_2$\")\n",
        "plt.grid(True)\n",
        "plt.axis('equal')\n",
        "plt.axhline(0, color='gray', linestyle='--', linewidth=0.5)\n",
        "plt.axvline(0, color='gray', linestyle='--', linewidth=0.5)\n",
        "plt.show()"
      ],
      "metadata": {
        "colab": {
          "base_uri": "https://localhost:8080/",
          "height": 417
        },
        "id": "E06skmbNIKsv",
        "outputId": "058345cb-a929-40cf-c67c-be70ba5a3e59"
      },
      "execution_count": 14,
      "outputs": [
        {
          "output_type": "display_data",
          "data": {
            "text/plain": [
              "<Figure size 800x600 with 1 Axes>"
            ],
            "image/png": "[encoded data removed]"
          },
          "metadata": {}
        }
      ]
    }
  ]
}