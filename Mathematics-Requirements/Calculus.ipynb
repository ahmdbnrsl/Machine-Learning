{
  "nbformat": 4,
  "nbformat_minor": 0,
  "metadata": {
    "colab": {
      "provenance": [],
      "authorship_tag": "ABX9TyOs6fwM09j2NdnPJPcjyby3",
      "include_colab_link": true
    },
    "kernelspec": {
      "name": "python3",
      "display_name": "Python 3"
    },
    "language_info": {
      "name": "python"
    }
  },
  "cells": [
    {
      "cell_type": "markdown",
      "metadata": {
        "id": "view-in-github",
        "colab_type": "text"
      },
      "source": [
        "<a href=\"https://colab.research.google.com/github/ahmdbnrsl/Machine-Learning/blob/main/Mathematics-Requirements/Calculus.ipynb\" target=\"_parent\"><img src=\"https://colab.research.google.com/assets/colab-badge.svg\" alt=\"Open In Colab\"/></a>"
      ]
    },
    {
      "cell_type": "markdown",
      "source": [
        "**CALCULUS AND OPTIMIZATION**"
      ],
      "metadata": {
        "id": "T-CEzu1WoFtP"
      }
    },
    {
      "cell_type": "code",
      "execution_count": null,
      "metadata": {
        "colab": {
          "base_uri": "https://localhost:8080/"
        },
        "id": "9lUlQbaZnvnK",
        "outputId": "ca443f56-a524-472d-c0e2-d46a7f312844"
      },
      "outputs": [
        {
          "output_type": "stream",
          "name": "stdout",
          "text": [
            "Requirement already satisfied: numpy in /usr/local/lib/python3.11/dist-packages (2.0.2)\n",
            "Requirement already satisfied: scipy in /usr/local/lib/python3.11/dist-packages (1.15.3)\n",
            "Requirement already satisfied: sympy in /usr/local/lib/python3.11/dist-packages (1.13.1)\n",
            "Requirement already satisfied: matplotlib in /usr/local/lib/python3.11/dist-packages (3.10.0)\n",
            "Requirement already satisfied: pillow in /usr/local/lib/python3.11/dist-packages (11.2.1)\n",
            "Requirement already satisfied: mpmath<1.4,>=1.1.0 in /usr/local/lib/python3.11/dist-packages (from sympy) (1.3.0)\n",
            "Requirement already satisfied: contourpy>=1.0.1 in /usr/local/lib/python3.11/dist-packages (from matplotlib) (1.3.2)\n",
            "Requirement already satisfied: cycler>=0.10 in /usr/local/lib/python3.11/dist-packages (from matplotlib) (0.12.1)\n",
            "Requirement already satisfied: fonttools>=4.22.0 in /usr/local/lib/python3.11/dist-packages (from matplotlib) (4.58.5)\n",
            "Requirement already satisfied: kiwisolver>=1.3.1 in /usr/local/lib/python3.11/dist-packages (from matplotlib) (1.4.8)\n",
            "Requirement already satisfied: packaging>=20.0 in /usr/local/lib/python3.11/dist-packages (from matplotlib) (24.2)\n",
            "Requirement already satisfied: pyparsing>=2.3.1 in /usr/local/lib/python3.11/dist-packages (from matplotlib) (3.2.3)\n",
            "Requirement already satisfied: python-dateutil>=2.7 in /usr/local/lib/python3.11/dist-packages (from matplotlib) (2.9.0.post0)\n",
            "Requirement already satisfied: six>=1.5 in /usr/local/lib/python3.11/dist-packages (from python-dateutil>=2.7->matplotlib) (1.17.0)\n"
          ]
        }
      ],
      "source": [
        "pip install numpy scipy sympy matplotlib pillow"
      ]
    },
    {
      "cell_type": "markdown",
      "source": [
        "**1. Extrema**\n",
        "\n",
        "\"Much of machine learning is about minimizing a cost function\"\n",
        "=> Banyak aspek dalam machine learning itu intinya adalah meminimalkan fungsi biaya.\n",
        "Maksudnya, kita ingin model kita belajar dari data sedemikian rupa agar kesalahan prediksinya sekecil mungkin.\n",
        "\"(also called an objective function in the optimization community)\"\n",
        "=> Di kalangan orang-orang yang fokus pada bidang optimasi matematis, cost function juga dikenal dengan nama objective function.\n",
        "Jadi dua istilah ini mirip, cuma beda konteks:\n",
        "\n",
        "ML → cost/loss function\n",
        "\n",
        "Optimization → objective function\n",
        "\n",
        "\"which is a scalar function of several variables\"\n",
        "=> Fungsi ini menghasilkan nilai skalar (misalnya: 0.25, 17.8, dst),\n",
        "dan nilai itu tergantung pada banyak variabel (misalnya: bobot model, bias, dll).\n",
        "Jadi secara matematis, bentuknya kayak:\n",
        "\n",
        "$J(\\theta_1, \\theta_2, \\dots, \\theta_n) \\in \\mathbb{R}$\n",
        "\n",
        "\"that typically measures how poorly our model fits the data we have.\"\n",
        "=> Nilai dari cost function ini menunjukkan seberapa buruk model kita mempelajari data.\n",
        "Semakin tinggi nilainya → semakin jelek model kita.\n",
        "Jadi target kita? Minimalkan nilai ini.\n",
        "\n",
        "contoh soal :\n",
        "\n",
        "tentukan nilai minima dan maxima dari : $f(x) = -x^3 + 3x^2 + 9x + 2$\n",
        "\n",
        "langkah-langkah :\n",
        "\n",
        "1. Turunkan fungsi terlebih dahulu\n",
        "\n",
        "$f'(x) = -3x^2 + 6x$\n",
        "\n",
        "2. Cari titik kritis (Critical Point) : $f'(x) = 0$\n",
        "\n",
        "cari $x$ atau domain yang memenuhi persamaan $-3x^2 + 6x = 0$\n",
        "\n",
        "maka ketemulah $-1, 3$\n",
        "\n",
        "3. Turunkan fungsi lagi $f''(x)$\n",
        "\n",
        "$f''(x) = -6x + 6$\n",
        "\n",
        "4. Subtitusikan critical points ke $f''(x)$\n",
        "\n",
        "$f''(-1) = -6(-1) + 6 = 12, > 0$ maka ini adalah nilai minimum\n",
        "\n",
        "$f''(3) = -6(3) + 6 = -12, < 0$ maka ini adalah nilai maksimum\n",
        "\n",
        "5. Subtitusikan Critical points ke $f(x)$\n",
        "\n",
        "$f(-1) = -1(-1)^3 + 3(-1)^2 + 9(-1) + 2 = -3$\n",
        "\n",
        "$f(3) = -3^3 + 3(3)^2 + 9(3) + 2 = 29$\n",
        "\n",
        "nilai minimanya adalah : $(-1, -3)$\n",
        "\n",
        "nilai maximanya adalah : $(3, 29)$"
      ],
      "metadata": {
        "id": "RJFp25q4ofPs"
      }
    },
    {
      "cell_type": "code",
      "source": [
        "import sympy as sp\n",
        "\n",
        "x = sp.symbols('x')\n",
        "\n",
        "f = -x**3 + 3*(x**2) + 9*x + 2\n",
        "\n",
        "# turunan 1\n",
        "f_1 = sp.diff(f, x)\n",
        "\n",
        "# critical point\n",
        "eq = sp.Eq(f_1, 0)\n",
        "critical_point = sp.solve(eq, x)\n",
        "\n",
        "# turunan 2\n",
        "f_2 = sp.diff(f_1)\n",
        "\n",
        "# subtitusi critical point ke f''(x)\n",
        "min_max = []\n",
        "for i in critical_point:\n",
        "    min_max.append(f_2.subs({x : i}))\n",
        "\n",
        "# subtitusi critical point ke f(x)\n",
        "locale_min_max = []\n",
        "for i in critical_point:\n",
        "    locale_min_max.append(f.subs({x : i}))\n",
        "\n",
        "critical_point, min_max, locale_min_max"
      ],
      "metadata": {
        "colab": {
          "base_uri": "https://localhost:8080/"
        },
        "id": "wD6uIwC4Q6WL",
        "outputId": "1c301729-ddff-4d29-da1e-64a685582db9"
      },
      "execution_count": 16,
      "outputs": [
        {
          "output_type": "execute_result",
          "data": {
            "text/plain": [
              "([-1, 3], [12, -12], [-3, 29])"
            ]
          },
          "metadata": {},
          "execution_count": 16
        }
      ]
    }
  ]
}