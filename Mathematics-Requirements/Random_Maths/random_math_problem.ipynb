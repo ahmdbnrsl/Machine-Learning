{
  "nbformat": 4,
  "nbformat_minor": 0,
  "metadata": {
    "colab": {
      "provenance": [],
      "gpuType": "V28",
      "authorship_tag": "ABX9TyM9iYu5ePvGHNBwp6vC9EhW",
      "include_colab_link": true
    },
    "kernelspec": {
      "name": "python3",
      "display_name": "Python 3"
    },
    "language_info": {
      "name": "python"
    },
    "accelerator": "TPU"
  },
  "cells": [
    {
      "cell_type": "markdown",
      "metadata": {
        "id": "view-in-github",
        "colab_type": "text"
      },
      "source": [
        "<a href=\"https://colab.research.google.com/github/ahmdbnrsl/Machine-Learning/blob/main/Mathematics-Requirements/Random_Maths/random_math_problem.ipynb\" target=\"_parent\"><img src=\"https://colab.research.google.com/assets/colab-badge.svg\" alt=\"Open In Colab\"/></a>"
      ]
    },
    {
      "cell_type": "markdown",
      "source": [
        "$$\\sum\\\\[0.5cm]\n",
        "\\left\\{\\text{ SIG}\\Sigma\\text{ATHS }\\right\\}$$\n",
        "---"
      ],
      "metadata": {
        "id": "-xzJHBsKjC1U"
      }
    },
    {
      "cell_type": "markdown",
      "source": [
        "$$\\sqrt{\\frac{6^3 + 12^3}{6^3}}\\\\\n",
        "\\sqrt{\\frac{6^3+2^3\\cdot6^3}{6^3}}\\\\\n",
        "\\sqrt{\\frac{6^3(8+1)}{6^3}}\\\\\n",
        "\\sqrt{9} = 3$$"
      ],
      "metadata": {
        "id": "ZQlhX0TTjpv9"
      }
    },
    {
      "cell_type": "code",
      "source": [
        "((6**3 + 12**3)/6**3)**(1/2)"
      ],
      "metadata": {
        "colab": {
          "base_uri": "https://localhost:8080/"
        },
        "id": "wZeGJjMmoDtW",
        "outputId": "c1bfefe5-5703-43c3-ab0b-ac9685cbc25d"
      },
      "execution_count": null,
      "outputs": [
        {
          "output_type": "execute_result",
          "data": {
            "text/plain": [
              "3.0"
            ]
          },
          "metadata": {},
          "execution_count": 1
        }
      ]
    },
    {
      "cell_type": "markdown",
      "source": [
        "$$\\int_0^\\infty \\frac{10\\sin(x)}{2x}\\ dx\\\\\n",
        "5 \\int_0^\\infty \\frac{\\sin(x)}{x}\\ dx\\\\\n",
        "5 \\left[\\text{Si}(x)\\right]_0^\\infty\\\\\n",
        "5 \\left(\\frac{\\pi}{2} - 0\\right)\\\\\n",
        "\\frac{5\\pi}{2}$$"
      ],
      "metadata": {
        "id": "OgckYC-KoQwi"
      }
    },
    {
      "cell_type": "code",
      "source": [
        "import sympy as sp\n",
        "x = sp.symbols('x')\n",
        "sp.integrate((10*sp.sin(x))/(2*x), (x, 0, float('inf')))"
      ],
      "metadata": {
        "colab": {
          "base_uri": "https://localhost:8080/",
          "height": 51
        },
        "id": "dIhE4NUIiXHu",
        "outputId": "05f58c37-5d7d-4e01-c079-984f5f048f3f"
      },
      "execution_count": null,
      "outputs": [
        {
          "output_type": "execute_result",
          "data": {
            "text/plain": [
              "5*pi/2"
            ],
            "text/latex": "$\\displaystyle \\frac{5 \\pi}{2}$"
          },
          "metadata": {},
          "execution_count": 4
        }
      ]
    },
    {
      "cell_type": "markdown",
      "source": [
        "$$\\frac{x^2 - 1}{x - 1} = 2$$\n",
        "\n",
        "$$x^2 - 1 = 2x - 2$$\n",
        "\n",
        "$$- 1 = 2x - 2 - x^2$$\n",
        "\n",
        "$$-x^2+2x-2 = -1$$\n",
        "\n",
        "$$-x^2+2x-1 = 0$$\n",
        "\n",
        "$$x_1 = \\frac{-b + \\sqrt{b^2 - 4ac}}{2a} = \\frac{-2 + \\sqrt{2^2 - 4(-1)(-1)}}{2(-1)} = \\frac{-2}{-2} = 1$$\n",
        "\n",
        "$$x_1 = \\frac{-b - \\sqrt{b^2 - 4ac}}{2a} = \\frac{-2 - \\sqrt{2^2 - 4(-1)(-1)}}{2(-1)} = \\frac{-2}{-2} = 1$$"
      ],
      "metadata": {
        "id": "DVvfkVjccfZN"
      }
    },
    {
      "cell_type": "code",
      "source": [
        "import sympy as sp\n",
        "x = sp.symbols('x')\n",
        "sp.factor(((x**2 - 1)/(x - 1)) - 2)\n",
        "sp.solve(sp.Eq((x**2 - 1)/(x - 1), 2), x)"
      ],
      "metadata": {
        "colab": {
          "base_uri": "https://localhost:8080/"
        },
        "id": "Lddoih_Wf7V1",
        "outputId": "aff3fd4d-0c60-4b83-804b-6dc0b4e18d18"
      },
      "execution_count": null,
      "outputs": [
        {
          "output_type": "execute_result",
          "data": {
            "text/plain": [
              "[]"
            ]
          },
          "metadata": {},
          "execution_count": 21
        }
      ]
    },
    {
      "cell_type": "markdown",
      "source": [
        "$$f(x) = \\int 2x - 2\\ \\text{d}x\\\\[1cm]\n",
        "\\frac{\\pi^{2^{-1}}}{\\Gamma\\left(\\frac{1}{2}\\right)} + f(\\Gamma(4)) \\cdot \\int_{-1}^1\\int_{-1}^1 \\left|x + y\\right|\\ \\text{d}x\\ \\text{d}y$$"
      ],
      "metadata": {
        "id": "UiqD2F4eoE5G"
      }
    },
    {
      "cell_type": "markdown",
      "source": [
        "$$\\lim_{x \\to -2} \\left(\\frac{x^3 + 8}{x + 2}\\right)\\\\\n",
        "\\lim_{x \\to -2} \\left(\\frac{x^3 + 2^3}{x + 2}\\right)\\\\\n",
        "\\lim_{x \\to -2} \\left(\\frac{(x + 2)(x^2 - 2x + 4)}{x + 2}\\right)\\\\\n",
        "\\lim_{x \\to -2} (x^2 - 2x + 4)\\\\\n",
        "(-2)^2 - 2(-2) + 4 = 4 + 4 + 4 = 12$$\n",
        "\\\n",
        "$$\\text{L'hopital's rule}$$\n",
        "\\\n",
        "$$\\lim_{x \\to -2} \\left(\\frac{x^3 + 8}{x + 2}\\right)\\\\\n",
        "\\lim_{x \\to -2} \\left({3x^2}\\right)\\\\\n",
        "3(-2)^2 = 3(4) = 12\n",
        "$$"
      ],
      "metadata": {
        "id": "yxyzk1o3vJzw"
      }
    },
    {
      "cell_type": "code",
      "source": [
        "import sympy as sp\n",
        "x = sp.symbols('x')\n",
        "sp.limit((x**3 + 8)/(x + 2), x, -2)"
      ],
      "metadata": {
        "colab": {
          "base_uri": "https://localhost:8080/",
          "height": 37
        },
        "id": "VUAvmKGewyUZ",
        "outputId": "87d9cf73-7458-458d-f9b6-51227a9a3697"
      },
      "execution_count": null,
      "outputs": [
        {
          "output_type": "execute_result",
          "data": {
            "text/plain": [
              "12"
            ],
            "text/latex": "$\\displaystyle 12$"
          },
          "metadata": {},
          "execution_count": 3
        }
      ]
    },
    {
      "cell_type": "markdown",
      "source": [
        "$$\\frac{x}{2} + \\frac{2}{x} = 2,\\ \\text{then}\\ x^{1024} + \\frac{4^{1024}}{x^{1024}} = 2^k,\\ \\text{find }\\ k\\\\\n",
        "\\frac{x^2 + 4}{2x} = 2,\\ x^2 + 4 = 4x,\\ 4x - x^2 = 4,\\ x(4 - x) = 4,\\ 4 - x = \\frac{4}{x},\\ x = 2\\\\\n",
        "2^{1024} + \\frac{4^{1024}}{2^{1024}} = 2^k\\\\\n",
        "2^{1024} + \\frac{2^{2048}}{2^{1024}} = 2^{1024} + 2^{2048 - 1024} = 2^{1024} + 2^{1024} = 2 \\cdot 2^{1024} = 2^{1025} = 2^k,\\ \\text{so }k = 1025$$"
      ],
      "metadata": {
        "id": "qB44jna26Bbj"
      }
    }
  ]
}