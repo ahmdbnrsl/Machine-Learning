{
 "cells": [
  {
   "cell_type": "code",
   "execution_count": 1,
   "id": "048431c1",
   "metadata": {},
   "outputs": [
    {
     "name": "stdout",
     "output_type": "stream",
     "text": [
      "Requirement already satisfied: numpy in c:\\users\\win 10\\appdata\\local\\programs\\python\\python313\\lib\\site-packages (2.2.4)\n",
      "Note: you may need to restart the kernel to use updated packages.\n"
     ]
    },
    {
     "name": "stderr",
     "output_type": "stream",
     "text": [
      "\n",
      "[notice] A new release of pip is available: 24.3.1 -> 25.0.1\n",
      "[notice] To update, run: python.exe -m pip install --upgrade pip\n"
     ]
    }
   ],
   "source": [
    "pip install numpy"
   ]
  },
  {
   "cell_type": "code",
   "execution_count": 12,
   "id": "cc744a4b",
   "metadata": {},
   "outputs": [
    {
     "name": "stdout",
     "output_type": "stream",
     "text": [
      "(['YES'], {'yes': np.float64(0.7142857142857143), 'no': np.float64(0.2857142857142857)})\n",
      "14\n"
     ]
    },
    {
     "data": {
      "text/plain": [
       "'\\n{0: {0: {0: , 1: } }, 1, 2}\\n'"
      ]
     },
     "execution_count": 12,
     "metadata": {},
     "output_type": "execute_result"
    }
   ],
   "source": [
    "import numpy as np\n",
    "from collections import defaultdict\n",
    "\n",
    "\n",
    "# MODEL\n",
    "class NaiveBayes:\n",
    "    def __init__(self, data, label):\n",
    "        self.data, self.label = data, label\n",
    "        self.probability, self.train = {}, False\n",
    "        self.records, self.feature =  np.shape(self.data)\n",
    "        \n",
    "    def fit(self):\n",
    "        feature = self.feature\n",
    "        \n",
    "        for i in range(feature):\n",
    "            category, temp, pos_dict = self.data[:, i], {}, defaultdict(list)\n",
    "            \n",
    "            for idx, val in enumerate(category):\n",
    "                pos_dict[val].append(idx)\n",
    "            \n",
    "            pos_dict = dict(pos_dict)\n",
    "            for key, value in pos_dict.items():\n",
    "                temp[key] = {}\n",
    "                \n",
    "                count_yes, count_no = 0, 0\n",
    "                \n",
    "                for val in value:\n",
    "                    if self.label[val] == 1:\n",
    "                        count_yes += 1\n",
    "                        temp[key][self.label[val]] = count_yes\n",
    "                    else:\n",
    "                        count_no += 1\n",
    "                        temp[key][self.label[val]] = count_no\n",
    "                    \n",
    "                \n",
    "            self.probability[i] = temp\n",
    "        self.train = True\n",
    "        \n",
    "    def predict(self, new_data):\n",
    "        if not self.train:\n",
    "            raise Exception(\"The model is not trained\")\n",
    "        else:\n",
    "            _, counts = np.unique(self.label, return_counts=True)\n",
    "            no, yes = counts\n",
    "            P_yes, P_no = yes / self.records, no / self.records\n",
    "            \n",
    "            result = []\n",
    "            \n",
    "            for _, data in enumerate(new_data):\n",
    "                new_yes, new_no = 1, 1\n",
    "                \n",
    "                for i, feature in enumerate(data):\n",
    "                    is_yes_no = self.probability[i][feature]\n",
    "                    \n",
    "                    if 1 not in is_yes_no:\n",
    "                        new_no *= is_yes_no[0] / no\n",
    "                        continue\n",
    "                    elif 0 not in is_yes_no:\n",
    "                        new_yes *= is_yes_no[1] / yes\n",
    "                        continue\n",
    "                    else:\n",
    "                        new_no *= is_yes_no[0] / no\n",
    "                        new_yes *= is_yes_no[1] / yes\n",
    "                    \n",
    "                \n",
    "                new_yes *= P_yes\n",
    "                new_no *= P_no\n",
    "                \n",
    "                if new_yes > new_no:\n",
    "                    is_result = \"YES\"\n",
    "                else:\n",
    "                    is_result = \"NO\"\n",
    "                \n",
    "                result.append(is_result)\n",
    "                \n",
    "            return result, {\"yes\": P_yes, \"no\": P_no}\n",
    "            \n",
    "\n",
    "# DATASET\n",
    "age = [\"old\", \"young\", \"mid-age\"]\n",
    "gender = [\"male\", \"female\"]\n",
    "payment_method = [\"cash\", \"credit-card\", \"cheque\"]\n",
    "future_customer = [\"no\", \"yes\"]\n",
    "\n",
    "\n",
    "data = np.array([\n",
    "    [0, 0, 1],\n",
    "    [1, 0, 2],\n",
    "    [1, 1, 1],\n",
    "    [1, 1, 1],\n",
    "    [1, 0, 1],\n",
    "    [1, 1, 2],\n",
    "    [1, 1, 1],\n",
    "    [2, 0, 1],\n",
    "    [0, 1, 1],\n",
    "    [1, 0, 1],\n",
    "    [1, 0, 1],\n",
    "    [2, 1, 0],\n",
    "    [1, 0, 0],\n",
    "    [1, 0, 1]\n",
    "])\n",
    "\n",
    "\n",
    "label = np.array([1,1,1,0,1,0,1,1,0,1,1,0,1,1])\n",
    "\n",
    "\n",
    "nb = NaiveBayes(data, label)\n",
    "nb.fit()\n",
    "new_data = np.array([[0, 0, 1]])\n",
    "\n",
    "result = nb.predict(new_data)\n",
    "\n",
    "print(result)        \n",
    "\n",
    "print(len(data))\n",
    "\n",
    "'''\n",
    "{0: {0: {0: , 1: } }, 1, 2}\n",
    "'''"
   ]
  }
 ],
 "metadata": {
  "kernelspec": {
   "display_name": "Python 3",
   "language": "python",
   "name": "python3"
  },
  "language_info": {
   "codemirror_mode": {
    "name": "ipython",
    "version": 3
   },
   "file_extension": ".py",
   "mimetype": "text/x-python",
   "name": "python",
   "nbconvert_exporter": "python",
   "pygments_lexer": "ipython3",
   "version": "3.13.1"
  }
 },
 "nbformat": 4,
 "nbformat_minor": 5
}
