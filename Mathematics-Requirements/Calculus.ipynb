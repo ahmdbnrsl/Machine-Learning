{
  "nbformat": 4,
  "nbformat_minor": 0,
  "metadata": {
    "colab": {
      "provenance": [],
      "authorship_tag": "ABX9TyOF9emOobTnw9leFfppDk4R",
      "include_colab_link": true
    },
    "kernelspec": {
      "name": "python3",
      "display_name": "Python 3"
    },
    "language_info": {
      "name": "python"
    }
  },
  "cells": [
    {
      "cell_type": "markdown",
      "metadata": {
        "id": "view-in-github",
        "colab_type": "text"
      },
      "source": [
        "<a href=\"https://colab.research.google.com/github/ahmdbnrsl/Machine-Learning/blob/main/Mathematics-Requirements/Calculus.ipynb\" target=\"_parent\"><img src=\"https://colab.research.google.com/assets/colab-badge.svg\" alt=\"Open In Colab\"/></a>"
      ]
    },
    {
      "cell_type": "markdown",
      "source": [
        "**CALCULUS AND OPTIMIZATION**"
      ],
      "metadata": {
        "id": "T-CEzu1WoFtP"
      }
    },
    {
      "cell_type": "markdown",
      "source": [
        "**1. Extrema**\n",
        "\n",
        "\"Much of machine learning is about minimizing a cost function\"\n",
        "=> Banyak aspek dalam machine learning itu intinya adalah meminimalkan fungsi biaya.\n",
        "Maksudnya, kita ingin model kita belajar dari data sedemikian rupa agar kesalahan prediksinya sekecil mungkin.\n",
        "\"(also called an objective function in the optimization community)\"\n",
        "=> Di kalangan orang-orang yang fokus pada bidang optimasi matematis, cost function juga dikenal dengan nama objective function.\n",
        "Jadi dua istilah ini mirip, cuma beda konteks:\n",
        "\n",
        "ML → cost/loss function\n",
        "\n",
        "Optimization → objective function\n",
        "\n",
        "\"which is a scalar function of several variables\"\n",
        "=> Fungsi ini menghasilkan nilai skalar (misalnya: 0.25, 17.8, dst),\n",
        "dan nilai itu tergantung pada banyak variabel (misalnya: bobot model, bias, dll).\n",
        "Jadi secara matematis, bentuknya kayak:\n",
        "\n",
        "$J(\\theta_1, \\theta_2, \\dots, \\theta_n) \\in \\mathbb{R}$\n",
        "\n",
        "\"that typically measures how poorly our model fits the data we have.\"\n",
        "=> Nilai dari cost function ini menunjukkan seberapa buruk model kita mempelajari data.\n",
        "Semakin tinggi nilainya → semakin jelek model kita.\n",
        "Jadi target kita? Minimalkan nilai ini.\n",
        "\n",
        "contoh soal :\n",
        "\n",
        "tentukan nilai minima dan maxima dari : $f(x) = -x^3 + 3x^2 + 9x + 2$\n",
        "\n",
        "langkah-langkah :\n",
        "\n",
        "1. Turunkan fungsi terlebih dahulu\n",
        "\n",
        "$f'(x) = -3x^2 + 6x$\n",
        "\n",
        "2. Cari titik kritis (Critical Point) : $f'(x) = 0$\n",
        "\n",
        "cari $x$ atau domain yang memenuhi persamaan $-3x^2 + 6x = 0$\n",
        "\n",
        "maka ketemulah $-1, 3$\n",
        "\n",
        "3. Turunkan fungsi lagi $f''(x)$\n",
        "\n",
        "$f''(x) = -6x + 6$\n",
        "\n",
        "4. Subtitusikan critical points ke $f''(x)$\n",
        "\n",
        "$f''(-1) = -6(-1) + 6 = 12, > 0$ maka ini adalah nilai minimum\n",
        "\n",
        "$f''(3) = -6(3) + 6 = -12, < 0$ maka ini adalah nilai maksimum\n",
        "\n",
        "5. Subtitusikan Critical points ke $f(x)$\n",
        "\n",
        "$f(-1) = -1(-1)^3 + 3(-1)^2 + 9(-1) + 2 = -3$\n",
        "\n",
        "$f(3) = -3^3 + 3(3)^2 + 9(3) + 2 = 29$\n",
        "\n",
        "nilai minimanya adalah : $(-1, -3)$\n",
        "\n",
        "nilai maximanya adalah : $(3, 29)$"
      ],
      "metadata": {
        "id": "RJFp25q4ofPs"
      }
    },
    {
      "cell_type": "code",
      "source": [
        "import sympy as sp\n",
        "\n",
        "x = sp.symbols('x')\n",
        "\n",
        "f = -x**3 + 3*(x**2) + 9*x + 2\n",
        "\n",
        "# turunan 1\n",
        "f_1 = sp.diff(f, x)\n",
        "\n",
        "# critical point\n",
        "eq = sp.Eq(f_1, 0)\n",
        "critical_point = sp.solve(eq, x)\n",
        "\n",
        "# turunan 2\n",
        "f_2 = sp.diff(f_1)\n",
        "\n",
        "# subtitusi critical point ke f''(x)\n",
        "min_max = []\n",
        "for i in critical_point:\n",
        "    min_max.append(f_2.subs({x : i}))\n",
        "\n",
        "# subtitusi critical point ke f(x)\n",
        "locale_min_max = []\n",
        "for i in critical_point:\n",
        "    locale_min_max.append(f.subs({x : i}))\n",
        "\n",
        "critical_point, min_max, locale_min_max"
      ],
      "metadata": {
        "colab": {
          "base_uri": "https://localhost:8080/"
        },
        "id": "wD6uIwC4Q6WL",
        "outputId": "922448f6-d441-4fad-891c-8c133a76289b"
      },
      "execution_count": null,
      "outputs": [
        {
          "output_type": "execute_result",
          "data": {
            "text/plain": [
              "([-1, 3], [12, -12], [-3, 29])"
            ]
          },
          "metadata": {},
          "execution_count": 17
        }
      ]
    },
    {
      "cell_type": "markdown",
      "source": [
        "Local maxima dan minima pada fungsi multi variable\n",
        "\n",
        "contoh : cari titik maximum minimum dari $f(x, y) = x^3 + y^3 - 3xy$\n",
        "\n",
        "langkah-langkah :\n",
        "\n",
        "cari turunan parsial pertama dari x, dan y\n",
        "\n",
        "turunkan $f_x$ anggap $y$ sebagai konstanta\n",
        "\n",
        "$f_x = 3x^2 - 3y$\n",
        "\n",
        "turunkan $f_y$ anggap $x$ sebagai konstanta\n",
        "\n",
        "$f_y = 3y^2 - 3x$\n",
        "\n",
        "cari titik kritis, jika masih ada 2 variable, gunakan sistem persamaan\n",
        "\n",
        "$f_x = 3x^2 - 3y$ => $x^2 = y$\n",
        "\n",
        "$f_y = 3y^2 - 3x$ => $y^2 = x$\n",
        "\n",
        "maka satu-satunya solusi adalah 0, dan 1, untuk $x, y$\n",
        "\n",
        "cari $f_xx$ dan $f_yy$\n",
        "\n",
        "$f_xx = 6x$\n",
        "\n",
        "$f_yy = 6y$\n",
        "\n",
        "cari $f_xy$\n",
        "\n",
        "$f_xy = 3$\n",
        "\n",
        "cari diskriminan $D = f_xx.f_yy - (f_xy)^2$\n",
        "\n",
        "$D = (6x)(6y) - (3)^2$\n",
        "\n",
        "subtitusi titik kritis ke $f_xx$ dan $f_yy$\n",
        "\n",
        "- titik kritis $(1, 1)$\n",
        "\n",
        "$D = (6)(6) - (3)^2 = 27$ Local Minimum\n",
        "\n",
        "- titik kritis $(0, 0)$\n",
        "\n",
        "$D = 0 - (3)^2 = -9$ => Saddle Point\n",
        "\n",
        "Subtitusi titik kritis ke $f(x, y)$\n",
        "\n",
        "- titik kritis (1, 1)\n",
        "\n",
        "$f(1, 1) = 1^3 + 1^3 - 3(1)(1) = -1$ =>  $(1, 1, -1)$\n",
        "\n",
        "Local Minimum : $-1$\n",
        "\n",
        "- titik kritis (0, 0)\n",
        "\n",
        "$f(0, 0) = 0$ => $(0, 0, 0)$\n",
        "\n",
        "Saddle Point : $0$"
      ],
      "metadata": {
        "id": "KTIb7CV7b1WR"
      }
    },
    {
      "cell_type": "code",
      "source": [
        "import sympy as sp\n",
        "\n",
        "x, y = sp.symbols('x y')\n",
        "\n",
        "def f_1(x, y):\n",
        "    return x**3 + y**3 - 3*x*y\n",
        "\n",
        "# turunan pertama f(x) dan f(y)\n",
        "f_x = sp.diff(f_1(x, y), (x))\n",
        "f_y = sp.diff(f_1(x, y), (y))\n",
        "\n",
        "# titik kritis x dan y\n",
        "critical_points = sp.solve([f_x, f_y], (x, y))\n",
        "\n",
        "# turunan kedua\n",
        "f_xx = sp.diff(f_x, x)\n",
        "f_yy = sp.diff(f_y, y)\n",
        "\n",
        "# turunan x terhadap y\n",
        "f_xy = sp.diff(f_x, y)\n",
        "\n",
        "# Diskriminant\n",
        "D = f_xx * f_yy - f_xy**2\n",
        "\n",
        "results = []\n",
        "for i, j in critical_points:\n",
        "    print(\"Diskriminant :\", D.subs({x: i, y: j}))\n",
        "    print(\"Subtitusi f(x, y) :\", f_1(x, y).subs({x:i, y:j}))"
      ],
      "metadata": {
        "id": "j9BijqE_gDyX",
        "colab": {
          "base_uri": "https://localhost:8080/"
        },
        "outputId": "6f542f11-416b-4ff2-dcf8-d78864d2c6c1"
      },
      "execution_count": 14,
      "outputs": [
        {
          "output_type": "stream",
          "name": "stdout",
          "text": [
            "Diskriminant : -9\n",
            "Subtitusi f(x, y) : 0\n",
            "Diskriminant : 27\n",
            "Subtitusi f(x, y) : -1\n",
            "Diskriminant : -9 + 36*(-1/2 - sqrt(3)*I/2)**3\n",
            "Subtitusi f(x, y) : (-1/2 - sqrt(3)*I/2)**6 - 2*(-1/2 - sqrt(3)*I/2)**3\n",
            "Diskriminant : -9 + 36*(-1/2 + sqrt(3)*I/2)**3\n",
            "Subtitusi f(x, y) : -2*(-1/2 + sqrt(3)*I/2)**3 + (-1/2 + sqrt(3)*I/2)**6\n"
          ]
        }
      ]
    }
  ]
}